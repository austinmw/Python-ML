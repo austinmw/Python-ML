{
 "cells": [
  {
   "cell_type": "markdown",
   "metadata": {},
   "source": [
    "# [Scikit-Learn Classifier Comparison](http://scikit-learn.org/stable/auto_examples/classification/plot_classifier_comparison.html)\n",
    "\n",
    "\n",
    "A comparison of a several classifiers in scikit-learn on synthetic datasets.\n",
    "The point of this example is to illustrate the nature of decision boundaries\n",
    "of different classifiers.\n",
    "This should be taken with a grain of salt, as the intuition conveyed by\n",
    "these examples does not necessarily carry over to real datasets.\n",
    "\n",
    "Particularly in high-dimensional spaces, data can more easily be separated\n",
    "linearly and the simplicity of classifiers such as naive Bayes and linear SVMs\n",
    "might lead to better generalization than is achieved by other classifiers.\n",
    "\n",
    "The plots show training points in solid colors and testing points\n",
    "semi-transparent. The lower right shows the classification accuracy on the test\n",
    "set.\n"
   ]
  },
  {
   "cell_type": "code",
   "execution_count": 170,
   "metadata": {
    "collapsed": true
   },
   "outputs": [],
   "source": [
    "# Code source: Gaël Varoquaux\n",
    "#              Andreas Müller\n",
    "# Modified for documentation by Jaques Grobler\n",
    "# License: BSD 3 clause\n",
    "\n",
    "# Edited slightly by Austin Welch"
   ]
  },
  {
   "cell_type": "markdown",
   "metadata": {},
   "source": [
    "#### Imports:"
   ]
  },
  {
   "cell_type": "code",
   "execution_count": 1,
   "metadata": {
    "collapsed": false
   },
   "outputs": [],
   "source": [
    "import numpy as np # numpy\n",
    "import matplotlib.pyplot as plt # plotting\n",
    "from matplotlib.colors import ListedColormap # Colormap object generated from a list of colors\n",
    "from sklearn.model_selection import train_test_split # train/test splitter\n",
    "from sklearn.preprocessing import StandardScaler # standardization\n",
    "from sklearn.datasets import make_moons, make_circles, make_classification # generate data\n",
    "from sklearn.neural_network import MLPClassifier # multi-layer Perceptron classifier\n",
    "from sklearn.neighbors import KNeighborsClassifier # knn classifier\n",
    "from sklearn.svm import SVC # svm classifier\n",
    "from sklearn.gaussian_process import GaussianProcessClassifier # GPC based on Laplace approximation\n",
    "from sklearn.gaussian_process.kernels import RBF # radial basis function kernel\n",
    "from sklearn.tree import DecisionTreeClassifier # decision tree classifier\n",
    "from sklearn.ensemble import RandomForestClassifier, AdaBoostClassifier # random forest, adaboost\n",
    "from sklearn.naive_bayes import GaussianNB # gaussian naive bayes classifier\n",
    "from sklearn.discriminant_analysis import QuadraticDiscriminantAnalysis # QDA classifier\n",
    "%matplotlib inline"
   ]
  },
  {
   "cell_type": "markdown",
   "metadata": {},
   "source": [
    "#### Create list of classifiers"
   ]
  },
  {
   "cell_type": "code",
   "execution_count": 2,
   "metadata": {
    "collapsed": true
   },
   "outputs": [],
   "source": [
    "# list of classifier names (10 total)\n",
    "names = [\"Nearest Neighbors\", \"Linear SVM\", \"RBF SVM\", \"Gaussian Process\",\n",
    "         \"Decision Tree\", \"Random Forest\", \"Neural Net\", \"AdaBoost\",\n",
    "         \"Naive Bayes\", \"QDA\"]\n",
    "\n",
    "# classifiers list with parameters\n",
    "classifiers = [\n",
    "    KNeighborsClassifier(3),\n",
    "    SVC(kernel=\"linear\", C=0.025),\n",
    "    SVC(gamma=2, C=1),\n",
    "    GaussianProcessClassifier(1.0 * RBF(1.0), warm_start=True),\n",
    "    DecisionTreeClassifier(max_depth=5),\n",
    "    RandomForestClassifier(max_depth=5, n_estimators=10, max_features=1),\n",
    "    MLPClassifier(alpha=1, hidden_layer_sizes=[100], max_iter=2000), # added last two params to prevent non-converge warning\n",
    "    AdaBoostClassifier(),\n",
    "    GaussianNB(),\n",
    "    QuadraticDiscriminantAnalysis()]"
   ]
  },
  {
   "cell_type": "markdown",
   "metadata": {},
   "source": [
    "#### Generate data"
   ]
  },
  {
   "cell_type": "markdown",
   "metadata": {},
   "source": [
    "##### Dataset 1"
   ]
  },
  {
   "cell_type": "code",
   "execution_count": 3,
   "metadata": {
    "collapsed": false
   },
   "outputs": [
    {
     "data": {
      "text/plain": [
       "<matplotlib.collections.PathCollection at 0x110adc748>"
      ]
     },
     "execution_count": 3,
     "metadata": {},
     "output_type": "execute_result"
    },
    {
     "data": {
      "image/png": "[encoded data removed]",
      "text/plain": [
       "<matplotlib.figure.Figure at 0x107d83710>"
      ]
     },
     "metadata": {},
     "output_type": "display_data"
    }
   ],
   "source": [
    "# generate a random n-class classification problem.\n",
    "X, y = make_classification(n_features=2, n_redundant=0, n_informative=2,\n",
    "                           random_state=1, n_clusters_per_class=1)\n",
    "\n",
    "# add some uniform noise to the two clusters to bring them closer together\n",
    "rng = np.random.RandomState(2)\n",
    "X += 2 * rng.uniform(size=X.shape)\n",
    "linearly_separable = (X, y) # single tuple of (list of lists {X, 100x2},  list (y, 100x1))\n",
    "\n",
    "# show this data (added, with colors)\n",
    "x1,x2 = zip(*X)\n",
    "plt.scatter(np.array(x1)[y==0],np.array(x2)[y==0], c='r')\n",
    "plt.scatter(np.array(x1)[y==1],np.array(x2)[y==1], c='b')"
   ]
  },
  {
   "cell_type": "markdown",
   "metadata": {},
   "source": [
    "##### Dataset 2"
   ]
  },
  {
   "cell_type": "code",
   "execution_count": 4,
   "metadata": {
    "collapsed": false
   },
   "outputs": [
    {
     "data": {
      "text/plain": [
       "<matplotlib.collections.PathCollection at 0x113cd5518>"
      ]
     },
     "execution_count": 4,
     "metadata": {},
     "output_type": "execute_result"
    },
    {
     "data": {
      "image/png": "[encoded data removed]",
      "text/plain": [
       "<matplotlib.figure.Figure at 0x1107e1dd8>"
      ]
     },
     "metadata": {},
     "output_type": "display_data"
    }
   ],
   "source": [
    "# generate two interleaving half circles\n",
    "Xmoon, ymoon = make_moons(noise=0.3, random_state=0)\n",
    "\n",
    "# show this data\n",
    "x1,x2 = zip(*Xmoon)\n",
    "plt.scatter(np.array(x1)[ymoon==0],np.array(x2)[ymoon==0], c='r')\n",
    "plt.scatter(np.array(x1)[ymoon==1],np.array(x2)[ymoon==1], c='b')"
   ]
  },
  {
   "cell_type": "markdown",
   "metadata": {},
   "source": [
    "##### Dataset 3"
   ]
  },
  {
   "cell_type": "code",
   "execution_count": 5,
   "metadata": {
    "collapsed": false
   },
   "outputs": [
    {
     "data": {
      "text/plain": [
       "<matplotlib.collections.PathCollection at 0x113ee5400>"
      ]
     },
     "execution_count": 5,
     "metadata": {},
     "output_type": "execute_result"
    },
    {
     "data": {
      "image/png": "[encoded data removed]",
      "text/plain": [
       "<matplotlib.figure.Figure at 0x113e594e0>"
      ]
     },
     "metadata": {},
     "output_type": "display_data"
    }
   ],
   "source": [
    "# generate a large circle containing a smaller circle in 2d\n",
    "Xcirc, ycirc = make_circles(noise=0.2, factor=0.5, random_state=1)\n",
    "\n",
    "# show this data\n",
    "x1,x2 = zip(*Xcirc)\n",
    "plt.scatter(np.array(x1)[ycirc==0],np.array(x2)[ycirc==0], c='r')\n",
    "plt.scatter(np.array(x1)[ycirc==1],np.array(x2)[ycirc==1], c='b')"
   ]
  },
  {
   "cell_type": "markdown",
   "metadata": {},
   "source": [
    "##### list of the three datasets (moons, circles easily generated again)"
   ]
  },
  {
   "cell_type": "code",
   "execution_count": 6,
   "metadata": {
    "collapsed": true
   },
   "outputs": [],
   "source": [
    "datasets = [make_moons(noise=0.3, random_state=0),\n",
    "            make_circles(noise=0.2, factor=0.5, random_state=1),\n",
    "            linearly_separable\n",
    "            ]"
   ]
  },
  {
   "cell_type": "markdown",
   "metadata": {},
   "source": [
    "##### Main loop\n",
    "\n",
    "Iterates over each of the three generated datasets, plots the data (train and test data, where test data is semi-transparent), then iterates over each of the 10 classifiers and plots the decision boundaries with the same data overlaid."
   ]
  },
  {
   "cell_type": "code",
   "execution_count": null,
   "metadata": {
    "collapsed": false
   },
   "outputs": [],
   "source": [
    "# create figure\n",
    "figure = plt.figure(figsize=(27, 9))\n",
    "\n",
    "\n",
    "h = .02  # step size in the mesh \n",
    "i = 1 # plot axis number (33 total, 3x11)\n",
    "\n",
    "\n",
    "# iterate over each dataset\n",
    "for ds_cnt, ds in enumerate(datasets):\n",
    "    \n",
    "    # preprocess dataset, split into training and test part\n",
    "    X, y = ds \n",
    "    X = StandardScaler().fit_transform(X) # determine standardization and apply to data\n",
    "    # split X and y to 60% train and 40% test\n",
    "    X_train, X_test, y_train, y_test = train_test_split(X, y, test_size=.4, random_state=42)\n",
    "\n",
    "    # create meshgrid of min/max values for each feature dimension, with padding    \n",
    "    x_min, x_max = X[:, 0].min() - .5, X[:, 0].max() + .5 # 1st feature\n",
    "    y_min, y_max = X[:, 1].min() - .5, X[:, 1].max() + .5 # 2nd feature\n",
    "    # returns 2-D grid coordinates based on the coordinates contained in vectors x and y. \n",
    "    # X is a matrix where each row is a copy of x, \n",
    "    # and Y is a matrix where each column is a copy of y.\n",
    "    xx, yy = np.meshgrid(np.arange(x_min, x_max, h),\n",
    "                         np.arange(y_min, y_max, h))\n",
    "\n",
    "    # just plot the dataset first\n",
    "    cm = plt.cm.RdBu # red/blue colormap for filled contour plot backgrounds\n",
    "    cm_bright = ListedColormap(['#FF0000', '#0000FF']) # colormap for train/test points\n",
    "    \n",
    "    # create one axis: nrows, ncols, plot_number  (3, 11, i)\n",
    "    ax = plt.subplot(len(datasets), len(classifiers) + 1, i) \n",
    "    \n",
    "    if ds_cnt == 0: # title for top of input column\n",
    "        ax.set_title(\"Input data\")\n",
    "    \n",
    "    # plot particule dataset in left-most column\n",
    "    # Plot the training points (c=y_train is sequence for colors, with cm_bright colormap)\n",
    "    ax.scatter(X_train[:,0], X_train[:,1], c=y_train, cmap=cm_bright)\n",
    "    # and testing points (test points are semi-transparent)\n",
    "    ax.scatter(X_test[:,0], X_test[:,1], c=y_test, cmap=cm_bright, alpha=0.6)\n",
    "    # set axis limits from earlier min/max padded values\n",
    "    ax.set_xlim(xx.min(), xx.max())\n",
    "    ax.set_ylim(yy.min(), yy.max())\n",
    "    # remove axis ticks\n",
    "    ax.set_xticks(())\n",
    "    ax.set_yticks(())\n",
    "    i += 1 # iterate subplot index\n",
    "\n",
    "    # iterate over classifiers (each column for particular dataset row, cols 1-11)\n",
    "    for name, clf in zip(names, classifiers): # simple way to iterate over both with one loop \n",
    "        ax = plt.subplot(len(datasets), len(classifiers) + 1, i) # create subplot\n",
    "        clf.fit(X_train, y_train) # fit classifier to training data for particular dataset\n",
    "        score = clf.score(X_test, y_test) # predict and score on corresponding test data\n",
    "\n",
    "        # Plot the decision boundary. For that, we will assign a color to each\n",
    "        # point in the mesh [x_min, x_max]x[y_min, y_max].\n",
    "        \n",
    "        # hasattr: built in function, arguments are an object and a string\n",
    "        # result is True if the string is the name of one of the object’s attribute\n",
    "        if hasattr(clf, \"decision_function\"): # if classifier has decision_function\n",
    "            \n",
    "            # ravel reshapes to vector  \n",
    "            # SVC's predict just uses its decision function, which is distance from the hyperplane. \n",
    "            # concatenate vectorized meshgrid outputs (70680, 2)\n",
    "            # # Z.shape = (70680,)\n",
    "            Z = clf.decision_function(np.c_[xx.ravel(), yy.ravel()]) \n",
    "                \n",
    "        else: # if no decision_function, use predicted_proba\n",
    "            # Z.shape still = (70680,)\n",
    "            Z = clf.predict_proba(np.c_[xx.ravel(), yy.ravel()])[:,1] # without [:,1] would be (70680,2)\n",
    "\n",
    "        # Put the result into a color plot\n",
    "        Z = Z.reshape(xx.shape) # Z.shape = (285, 248)  (xx.shape also = (285, 248))\n",
    "        ax.contourf(xx, yy, Z, cmap=cm, alpha=.8) # filled countour plot with grid by xx,yy and values by Z\n",
    "\n",
    "        # plot the training points\n",
    "        ax.scatter(X_train[:,0], X_train[:,1], c=y_train, cmap=cm_bright)\n",
    "        # plot the testing points\n",
    "        ax.scatter(X_test[:,0], X_test[:,1], c=y_test, cmap=cm_bright, alpha=0.6)\n",
    "\n",
    "        # set axis limits\n",
    "        ax.set_xlim(xx.min(), xx.max())\n",
    "        ax.set_ylim(yy.min(), yy.max())\n",
    "        # remove axis ticks\n",
    "        ax.set_xticks(())\n",
    "        ax.set_yticks(())\n",
    "        \n",
    "        # ds_cnt == 0 => top row\n",
    "        if ds_cnt == 0:\n",
    "            ax.set_title(name)\n",
    "        \n",
    "        # print score in bottom-right of plot (xpos, ypos, formatted text, size, alignment)\n",
    "        ax.text(xx.max() - .3, yy.min() + .3, ('%.2f' % score).lstrip('0'), size=15, horizontalalignment='right')\n",
    "        # iterate axis number\n",
    "        i += 1\n",
    "        \n",
    "# tight_layout automatically adjusts subplot params so that the subplot(s) fits in to the figure area.\n",
    "# This is an experimental feature and may not work for some cases. \n",
    "# It only checks the extents of ticklabels, axis labels, and titles.\n",
    "plt.tight_layout()\n",
    "# display plot\n",
    "plt.show() "
   ]
  }
 ],
 "metadata": {
  "kernelspec": {
   "display_name": "Python 3",
   "language": "python",
   "name": "python3"
  },
  "language_info": {
   "codemirror_mode": {
    "name": "ipython",
    "version": 3
   },
   "file_extension": ".py",
   "mimetype": "text/x-python",
   "name": "python",
   "nbconvert_exporter": "python",
   "pygments_lexer": "ipython3",
   "version": "3.6.0"
  }
 },
 "nbformat": 4,
 "nbformat_minor": 0
}
