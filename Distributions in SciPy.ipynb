{
 "cells": [
  {
   "cell_type": "code",
   "execution_count": 93,
   "metadata": {
    "collapsed": false
   },
   "outputs": [],
   "source": [
    "import scipy.stats as stats\n",
    "import scipy as sp\n",
    "import numpy as np\n",
    "import matplotlib as mpl\n",
    "from matplotlib import pyplot as plt\n",
    "%matplotlib inline"
   ]
  },
  {
   "cell_type": "code",
   "execution_count": 104,
   "metadata": {
    "collapsed": false,
    "scrolled": true
   },
   "outputs": [
    {
     "name": "stdout",
     "output_type": "stream",
     "text": [
      "==========================================\n",
      "Statistical functions (:mod:`scipy.stats`)\n",
      "==========================================\n",
      "\n",
      ".. module:: scipy.stats\n",
      "\n",
      "This module contains a large number of probability distributions as\n",
      "well as a growing library of statistical functions.\n",
      "\n",
      "Each univariate distribution is an instance of a subclass of `rv_continuous`\n",
      "(`rv_discrete` for discrete distributions):\n",
      "\n",
      ".. autosummary::\n",
      "   :toctree: generated/\n",
      "\n",
      "   rv_continuous\n",
      "   rv_discrete\n",
      "\n",
      "Continuous distributions\n",
      "========================\n",
      "\n",
      ".. autosummary::\n",
      "   :toctree: generated/\n",
      "\n",
      "   alpha             -- Alpha\n",
      "   anglit            -- Anglit\n",
      "   arcsine           -- Arcsine\n",
      "   beta              -- Beta\n",
      "   betaprime         -- Beta Prime\n",
      "   bradford          -- Bradford\n",
      "   burr              -- Burr (Type III)\n",
      "   burr12            -- Burr (Type XII)\n",
      "   cauchy            -- Cauchy\n",
      "   chi               -- Chi\n",
      "   chi2              -- Chi-squared\n",
      "   cosine            -- Cosine\n",
      "   dgamma            -- Double Gamma\n",
      "   dweibull          -- Double Weibull\n",
      "   erlang            -- Erlang\n",
      "   expon             -- Exponential\n",
      "   exponnorm         -- Exponentially Modified Normal\n",
      "   exponweib         -- Exponentiated Weibull\n",
      "   exponpow          -- Exponential Power\n",
      "   f                 -- F (Snecdor F)\n",
      "   fatiguelife       -- Fatigue Life (Birnbaum-Saunders)\n",
      "   fisk              -- Fisk\n",
      "   foldcauchy        -- Folded Cauchy\n",
      "   foldnorm          -- Folded Normal\n",
      "   frechet_r         -- Frechet Right Sided, Extreme Value Type II (Extreme LB) or weibull_min\n",
      "   frechet_l         -- Frechet Left Sided, Weibull_max\n",
      "   genlogistic       -- Generalized Logistic\n",
      "   gennorm           -- Generalized normal\n",
      "   genpareto         -- Generalized Pareto\n",
      "   genexpon          -- Generalized Exponential\n",
      "   genextreme        -- Generalized Extreme Value\n",
      "   gausshyper        -- Gauss Hypergeometric\n",
      "   gamma             -- Gamma\n",
      "   gengamma          -- Generalized gamma\n",
      "   genhalflogistic   -- Generalized Half Logistic\n",
      "   gilbrat           -- Gilbrat\n",
      "   gompertz          -- Gompertz (Truncated Gumbel)\n",
      "   gumbel_r          -- Right Sided Gumbel, Log-Weibull, Fisher-Tippett, Extreme Value Type I\n",
      "   gumbel_l          -- Left Sided Gumbel, etc.\n",
      "   halfcauchy        -- Half Cauchy\n",
      "   halflogistic      -- Half Logistic\n",
      "   halfnorm          -- Half Normal\n",
      "   halfgennorm       -- Generalized Half Normal\n",
      "   hypsecant         -- Hyperbolic Secant\n",
      "   invgamma          -- Inverse Gamma\n",
      "   invgauss          -- Inverse Gaussian\n",
      "   invweibull        -- Inverse Weibull\n",
      "   johnsonsb         -- Johnson SB\n",
      "   johnsonsu         -- Johnson SU\n",
      "   kappa4            -- Kappa 4 parameter\n",
      "   kappa3            -- Kappa 3 parameter\n",
      "   ksone             -- Kolmogorov-Smirnov one-sided (no stats)\n",
      "   kstwobign         -- Kolmogorov-Smirnov two-sided test for Large N (no stats)\n",
      "   laplace           -- Laplace\n",
      "   levy              -- Levy\n",
      "   levy_l\n",
      "   levy_stable\n",
      "   logistic          -- Logistic\n",
      "   loggamma          -- Log-Gamma\n",
      "   loglaplace        -- Log-Laplace (Log Double Exponential)\n",
      "   lognorm           -- Log-Normal\n",
      "   lomax             -- Lomax (Pareto of the second kind)\n",
      "   maxwell           -- Maxwell\n",
      "   mielke            -- Mielke's Beta-Kappa\n",
      "   nakagami          -- Nakagami\n",
      "   ncx2              -- Non-central chi-squared\n",
      "   ncf               -- Non-central F\n",
      "   nct               -- Non-central Student's T\n",
      "   norm              -- Normal (Gaussian)\n",
      "   pareto            -- Pareto\n",
      "   pearson3          -- Pearson type III\n",
      "   powerlaw          -- Power-function\n",
      "   powerlognorm      -- Power log normal\n",
      "   powernorm         -- Power normal\n",
      "   rdist             -- R-distribution\n",
      "   reciprocal        -- Reciprocal\n",
      "   rayleigh          -- Rayleigh\n",
      "   rice              -- Rice\n",
      "   recipinvgauss     -- Reciprocal Inverse Gaussian\n",
      "   semicircular      -- Semicircular\n",
      "   skewnorm          -- Skew normal\n",
      "   t                 -- Student's T\n",
      "   trapz              -- Trapezoidal\n",
      "   triang            -- Triangular\n",
      "   truncexpon        -- Truncated Exponential\n",
      "   truncnorm         -- Truncated Normal\n",
      "   tukeylambda       -- Tukey-Lambda\n",
      "   uniform           -- Uniform\n",
      "   vonmises          -- Von-Mises (Circular)\n",
      "   vonmises_line     -- Von-Mises (Line)\n",
      "   wald              -- Wald\n",
      "   weibull_min       -- Minimum Weibull (see Frechet)\n",
      "   weibull_max       -- Maximum Weibull (see Frechet)\n",
      "   wrapcauchy        -- Wrapped Cauchy\n",
      "\n",
      "Multivariate distributions\n",
      "==========================\n",
      "\n",
      ".. autosummary::\n",
      "   :toctree: generated/\n",
      "\n",
      "   multivariate_normal   -- Multivariate normal distribution\n",
      "   matrix_normal         -- Matrix normal distribution\n",
      "   dirichlet             -- Dirichlet\n",
      "   wishart               -- Wishart\n",
      "   invwishart            -- Inverse Wishart\n",
      "   special_ortho_group   -- SO(N) group\n",
      "   ortho_group           -- O(N) group\n",
      "   random_correlation    -- random correlation matrices\n",
      "\n",
      "Discrete distributions\n",
      "======================\n",
      "\n",
      ".. autosummary::\n",
      "   :toctree: generated/\n",
      "\n",
      "   bernoulli         -- Bernoulli\n",
      "   binom             -- Binomial\n",
      "   boltzmann         -- Boltzmann (Truncated Discrete Exponential)\n",
      "   dlaplace          -- Discrete Laplacian\n",
      "   geom              -- Geometric\n",
      "   hypergeom         -- Hypergeometric\n",
      "   logser            -- Logarithmic (Log-Series, Series)\n",
      "   nbinom            -- Negative Binomial\n",
      "   planck            -- Planck (Discrete Exponential)\n",
      "   poisson           -- Poisson\n",
      "   randint           -- Discrete Uniform\n",
      "   skellam           -- Skellam\n",
      "   zipf              -- Zipf\n",
      "\n",
      "Statistical functions\n",
      "=====================\n",
      "\n",
      "Several of these functions have a similar version in scipy.stats.mstats\n",
      "which work for masked arrays.\n",
      "\n",
      ".. autosummary::\n",
      "   :toctree: generated/\n",
      "\n",
      "   describe          -- Descriptive statistics\n",
      "   gmean             -- Geometric mean\n",
      "   hmean             -- Harmonic mean\n",
      "   kurtosis          -- Fisher or Pearson kurtosis\n",
      "   kurtosistest      --\n",
      "   mode              -- Modal value\n",
      "   moment            -- Central moment\n",
      "   normaltest        --\n",
      "   skew              -- Skewness\n",
      "   skewtest          --\n",
      "   kstat             --\n",
      "   kstatvar          --\n",
      "   tmean             -- Truncated arithmetic mean\n",
      "   tvar              -- Truncated variance\n",
      "   tmin              --\n",
      "   tmax              --\n",
      "   tstd              --\n",
      "   tsem              --\n",
      "   variation         -- Coefficient of variation\n",
      "   find_repeats\n",
      "   trim_mean\n",
      "\n",
      ".. autosummary::\n",
      "   :toctree: generated/\n",
      "\n",
      "   cumfreq\n",
      "   histogram2\n",
      "   histogram\n",
      "   itemfreq\n",
      "   percentileofscore\n",
      "   scoreatpercentile\n",
      "   relfreq\n",
      "\n",
      ".. autosummary::\n",
      "   :toctree: generated/\n",
      "\n",
      "   binned_statistic     -- Compute a binned statistic for a set of data.\n",
      "   binned_statistic_2d  -- Compute a 2-D binned statistic for a set of data.\n",
      "   binned_statistic_dd  -- Compute a d-D binned statistic for a set of data.\n",
      "\n",
      ".. autosummary::\n",
      "   :toctree: generated/\n",
      "\n",
      "   obrientransform\n",
      "   signaltonoise\n",
      "   bayes_mvs\n",
      "   mvsdist\n",
      "   sem\n",
      "   zmap\n",
      "   zscore\n",
      "   iqr\n",
      "\n",
      ".. autosummary::\n",
      "   :toctree: generated/\n",
      "\n",
      "   sigmaclip\n",
      "   threshold\n",
      "   trimboth\n",
      "   trim1\n",
      "\n",
      ".. autosummary::\n",
      "   :toctree: generated/\n",
      "\n",
      "   f_oneway\n",
      "   pearsonr\n",
      "   spearmanr\n",
      "   pointbiserialr\n",
      "   kendalltau\n",
      "   linregress\n",
      "   theilslopes\n",
      "   f_value\n",
      "\n",
      ".. autosummary::\n",
      "   :toctree: generated/\n",
      "\n",
      "   ttest_1samp\n",
      "   ttest_ind\n",
      "   ttest_ind_from_stats\n",
      "   ttest_rel\n",
      "   kstest\n",
      "   chisquare\n",
      "   power_divergence\n",
      "   ks_2samp\n",
      "   mannwhitneyu\n",
      "   tiecorrect\n",
      "   rankdata\n",
      "   ranksums\n",
      "   wilcoxon\n",
      "   kruskal\n",
      "   friedmanchisquare\n",
      "   combine_pvalues\n",
      "   ss\n",
      "   square_of_sums\n",
      "   jarque_bera\n",
      "\n",
      ".. autosummary::\n",
      "   :toctree: generated/\n",
      "\n",
      "   ansari\n",
      "   bartlett\n",
      "   levene\n",
      "   shapiro\n",
      "   anderson\n",
      "   anderson_ksamp\n",
      "   binom_test\n",
      "   fligner\n",
      "   median_test\n",
      "   mood\n",
      "\n",
      ".. autosummary::\n",
      "   :toctree: generated/\n",
      "\n",
      "   boxcox\n",
      "   boxcox_normmax\n",
      "   boxcox_llf\n",
      "\n",
      "   entropy\n",
      "\n",
      ".. autosummary::\n",
      "   :toctree: generated/\n",
      "\n",
      "   chisqprob\n",
      "   betai\n",
      "\n",
      "Circular statistical functions\n",
      "==============================\n",
      "\n",
      ".. autosummary::\n",
      "   :toctree: generated/\n",
      "\n",
      "   circmean\n",
      "   circvar\n",
      "   circstd\n",
      "\n",
      "Contingency table functions\n",
      "===========================\n",
      "\n",
      ".. autosummary::\n",
      "   :toctree: generated/\n",
      "\n",
      "   chi2_contingency\n",
      "   contingency.expected_freq\n",
      "   contingency.margins\n",
      "   fisher_exact\n",
      "\n",
      "Plot-tests\n",
      "==========\n",
      "\n",
      ".. autosummary::\n",
      "   :toctree: generated/\n",
      "\n",
      "   ppcc_max\n",
      "   ppcc_plot\n",
      "   probplot\n",
      "   boxcox_normplot\n",
      "\n",
      "\n",
      "Masked statistics functions\n",
      "===========================\n",
      "\n",
      ".. toctree::\n",
      "\n",
      "   stats.mstats\n",
      "\n",
      "\n",
      "Univariate and multivariate kernel density estimation (:mod:`scipy.stats.kde`)\n",
      "==============================================================================\n",
      "\n",
      ".. autosummary::\n",
      "   :toctree: generated/\n",
      "\n",
      "   gaussian_kde\n",
      "\n",
      "For many more stat related functions install the software R and the\n",
      "interface package rpy.\n"
     ]
    }
   ],
   "source": [
    "sp.info(sp.stats)"
   ]
  },
  {
   "cell_type": "code",
   "execution_count": 105,
   "metadata": {
    "collapsed": false
   },
   "outputs": [
    {
     "data": {
      "text/plain": [
       "0.088016331691074881"
      ]
     },
     "execution_count": 105,
     "metadata": {},
     "output_type": "execute_result"
    }
   ],
   "source": [
    "# evaluate the PDF of a normal(3,4) distrubtion at the value 5\n",
    "stats.norm.pdf(5,3,4)"
   ]
  },
  {
   "cell_type": "code",
   "execution_count": 106,
   "metadata": {
    "collapsed": false
   },
   "outputs": [
    {
     "data": {
      "text/plain": [
       "0.088016331691074881"
      ]
     },
     "execution_count": 106,
     "metadata": {},
     "output_type": "execute_result"
    }
   ],
   "source": [
    "# or by\n",
    "mydist = stats.norm(3,4)\n",
    "mydist.pdf(5)"
   ]
  },
  {
   "cell_type": "markdown",
   "metadata": {},
   "source": [
    "Methods:  \n",
    "  \n",
    "pdf       Probability density function  \n",
    "cdf       Cumulative distribution function  \n",
    "sf        Survival function = complementary CDF  \n",
    "ppf       Percentile point function (i.e. CDF inverse)  \n",
    "isf       Inverse survival function (Complementary CDF inverse)  \n",
    "stats     Mean, variance, skew, or kurtosis  \n",
    "moment    Non-central moments  \n",
    "rvs       Random samples"
   ]
  },
  {
   "cell_type": "markdown",
   "metadata": {},
   "source": [
    "Distributions and parameterizations:  \n",
    "  \n",
    "Distribution\tSciPy name   \tParameters  \n",
    "beta\tbeta\tshape1, shape2   \n",
    "binomial\tbinom\tsize, prob  \n",
    "Cauchy\tcauchy\t  \n",
    "chi-squared\tchi2\tdf  \n",
    "exponential\texpon\t  \n",
    "F\tf\tdf1, df2\n",
    "gamma\tgamma\tshape  \n",
    "geometric\tgeom\tp  \n",
    "hypergeometric\thypergeom\tM, n, N  \n",
    "inverse gamma\tinvgamma\tshape  \n",
    "log-normal\tlognorm\tsdlog  \n",
    "logistic\tlogistic\t  \n",
    "negative binomial\tnbinom\tsize, prob  \n",
    "normal\tnorm\t  \n",
    "Poisson\tpoisson\tlambda  \n",
    "Student t\tt\tdf  \n",
    "uniform\tunif\t  \n",
    "Weibull\texponweib\texponent, shape  "
   ]
  },
  {
   "cell_type": "code",
   "execution_count": 107,
   "metadata": {
    "collapsed": false
   },
   "outputs": [
    {
     "name": "stdout",
     "output_type": "stream",
     "text": [
      "-2.13035606274\n",
      "[ 0.0644841   2.31739748  0.60325003  2.44834698 -3.00965462  8.21553185\n",
      "  1.84043375 -4.27370278  1.3038404   0.20553807]\n"
     ]
    }
   ],
   "source": [
    "# generate a random sample from a Guassian RV with mean 2 and std 3\n",
    "print(stats.norm.rvs(2,3))\n",
    "# returns an array of 10 samples from the same distribution\n",
    "print(stats.norm.rvs(2,3,size=10))"
   ]
  },
  {
   "cell_type": "code",
   "execution_count": 108,
   "metadata": {
    "collapsed": false
   },
   "outputs": [
    {
     "name": "stdout",
     "output_type": "stream",
     "text": [
      "0.0\n",
      "0.107353899011\n"
     ]
    }
   ],
   "source": [
    "# evaluate at x the PDF of an exponential distribution with location 7\n",
    "print(stats.expon.pdf(2, 7))\n",
    "# mean (scale)\n",
    "print(stats.expon.pdf(2, scale=7))"
   ]
  },
  {
   "cell_type": "code",
   "execution_count": 109,
   "metadata": {
    "collapsed": false
   },
   "outputs": [
    {
     "data": {
      "text/plain": [
       "0.38208857781104744"
      ]
     },
     "execution_count": 109,
     "metadata": {},
     "output_type": "execute_result"
    }
   ],
   "source": [
    "# constructors for objects representing RVs\n",
    "x = stats.norm(3,1)\n",
    "x.cdf(2.7)"
   ]
  },
  {
   "cell_type": "code",
   "execution_count": 110,
   "metadata": {
    "collapsed": false
   },
   "outputs": [
    {
     "data": {
      "text/plain": [
       "0.38208857781104744"
      ]
     },
     "execution_count": 110,
     "metadata": {},
     "output_type": "execute_result"
    }
   ],
   "source": [
    "# or by\n",
    "stats.norm.cdf(2.7, 3, 1)"
   ]
  },
  {
   "cell_type": "markdown",
   "metadata": {},
   "source": [
    "**Simple statistics with SciPy**  \n",
    "https://oneau.wordpress.com/2011/02/28/simple-statistics-with-scipy/#probability-density-function-pdf-and-probability-mass-function-pmf"
   ]
  },
  {
   "cell_type": "code",
   "execution_count": 111,
   "metadata": {
    "collapsed": false
   },
   "outputs": [
    {
     "data": {
      "text/plain": [
       "100"
      ]
     },
     "execution_count": 111,
     "metadata": {},
     "output_type": "execute_result"
    }
   ],
   "source": [
    "# scipy.randn can be used to generate random numbers from a standard Gaussian (same as numpy.random.randn)\n",
    "s = sp.randn(100)\n",
    "len(s)"
   ]
  },
  {
   "cell_type": "code",
   "execution_count": 112,
   "metadata": {
    "collapsed": false
   },
   "outputs": [
    {
     "name": "stdout",
     "output_type": "stream",
     "text": [
      "Mean : -0.176674\n",
      "Minimum : -2.650829\n",
      "Maximum : 2.557558\n",
      "Variance : 0.997658\n",
      "Std. deviation : 0.998828\n"
     ]
    }
   ],
   "source": [
    "# Descriptive statistics\n",
    "print(\"Mean : {0:8.6f}\".format(s.mean()))\n",
    "print(\"Minimum : {0:8.6f}\".format(s.min()))\n",
    "print(\"Maximum : {0:8.6f}\".format(s.max()))\n",
    "print(\"Variance : {0:8.6f}\".format(s.var()))\n",
    "print(\"Std. deviation : {0:8.6f}\".format(s.std()))"
   ]
  },
  {
   "cell_type": "code",
   "execution_count": 113,
   "metadata": {
    "collapsed": false
   },
   "outputs": [
    {
     "name": "stdout",
     "output_type": "stream",
     "text": [
      "Mean : -0.176674\n",
      "Variance : 0.997658\n",
      "Std. deviation : 0.998828\n",
      "Median : -0.160635\n"
     ]
    }
   ],
   "source": [
    "# Numpy functions can perform the same calculations\n",
    "print(\"Mean : {0:8.6f}\".format(sp.mean(s)))\n",
    "print(\"Variance : {0:8.6f}\".format(sp.var(s))) # \n",
    "print(\"Std. deviation : {0:8.6f}\".format(sp.std(s)))\n",
    "print(\"Median : {0:8.6f}\".format(sp.median(s)))"
   ]
  },
  {
   "cell_type": "markdown",
   "metadata": {},
   "source": [
    "Note that both variance calculations above use N in the denominator i.e., they are biased estimators of the variance of the parent distribution. But when we are merely trying to describe the data, these are the appropriate equations to use."
   ]
  },
  {
   "cell_type": "code",
   "execution_count": 114,
   "metadata": {
    "collapsed": false
   },
   "outputs": [
    {
     "name": "stdout",
     "output_type": "stream",
     "text": [
      "Variance with N in denominator = 0.997658\n",
      "Variance with N - 1 in denominator = 1.007735\n"
     ]
    }
   ],
   "source": [
    "# unbiased estimator with ddof\n",
    "print(\"Variance with N in denominator = {0:8.6f}\".format(sp.var(s))) # biased, tends to underestimate the variance\n",
    "print(\"Variance with N - 1 in denominator = {0:8.6f}\".format(sp.var(s,ddof=1))) # unbiased estimate\n",
    "# the amount of bias decreases as N increases"
   ]
  },
  {
   "cell_type": "code",
   "execution_count": 115,
   "metadata": {
    "collapsed": false
   },
   "outputs": [
    {
     "name": "stdout",
     "output_type": "stream",
     "text": [
      "Number of elements: 100\n",
      "Minimum: -2.650829 Maximum: 2.557558\n",
      "Mean: -0.176674\n",
      "Variance: 1.007735\n",
      "Skew : 0.215341\n",
      "Kurtosis: 0.166655\n"
     ]
    }
   ],
   "source": [
    "# The scipy.stats sub-package has a function describe that will provide most of the above numbers.   \n",
    "# In this case, the variance has N - 1 in the denominator.\n",
    "n, min_max, mean, var, skew, kurt = stats.describe(s)\n",
    "print(\"Number of elements: {0:d}\".format(n))\n",
    "print(\"Minimum: {0:8.6f} Maximum: {1:8.6f}\".format(min_max[0], min_max[1]))\n",
    "print(\"Mean: {0:8.6f}\".format(mean))\n",
    "print(\"Variance: {0:8.6f}\".format(var))\n",
    "print(\"Skew : {0:8.6f}\".format(skew))\n",
    "print(\"Kurtosis: {0:8.6f}\".format(kurt))"
   ]
  },
  {
   "cell_type": "code",
   "execution_count": 116,
   "metadata": {
    "collapsed": false
   },
   "outputs": [
    {
     "data": {
      "text/plain": [
       "2.8068803202605803"
      ]
     },
     "execution_count": 116,
     "metadata": {},
     "output_type": "execute_result"
    }
   ],
   "source": [
    "# Probability distributions\n",
    "\n",
    "n = stats.norm(loc=3.5, scale=2.0)\n",
    "n.rvs()"
   ]
  },
  {
   "cell_type": "code",
   "execution_count": 117,
   "metadata": {
    "collapsed": false
   },
   "outputs": [
    {
     "data": {
      "text/plain": [
       "7.2209940546796609"
      ]
     },
     "execution_count": 117,
     "metadata": {},
     "output_type": "execute_result"
    }
   ],
   "source": [
    "# draw a random number from a Gaussian distribution w ith mean 3.5 and std 2.0\n",
    "stats.norm.rvs(loc=3.5, scale=2.0)"
   ]
  },
  {
   "cell_type": "code",
   "execution_count": 118,
   "metadata": {
    "collapsed": false
   },
   "outputs": [
    {
     "data": {
      "text/plain": [
       "0.3989422804014327"
      ]
     },
     "execution_count": 118,
     "metadata": {},
     "output_type": "execute_result"
    }
   ],
   "source": [
    "# PDF (continuous)\n",
    "# PDF of Gaussian of mean = 0.0 and std. deviation = 1.0 at 0.\n",
    "stats.norm.pdf(0, loc=0.0, scale=1.0)"
   ]
  },
  {
   "cell_type": "code",
   "execution_count": 119,
   "metadata": {
    "collapsed": false
   },
   "outputs": [
    {
     "data": {
      "text/plain": [
       "array([ 0.39695255,  0.39894228,  0.39695255])"
      ]
     },
     "execution_count": 119,
     "metadata": {},
     "output_type": "execute_result"
    }
   ],
   "source": [
    "# get the PDF at the specified values of the variate:\n",
    "stats.norm.pdf([-0.1, 0.0, 0.1], loc=0.0, scale=1.0)"
   ]
  },
  {
   "cell_type": "code",
   "execution_count": 120,
   "metadata": {
    "collapsed": false
   },
   "outputs": [
    {
     "data": {
      "text/plain": [
       "array([ 0.00097656,  0.00976563,  0.04394531,  0.1171875 ,  0.20507813,\n",
       "        0.24609375,  0.20507813,  0.1171875 ,  0.04394531,  0.00976563,\n",
       "        0.00097656])"
      ]
     },
     "execution_count": 120,
     "metadata": {},
     "output_type": "execute_result"
    }
   ],
   "source": [
    "# PMF (discrete)\n",
    "# calculate PMF for binomial distribution with p=0.5 and number of trials n=10\n",
    "tries = range(11) # 0 to 10\n",
    "stats.binom.pmf(tries, 10, 0.5)"
   ]
  },
  {
   "cell_type": "code",
   "execution_count": 121,
   "metadata": {
    "collapsed": false
   },
   "outputs": [
    {
     "data": {
      "image/png": "[encoded data removed]",
      "text/plain": [
       "<matplotlib.figure.Figure at 0x111418780>"
      ]
     },
     "metadata": {},
     "output_type": "display_data"
    }
   ],
   "source": [
    "def binom_pmf(n=4, p=0.5):\n",
    "    # There are n+1 possible number of \"successes\": 0 to n.\n",
    "    x = range(n+1)\n",
    "    y = stats.binom.pmf(x, n, p)\n",
    "    plt.plot(x,y,\"o\", color=\"black\")\n",
    "\n",
    "    # Format x-axis and y-axis.\n",
    "    plt.axis([-(max(x)-min(x))*0.05, max(x)*1.05, -0.01, max(y)*1.10])\n",
    "    plt.xticks(x)\n",
    "    plt.title(\"Binomial distribution PMF for tries = {0} & p ={1}\".format(\n",
    "            n,p))\n",
    "    plt.xlabel(\"Variate\")\n",
    "    plt.ylabel(\"Probability\")\n",
    "\n",
    "    plt.draw()\n",
    "\n",
    "binom_pmf()"
   ]
  },
  {
   "cell_type": "code",
   "execution_count": 124,
   "metadata": {
    "collapsed": false
   },
   "outputs": [
    {
     "data": {
      "text/plain": [
       "0.5"
      ]
     },
     "execution_count": 124,
     "metadata": {},
     "output_type": "execute_result"
    }
   ],
   "source": [
    "# CDF (probability that the variate has a value less than or equal to the given value)\n",
    "stats.norm.cdf(0.0, loc=0.0, scale=1.0)"
   ]
  },
  {
   "cell_type": "code",
   "execution_count": 126,
   "metadata": {
    "collapsed": false
   },
   "outputs": [
    {
     "data": {
      "image/png": "[encoded data removed]",
      "text/plain": [
       "<matplotlib.figure.Figure at 0x10eb25240>"
      ]
     },
     "metadata": {},
     "output_type": "display_data"
    }
   ],
   "source": [
    "def norm_cdf(mean=0.0, std=1.0):\n",
    "    # 50 numbers between -3σ and 3σ\n",
    "    x = sp.linspace(-3*std, 3*std, 50)\n",
    "    # CDF at these values\n",
    "    y = stats.norm.cdf(x, loc=mean, scale=std)\n",
    "\n",
    "    plt.plot(x,y, color=\"black\")\n",
    "    plt.xlabel(\"Variate\")\n",
    "    plt.ylabel(\"Cumulative Probability\")\n",
    "    plt.title(\"CDF for Gaussian of mean = {0} & std. deviation = {1}\".format(\n",
    "               mean, std))\n",
    "    plt.draw()\n",
    "    \n",
    "norm_cdf()"
   ]
  },
  {
   "cell_type": "code",
   "execution_count": 128,
   "metadata": {
    "collapsed": false
   },
   "outputs": [
    {
     "data": {
      "text/plain": [
       "0.0"
      ]
     },
     "execution_count": 128,
     "metadata": {},
     "output_type": "execute_result"
    }
   ],
   "source": [
    "# Percent point function (PPF) or inverse cumulative function\n",
    "# PPF is the inverse of the CDF. \n",
    "# That is, PPF gives the value of the variate for which the cumulative probability has the given value.\n",
    "stats.norm.ppf(0.5, loc=0.0, scale=1.0)"
   ]
  },
  {
   "cell_type": "code",
   "execution_count": 129,
   "metadata": {
    "collapsed": false
   },
   "outputs": [
    {
     "data": {
      "image/png": "[encoded data removed]",
      "text/plain": [
       "<matplotlib.figure.Figure at 0x110fe02b0>"
      ]
     },
     "metadata": {},
     "output_type": "display_data"
    }
   ],
   "source": [
    "def norm_ppf(mean=0.0, std=1.0):\n",
    "    # 100 numbers between 0 and 1.0 i.e., probabilities.\n",
    "    x = sp.linspace(0, 1.0, 100)\n",
    "    # PPF at these values\n",
    "    y = stats.norm.ppf(x, loc=mean, scale=std)\n",
    "\n",
    "    plt.plot(x,y, color=\"black\")\n",
    "    plt.xlabel(\"Cumulative Probability\")\n",
    "    plt.ylabel(\"Variate\")\n",
    "\n",
    "    plt.title(\"PPF for Gaussian of mean = {0} & std. deviation = {1}\".format(\n",
    "               mean, std))\n",
    "    plt.draw()\n",
    "\n",
    "norm_ppf()"
   ]
  },
  {
   "cell_type": "code",
   "execution_count": 135,
   "metadata": {
    "collapsed": false
   },
   "outputs": [
    {
     "data": {
      "text/plain": [
       "0.5"
      ]
     },
     "execution_count": 135,
     "metadata": {},
     "output_type": "execute_result"
    }
   ],
   "source": [
    "# Survival function (SF)\n",
    "# Survival function gives the probability that the variate has a value greater than the given value; SF = 1 - CDF.\n",
    "stats.norm.sf(0.0, loc=0.0, scale=1.0)"
   ]
  },
  {
   "cell_type": "code",
   "execution_count": 134,
   "metadata": {
    "collapsed": false
   },
   "outputs": [
    {
     "data": {
      "image/png": "[encoded data removed]",
      "text/plain": [
       "<matplotlib.figure.Figure at 0x1114aeb70>"
      ]
     },
     "metadata": {},
     "output_type": "display_data"
    }
   ],
   "source": [
    "def norm_sf(mean=0.0, std=1.0):\n",
    "    # 50 numbers between -3σ and 3σ\n",
    "    x = sp.linspace(-3*std, 3*std, 50)\n",
    "    # SF at these values\n",
    "    y = stats.norm.sf(x, loc=mean, scale=std)\n",
    "\n",
    "    plt.plot(x,y, color=\"black\")\n",
    "    plt.xlabel(\"Variate\")\n",
    "    plt.ylabel(\"Probability\")\n",
    "    plt.title(\"SF for Gaussian of mean = {0} & std. deviation = {1}\".format(\n",
    "               mean, std))\n",
    "    plt.draw()\n",
    "\n",
    "norm_sf()"
   ]
  },
  {
   "cell_type": "code",
   "execution_count": 137,
   "metadata": {
    "collapsed": false
   },
   "outputs": [
    {
     "data": {
      "text/plain": [
       "0.0"
      ]
     },
     "execution_count": 137,
     "metadata": {},
     "output_type": "execute_result"
    }
   ],
   "source": [
    "# Inverse survival function (ISF)\n",
    "stats.norm.isf(0.5, loc=0.0, scale=1.0)"
   ]
  },
  {
   "cell_type": "code",
   "execution_count": 139,
   "metadata": {
    "collapsed": false
   },
   "outputs": [
    {
     "data": {
      "image/png": "[encoded data removed]",
      "text/plain": [
       "<matplotlib.figure.Figure at 0x110f679b0>"
      ]
     },
     "metadata": {},
     "output_type": "display_data"
    }
   ],
   "source": [
    "def norm_isf(mean=0.0, std=1.0):\n",
    "    # 100 numbers between 0 and 1.0\n",
    "    x = sp.linspace(0, 1.0, 100)\n",
    "    # PPF at these values\n",
    "    y = stats.norm.isf(x, loc=mean, scale=std)\n",
    "\n",
    "    plt.plot(x,y, color=\"black\")\n",
    "    plt.xlabel(\"Probability\")\n",
    "    plt.ylabel(\"Variate\")\n",
    "\n",
    "    plt.title(\"ISF for Gaussian of mean = {0} & std. deviation = {1}\".format(\n",
    "               mean, std))\n",
    "    plt.draw()\n",
    "    \n",
    "norm_isf()"
   ]
  },
  {
   "cell_type": "code",
   "execution_count": 142,
   "metadata": {
    "collapsed": false
   },
   "outputs": [
    {
     "data": {
      "text/plain": [
       "array([1, 1, 1, 0, 3, 1, 1, 2, 1, 1, 2, 0, 0, 2, 2, 1, 1, 1, 1, 1, 0, 0, 1,\n",
       "       1, 2, 2, 0, 1, 1, 4, 0, 0, 1, 1, 0, 0, 1, 2, 1, 1, 1, 1, 1, 1, 1, 1,\n",
       "       1, 2, 1, 1, 0, 0, 1, 2, 1, 1, 0, 1, 0, 0, 0, 1, 2, 3, 3, 1, 0, 1, 1,\n",
       "       0, 1, 2, 1, 0, 0, 3, 0, 0, 1, 3, 0, 0, 0, 2, 1, 3, 0, 0, 0, 0, 0, 2,\n",
       "       1, 1, 3, 2, 2, 1, 0, 1])"
      ]
     },
     "execution_count": 142,
     "metadata": {},
     "output_type": "execute_result"
    }
   ],
   "source": [
    "# Random variables\n",
    "# 100 random values from a Gaussian distribution mean=0,std=1\n",
    "stats.norm.rvs(loc=0.0, scale=1.0, size=100)\n",
    "# 100 random values from a Poisson distribution with mu = 1.0\n",
    "stats.poisson.rvs(1.0, size=100)"
   ]
  },
  {
   "cell_type": "markdown",
   "metadata": {},
   "source": [
    "The following plot shows the histogram of events recorded in a series of 2 second intervals. The data is simulated by drawing 100 random events from a Poisson distribution with mean μ = 1.69. Also plotted is the Probability Mass Function (PMF) of the Poisson distribution with mean μ = 1.69. Poisson is a discrete distribution and the solid line is just a smooth line drawn through the points of the Poisson distribution PMF. The mean μ and the standard deviation σ = sqrt(μ) are marked."
   ]
  },
  {
   "cell_type": "code",
   "execution_count": 143,
   "metadata": {
    "collapsed": false
   },
   "outputs": [
    {
     "data": {
      "image/png": "[encoded data removed]",
      "text/plain": [
       "<matplotlib.figure.Figure at 0x1110f3390>"
      ]
     },
     "metadata": {},
     "output_type": "display_data"
    }
   ],
   "source": [
    "import scipy as sp\n",
    "from scipy import stats\n",
    "from matplotlib import pyplot as plt\n",
    "from scipy import interpolate\n",
    "\n",
    "def simulate_poisson():\n",
    "    # Mean is 1.69\n",
    "    mu = 1.69\n",
    "    sigma = sp.sqrt(mu)\n",
    "    mu_plus_sigma = mu + sigma\n",
    "\n",
    "    # Draw random samples from the Poisson distribution, to simulate\n",
    "    # the observed events per 2 second interval.\n",
    "    counts = stats.poisson.rvs(mu, size=100)\n",
    "\n",
    "    # Bins for the histogram: only the last bin is closed on both\n",
    "    # sides. We need one more bin than the maximum value of count, so\n",
    "    # that the maximum value goes in its own bin instead of getting\n",
    "    # added to the previous bin.\n",
    "    # [0,1), [1, 2), ..., [max(counts), max(counts)+1]\n",
    "    bins = range(0, max(counts)+2)\n",
    "\n",
    "    # Plot histogram.\n",
    "    plt.hist(counts, bins=bins, align=\"left\", histtype=\"step\", color=\"black\")\n",
    "\n",
    "    # Create Poisson distribution for given mu.\n",
    "    x = range(0,10)\n",
    "    prob = stats.poisson.pmf(x, mu)*100 \n",
    "\n",
    "    # Plot the PMF.\n",
    "    plt.plot(x, prob, \"o\", color=\"black\")\n",
    "\n",
    "    # Draw a smooth curve through the PMF.\n",
    "    l = sp.linspace(0,11,100)\n",
    "    s = interpolate.spline(x, prob, l)\n",
    "    plt.plot(l,s,color=\"black\")\n",
    "\n",
    "    plt.xlabel(\"Number of counts per 2 seconds\")\n",
    "    plt.ylabel(\"Number of occurrences (Poisson)\")\n",
    "\n",
    "    # Interpolated probability at x = μ + σ; for marking σ in the graph.\n",
    "    xx = sp.searchsorted(l,mu_plus_sigma) - 1\n",
    "    v = ((s[xx+1] -  s[xx])/(l[xx+1]-l[xx])) * (mu_plus_sigma - l[xx])\n",
    "    v += s[xx]\n",
    "\n",
    "    ax = plt.gca()\n",
    "    # Reset axis range and ticks.\n",
    "    ax.axis([-0.5,10, 0, 40])\n",
    "    ax.set_xticks(range(1,10), minor=True)\n",
    "    ax.set_yticks(range(0,41,8))\n",
    "    ax.set_yticks(range(4,41,8), minor=True)\n",
    "\n",
    "    # Draw arrow and then place an opaque box with μ in it.\n",
    "    ax.annotate(\"\", xy=(mu,29), xycoords=\"data\", xytext=(mu, 13),\n",
    "                textcoords=\"data\", arrowprops=dict(arrowstyle=\"->\",\n",
    "                                                   connectionstyle=\"arc3\"))\n",
    "    bbox_props = dict(boxstyle=\"round\", fc=\"w\", ec=\"w\")\n",
    "    ax.text(mu, 21, r\"$\\mu$\", va=\"center\", ha=\"center\",\n",
    "            size=15, bbox=bbox_props)\n",
    "\n",
    "    # Draw arrow and then place an opaque box with σ in it.\n",
    "    ax.annotate(\"\", xy=(mu,v), xytext=(mu_plus_sigma,v),\n",
    "                arrowprops=dict(arrowstyle=\"<->\", connectionstyle=\"arc3\"))\n",
    "    bbox_props = dict(boxstyle=\"round\", fc=\"w\", ec=\"w\")\n",
    "    ax.text(mu+(sigma/2.0), v, r\"$\\sigma$\", va=\"center\", ha=\"center\",\n",
    "            size=15, bbox=bbox_props)\n",
    "\n",
    "    # Refresh plot and save figure.\n",
    "    plt.draw()\n",
    "    plt.savefig(\"simulate_poisson.png\")\n",
    "\n",
    "simulate_poisson()"
   ]
  }
 ],
 "metadata": {
  "anaconda-cloud": {},
  "kernelspec": {
   "display_name": "Python [conda root]",
   "language": "python",
   "name": "conda-root-py"
  },
  "language_info": {
   "codemirror_mode": {
    "name": "ipython",
    "version": 3
   },
   "file_extension": ".py",
   "mimetype": "text/x-python",
   "name": "python",
   "nbconvert_exporter": "python",
   "pygments_lexer": "ipython3",
   "version": "3.5.2"
  }
 },
 "nbformat": 4,
 "nbformat_minor": 1
}
