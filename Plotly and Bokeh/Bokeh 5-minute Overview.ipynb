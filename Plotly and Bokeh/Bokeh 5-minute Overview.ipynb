{
 "cells": [
  {
   "cell_type": "markdown",
   "metadata": {},
   "source": [
    "<img src=\"img/bokeh-header.png\">\n",
    "# Bokeh 5-minute Overview\n",
    "\n",
    "Bokeh is a Python interactive visualization library that targets modern web browsers for presentation. Its goal is to provide elegant, concise construction of novel graphics in the style of D3.js, and to extend this capability with high-performance interactivity over very large or streaming datasets. Bokeh can help anyone who would like to quickly and easily create interactive plots, dashboards, and data applications.\n",
    "\n",
    "http://nbviewer.jupyter.org/github/bokeh/bokeh-notebooks/blob/master/index.ipynb  \n",
    "http://nbviewer.jupyter.org/github/bokeh/bokeh-notebooks/blob/master/quickstart/quickstart.ipynb"
   ]
  },
  {
   "cell_type": "markdown",
   "metadata": {},
   "source": [
    "<img src=\"img/Bokeh_Cheat_Sheet.pdf\">"
   ]
  },
  {
   "cell_type": "code",
   "execution_count": 5,
   "metadata": {},
   "outputs": [],
   "source": [
    "#import bokeh.sampledata\n",
    "#bokeh.sampledata.download() # can choose destination"
   ]
  },
  {
   "cell_type": "markdown",
   "metadata": {},
   "source": [
    "## Simple Example\n",
    "\n",
    "Here is a simple first example.  First we'll import the [`figure`](https://bokeh.pydata.org/en/latest/docs/reference/plotting.html#bokeh.plotting.figure.figure) function from [`bokeh.plotting`](https://bokeh.pydata.org/en/latest/docs/user_guide/plotting.html), which will let us create all sorts of interesting plots easily. We also import the `show` and `ouptut_notebook` functions from `bokeh.io` &mdash; these let us display our results inline in the notebook."
   ]
  },
  {
   "cell_type": "code",
   "execution_count": 16,
   "metadata": {
    "collapsed": true
   },
   "outputs": [],
   "source": [
    "from bokeh.plotting import figure \n",
    "from bokeh.io import output_notebook, show"
   ]
  },
  {
   "cell_type": "markdown",
   "metadata": {},
   "source": [
    "Next, we'll tell Bokeh to display its plots directly into the notebook.\n",
    "This will cause all of the Javascript and data to be embedded directly\n",
    "into the HTML of the notebook itself.\n",
    "(Bokeh can output straight to HTML files, or use a server, which we'll\n",
    "look at later.)"
   ]
  },
  {
   "cell_type": "code",
   "execution_count": 17,
   "metadata": {},
   "outputs": [
    {
     "data": {
      "text/html": [
       "\n",
       "    <div class=\"bk-root\">\n",
       "        <a href=\"https://bokeh.pydata.org\" target=\"_blank\" class=\"bk-logo bk-logo-small bk-logo-notebook\"></a>\n",
       "        <span id=\"525fe70b-24a0-4a32-8e78-a8348af5f5c7\">Loading BokehJS ...</span>\n",
       "    </div>"
      ]
     },
     "metadata": {},
     "output_type": "display_data"
    },
    {
     "data": {
      "application/javascript": [
       "\n",
       "(function(root) {\n",
       "  function now() {\n",
       "    return new Date();\n",
       "  }\n",
       "\n",
       "  var force = true;\n",
       "\n",
       "  if (typeof (root._bokeh_onload_callbacks) === \"undefined\" || force === true) {\n",
       "    root._bokeh_onload_callbacks = [];\n",
       "    root._bokeh_is_loading = undefined;\n",
       "  }\n",
       "\n",
       "  var JS_MIME_TYPE = 'application/javascript';\n",
       "  var HTML_MIME_TYPE = 'text/html';\n",
       "  var EXEC_MIME_TYPE = 'application/vnd.bokehjs_exec.v0+json';\n",
       "  var CLASS_NAME = 'output_bokeh rendered_html';\n",
       "\n",
       "  /**\n",
       "   * Render data to the DOM node\n",
       "   */\n",
       "  function render(props, node) {\n",
       "    var script = document.createElement(\"script\");\n",
       "    node.appendChild(script);\n",
       "  }\n",
       "\n",
       "  /**\n",
       "   * Handle when an output is cleared or removed\n",
       "   */\n",
       "  function handleClearOutput(event, handle) {\n",
       "    var cell = handle.cell;\n",
       "\n",
       "    var id = cell.output_area._bokeh_element_id;\n",
       "    var server_id = cell.output_area._bokeh_server_id;\n",
       "    // Clean up Bokeh references\n",
       "    if (id !== undefined) {\n",
       "      Bokeh.index[id].model.document.clear();\n",
       "      delete Bokeh.index[id];\n",
       "    }\n",
       "\n",
       "    if (server_id !== undefined) {\n",
       "      // Clean up Bokeh references\n",
       "      var cmd = \"from bokeh.io.state import curstate; print(curstate().uuid_to_server['\" + server_id + \"'].get_sessions()[0].document.roots[0]._id)\";\n",
       "      cell.notebook.kernel.execute(cmd, {\n",
       "        iopub: {\n",
       "          output: function(msg) {\n",
       "            var element_id = msg.content.text.trim();\n",
       "            Bokeh.index[element_id].model.document.clear();\n",
       "            delete Bokeh.index[element_id];\n",
       "          }\n",
       "        }\n",
       "      });\n",
       "      // Destroy server and session\n",
       "      var cmd = \"import bokeh.io.notebook as ion; ion.destroy_server('\" + server_id + \"')\";\n",
       "      cell.notebook.kernel.execute(cmd);\n",
       "    }\n",
       "  }\n",
       "\n",
       "  /**\n",
       "   * Handle when a new output is added\n",
       "   */\n",
       "  function handleAddOutput(event, handle) {\n",
       "    var output_area = handle.output_area;\n",
       "    var output = handle.output;\n",
       "\n",
       "    // limit handleAddOutput to display_data with EXEC_MIME_TYPE content only\n",
       "    if ((output.output_type != \"display_data\") || (!output.data.hasOwnProperty(EXEC_MIME_TYPE))) {\n",
       "      return\n",
       "    }\n",
       "\n",
       "    var toinsert = output_area.element.find(\".\" + CLASS_NAME.split(' ')[0]);\n",
       "\n",
       "    if (output.metadata[EXEC_MIME_TYPE][\"id\"] !== undefined) {\n",
       "      toinsert[0].firstChild.textContent = output.data[JS_MIME_TYPE];\n",
       "      // store reference to embed id on output_area\n",
       "      output_area._bokeh_element_id = output.metadata[EXEC_MIME_TYPE][\"id\"];\n",
       "    }\n",
       "    if (output.metadata[EXEC_MIME_TYPE][\"server_id\"] !== undefined) {\n",
       "      var bk_div = document.createElement(\"div\");\n",
       "      bk_div.innerHTML = output.data[HTML_MIME_TYPE];\n",
       "      var script_attrs = bk_div.children[0].attributes;\n",
       "      for (var i = 0; i < script_attrs.length; i++) {\n",
       "        toinsert[0].firstChild.setAttribute(script_attrs[i].name, script_attrs[i].value);\n",
       "      }\n",
       "      // store reference to server id on output_area\n",
       "      output_area._bokeh_server_id = output.metadata[EXEC_MIME_TYPE][\"server_id\"];\n",
       "    }\n",
       "  }\n",
       "\n",
       "  function register_renderer(events, OutputArea) {\n",
       "\n",
       "    function append_mime(data, metadata, element) {\n",
       "      // create a DOM node to render to\n",
       "      var toinsert = this.create_output_subarea(\n",
       "        metadata,\n",
       "        CLASS_NAME,\n",
       "        EXEC_MIME_TYPE\n",
       "      );\n",
       "      this.keyboard_manager.register_events(toinsert);\n",
       "      // Render to node\n",
       "      var props = {data: data, metadata: metadata[EXEC_MIME_TYPE]};\n",
       "      render(props, toinsert[0]);\n",
       "      element.append(toinsert);\n",
       "      return toinsert\n",
       "    }\n",
       "\n",
       "    /* Handle when an output is cleared or removed */\n",
       "    events.on('clear_output.CodeCell', handleClearOutput);\n",
       "    events.on('delete.Cell', handleClearOutput);\n",
       "\n",
       "    /* Handle when a new output is added */\n",
       "    events.on('output_added.OutputArea', handleAddOutput);\n",
       "\n",
       "    /**\n",
       "     * Register the mime type and append_mime function with output_area\n",
       "     */\n",
       "    OutputArea.prototype.register_mime_type(EXEC_MIME_TYPE, append_mime, {\n",
       "      /* Is output safe? */\n",
       "      safe: true,\n",
       "      /* Index of renderer in `output_area.display_order` */\n",
       "      index: 0\n",
       "    });\n",
       "  }\n",
       "\n",
       "  // register the mime type if in Jupyter Notebook environment and previously unregistered\n",
       "  if (root.Jupyter !== undefined) {\n",
       "    var events = require('base/js/events');\n",
       "    var OutputArea = require('notebook/js/outputarea').OutputArea;\n",
       "\n",
       "    if (OutputArea.prototype.mime_types().indexOf(EXEC_MIME_TYPE) == -1) {\n",
       "      register_renderer(events, OutputArea);\n",
       "    }\n",
       "  }\n",
       "\n",
       "  \n",
       "  if (typeof (root._bokeh_timeout) === \"undefined\" || force === true) {\n",
       "    root._bokeh_timeout = Date.now() + 5000;\n",
       "    root._bokeh_failed_load = false;\n",
       "  }\n",
       "\n",
       "  var NB_LOAD_WARNING = {'data': {'text/html':\n",
       "     \"<div style='background-color: #fdd'>\\n\"+\n",
       "     \"<p>\\n\"+\n",
       "     \"BokehJS does not appear to have successfully loaded. If loading BokehJS from CDN, this \\n\"+\n",
       "     \"may be due to a slow or bad network connection. Possible fixes:\\n\"+\n",
       "     \"</p>\\n\"+\n",
       "     \"<ul>\\n\"+\n",
       "     \"<li>re-rerun `output_notebook()` to attempt to load from CDN again, or</li>\\n\"+\n",
       "     \"<li>use INLINE resources instead, as so:</li>\\n\"+\n",
       "     \"</ul>\\n\"+\n",
       "     \"<code>\\n\"+\n",
       "     \"from bokeh.resources import INLINE\\n\"+\n",
       "     \"output_notebook(resources=INLINE)\\n\"+\n",
       "     \"</code>\\n\"+\n",
       "     \"</div>\"}};\n",
       "\n",
       "  function display_loaded() {\n",
       "    var el = document.getElementById(\"525fe70b-24a0-4a32-8e78-a8348af5f5c7\");\n",
       "    if (el != null) {\n",
       "      el.textContent = \"BokehJS is loading...\";\n",
       "    }\n",
       "    if (root.Bokeh !== undefined) {\n",
       "      if (el != null) {\n",
       "        el.textContent = \"BokehJS \" + root.Bokeh.version + \" successfully loaded.\";\n",
       "      }\n",
       "    } else if (Date.now() < root._bokeh_timeout) {\n",
       "      setTimeout(display_loaded, 100)\n",
       "    }\n",
       "  }\n",
       "\n",
       "\n",
       "  function run_callbacks() {\n",
       "    try {\n",
       "      root._bokeh_onload_callbacks.forEach(function(callback) { callback() });\n",
       "    }\n",
       "    finally {\n",
       "      delete root._bokeh_onload_callbacks\n",
       "    }\n",
       "    console.info(\"Bokeh: all callbacks have finished\");\n",
       "  }\n",
       "\n",
       "  function load_libs(js_urls, callback) {\n",
       "    root._bokeh_onload_callbacks.push(callback);\n",
       "    if (root._bokeh_is_loading > 0) {\n",
       "      console.log(\"Bokeh: BokehJS is being loaded, scheduling callback at\", now());\n",
       "      return null;\n",
       "    }\n",
       "    if (js_urls == null || js_urls.length === 0) {\n",
       "      run_callbacks();\n",
       "      return null;\n",
       "    }\n",
       "    console.log(\"Bokeh: BokehJS not loaded, scheduling load and callback at\", now());\n",
       "    root._bokeh_is_loading = js_urls.length;\n",
       "    for (var i = 0; i < js_urls.length; i++) {\n",
       "      var url = js_urls[i];\n",
       "      var s = document.createElement('script');\n",
       "      s.src = url;\n",
       "      s.async = false;\n",
       "      s.onreadystatechange = s.onload = function() {\n",
       "        root._bokeh_is_loading--;\n",
       "        if (root._bokeh_is_loading === 0) {\n",
       "          console.log(\"Bokeh: all BokehJS libraries loaded\");\n",
       "          run_callbacks()\n",
       "        }\n",
       "      };\n",
       "      s.onerror = function() {\n",
       "        console.warn(\"failed to load library \" + url);\n",
       "      };\n",
       "      console.log(\"Bokeh: injecting script tag for BokehJS library: \", url);\n",
       "      document.getElementsByTagName(\"head\")[0].appendChild(s);\n",
       "    }\n",
       "  };var element = document.getElementById(\"525fe70b-24a0-4a32-8e78-a8348af5f5c7\");\n",
       "  if (element == null) {\n",
       "    console.log(\"Bokeh: ERROR: autoload.js configured with elementid '525fe70b-24a0-4a32-8e78-a8348af5f5c7' but no matching script tag was found. \")\n",
       "    return false;\n",
       "  }\n",
       "\n",
       "  var js_urls = [\"https://cdn.pydata.org/bokeh/release/bokeh-0.12.11.min.js\", \"https://cdn.pydata.org/bokeh/release/bokeh-widgets-0.12.11.min.js\", \"https://cdn.pydata.org/bokeh/release/bokeh-tables-0.12.11.min.js\", \"https://cdn.pydata.org/bokeh/release/bokeh-gl-0.12.11.min.js\"];\n",
       "\n",
       "  var inline_js = [\n",
       "    function(Bokeh) {\n",
       "      Bokeh.set_log_level(\"info\");\n",
       "    },\n",
       "    \n",
       "    function(Bokeh) {\n",
       "      \n",
       "    },\n",
       "    function(Bokeh) {\n",
       "      console.log(\"Bokeh: injecting CSS: https://cdn.pydata.org/bokeh/release/bokeh-0.12.11.min.css\");\n",
       "      Bokeh.embed.inject_css(\"https://cdn.pydata.org/bokeh/release/bokeh-0.12.11.min.css\");\n",
       "      console.log(\"Bokeh: injecting CSS: https://cdn.pydata.org/bokeh/release/bokeh-widgets-0.12.11.min.css\");\n",
       "      Bokeh.embed.inject_css(\"https://cdn.pydata.org/bokeh/release/bokeh-widgets-0.12.11.min.css\");\n",
       "      console.log(\"Bokeh: injecting CSS: https://cdn.pydata.org/bokeh/release/bokeh-tables-0.12.11.min.css\");\n",
       "      Bokeh.embed.inject_css(\"https://cdn.pydata.org/bokeh/release/bokeh-tables-0.12.11.min.css\");\n",
       "    }\n",
       "  ];\n",
       "\n",
       "  function run_inline_js() {\n",
       "    \n",
       "    if ((root.Bokeh !== undefined) || (force === true)) {\n",
       "      for (var i = 0; i < inline_js.length; i++) {\n",
       "        inline_js[i].call(root, root.Bokeh);\n",
       "      }if (force === true) {\n",
       "        display_loaded();\n",
       "      }} else if (Date.now() < root._bokeh_timeout) {\n",
       "      setTimeout(run_inline_js, 100);\n",
       "    } else if (!root._bokeh_failed_load) {\n",
       "      console.log(\"Bokeh: BokehJS failed to load within specified timeout.\");\n",
       "      root._bokeh_failed_load = true;\n",
       "    } else if (force !== true) {\n",
       "      var cell = $(document.getElementById(\"525fe70b-24a0-4a32-8e78-a8348af5f5c7\")).parents('.cell').data().cell;\n",
       "      cell.output_area.append_execute_result(NB_LOAD_WARNING)\n",
       "    }\n",
       "\n",
       "  }\n",
       "\n",
       "  if (root._bokeh_is_loading === 0) {\n",
       "    console.log(\"Bokeh: BokehJS loaded, going straight to plotting\");\n",
       "    run_inline_js();\n",
       "  } else {\n",
       "    load_libs(js_urls, function() {\n",
       "      console.log(\"Bokeh: BokehJS plotting callback run at\", now());\n",
       "      run_inline_js();\n",
       "    });\n",
       "  }\n",
       "}(window));"
      ],
      "application/vnd.bokehjs_load.v0+json": "\n(function(root) {\n  function now() {\n    return new Date();\n  }\n\n  var force = true;\n\n  if (typeof (root._bokeh_onload_callbacks) === \"undefined\" || force === true) {\n    root._bokeh_onload_callbacks = [];\n    root._bokeh_is_loading = undefined;\n  }\n\n  \n\n  \n  if (typeof (root._bokeh_timeout) === \"undefined\" || force === true) {\n    root._bokeh_timeout = Date.now() + 5000;\n    root._bokeh_failed_load = false;\n  }\n\n  var NB_LOAD_WARNING = {'data': {'text/html':\n     \"<div style='background-color: #fdd'>\\n\"+\n     \"<p>\\n\"+\n     \"BokehJS does not appear to have successfully loaded. If loading BokehJS from CDN, this \\n\"+\n     \"may be due to a slow or bad network connection. Possible fixes:\\n\"+\n     \"</p>\\n\"+\n     \"<ul>\\n\"+\n     \"<li>re-rerun `output_notebook()` to attempt to load from CDN again, or</li>\\n\"+\n     \"<li>use INLINE resources instead, as so:</li>\\n\"+\n     \"</ul>\\n\"+\n     \"<code>\\n\"+\n     \"from bokeh.resources import INLINE\\n\"+\n     \"output_notebook(resources=INLINE)\\n\"+\n     \"</code>\\n\"+\n     \"</div>\"}};\n\n  function display_loaded() {\n    var el = document.getElementById(\"525fe70b-24a0-4a32-8e78-a8348af5f5c7\");\n    if (el != null) {\n      el.textContent = \"BokehJS is loading...\";\n    }\n    if (root.Bokeh !== undefined) {\n      if (el != null) {\n        el.textContent = \"BokehJS \" + root.Bokeh.version + \" successfully loaded.\";\n      }\n    } else if (Date.now() < root._bokeh_timeout) {\n      setTimeout(display_loaded, 100)\n    }\n  }\n\n\n  function run_callbacks() {\n    try {\n      root._bokeh_onload_callbacks.forEach(function(callback) { callback() });\n    }\n    finally {\n      delete root._bokeh_onload_callbacks\n    }\n    console.info(\"Bokeh: all callbacks have finished\");\n  }\n\n  function load_libs(js_urls, callback) {\n    root._bokeh_onload_callbacks.push(callback);\n    if (root._bokeh_is_loading > 0) {\n      console.log(\"Bokeh: BokehJS is being loaded, scheduling callback at\", now());\n      return null;\n    }\n    if (js_urls == null || js_urls.length === 0) {\n      run_callbacks();\n      return null;\n    }\n    console.log(\"Bokeh: BokehJS not loaded, scheduling load and callback at\", now());\n    root._bokeh_is_loading = js_urls.length;\n    for (var i = 0; i < js_urls.length; i++) {\n      var url = js_urls[i];\n      var s = document.createElement('script');\n      s.src = url;\n      s.async = false;\n      s.onreadystatechange = s.onload = function() {\n        root._bokeh_is_loading--;\n        if (root._bokeh_is_loading === 0) {\n          console.log(\"Bokeh: all BokehJS libraries loaded\");\n          run_callbacks()\n        }\n      };\n      s.onerror = function() {\n        console.warn(\"failed to load library \" + url);\n      };\n      console.log(\"Bokeh: injecting script tag for BokehJS library: \", url);\n      document.getElementsByTagName(\"head\")[0].appendChild(s);\n    }\n  };var element = document.getElementById(\"525fe70b-24a0-4a32-8e78-a8348af5f5c7\");\n  if (element == null) {\n    console.log(\"Bokeh: ERROR: autoload.js configured with elementid '525fe70b-24a0-4a32-8e78-a8348af5f5c7' but no matching script tag was found. \")\n    return false;\n  }\n\n  var js_urls = [\"https://cdn.pydata.org/bokeh/release/bokeh-0.12.11.min.js\", \"https://cdn.pydata.org/bokeh/release/bokeh-widgets-0.12.11.min.js\", \"https://cdn.pydata.org/bokeh/release/bokeh-tables-0.12.11.min.js\", \"https://cdn.pydata.org/bokeh/release/bokeh-gl-0.12.11.min.js\"];\n\n  var inline_js = [\n    function(Bokeh) {\n      Bokeh.set_log_level(\"info\");\n    },\n    \n    function(Bokeh) {\n      \n    },\n    function(Bokeh) {\n      console.log(\"Bokeh: injecting CSS: https://cdn.pydata.org/bokeh/release/bokeh-0.12.11.min.css\");\n      Bokeh.embed.inject_css(\"https://cdn.pydata.org/bokeh/release/bokeh-0.12.11.min.css\");\n      console.log(\"Bokeh: injecting CSS: https://cdn.pydata.org/bokeh/release/bokeh-widgets-0.12.11.min.css\");\n      Bokeh.embed.inject_css(\"https://cdn.pydata.org/bokeh/release/bokeh-widgets-0.12.11.min.css\");\n      console.log(\"Bokeh: injecting CSS: https://cdn.pydata.org/bokeh/release/bokeh-tables-0.12.11.min.css\");\n      Bokeh.embed.inject_css(\"https://cdn.pydata.org/bokeh/release/bokeh-tables-0.12.11.min.css\");\n    }\n  ];\n\n  function run_inline_js() {\n    \n    if ((root.Bokeh !== undefined) || (force === true)) {\n      for (var i = 0; i < inline_js.length; i++) {\n        inline_js[i].call(root, root.Bokeh);\n      }if (force === true) {\n        display_loaded();\n      }} else if (Date.now() < root._bokeh_timeout) {\n      setTimeout(run_inline_js, 100);\n    } else if (!root._bokeh_failed_load) {\n      console.log(\"Bokeh: BokehJS failed to load within specified timeout.\");\n      root._bokeh_failed_load = true;\n    } else if (force !== true) {\n      var cell = $(document.getElementById(\"525fe70b-24a0-4a32-8e78-a8348af5f5c7\")).parents('.cell').data().cell;\n      cell.output_area.append_execute_result(NB_LOAD_WARNING)\n    }\n\n  }\n\n  if (root._bokeh_is_loading === 0) {\n    console.log(\"Bokeh: BokehJS loaded, going straight to plotting\");\n    run_inline_js();\n  } else {\n    load_libs(js_urls, function() {\n      console.log(\"Bokeh: BokehJS plotting callback run at\", now());\n      run_inline_js();\n    });\n  }\n}(window));"
     },
     "metadata": {},
     "output_type": "display_data"
    }
   ],
   "source": [
    "output_notebook()"
   ]
  },
  {
   "cell_type": "markdown",
   "metadata": {},
   "source": [
    "Next, we'll import NumPy and create some simple data."
   ]
  },
  {
   "cell_type": "code",
   "execution_count": 18,
   "metadata": {
    "collapsed": true
   },
   "outputs": [],
   "source": [
    "from numpy import cos, linspace\n",
    "x = linspace(-6, 6, 100)\n",
    "y = cos(x)"
   ]
  },
  {
   "cell_type": "markdown",
   "metadata": {},
   "source": [
    "Now we'll call Bokeh's `figure` functtion to create a plot `p`. Then we call the `circle()` method of the plot to render a red circle at each of the points in x and y.\n",
    "\n",
    "We can immediately interact with the plot:\n",
    "\n",
    "  * click-drag will pan the plot around.\n",
    "  * mousewheel will zoom in and out (after enabling in the toolbar)\n",
    "  \n",
    "The toolbar below is the default one that is available for all plots. It can be configured further via the `tools` keyword argument."
   ]
  },
  {
   "cell_type": "code",
   "execution_count": 19,
   "metadata": {},
   "outputs": [
    {
     "data": {
      "text/html": [
       "\n",
       "<div class=\"bk-root\">\n",
       "    <div class=\"bk-plotdiv\" id=\"eedaac36-d6b1-441a-93b3-188ea2a6b972\"></div>\n",
       "</div>"
      ]
     },
     "metadata": {},
     "output_type": "display_data"
    },
    {
     "data": {
      "application/javascript": [
       "(function(root) {\n",
       "  function embed_document(root) {\n",
       "    var docs_json = {\"1b8d0fe5-2bd6-4c4e-87e4-d0f18a9a2b95\":{\"roots\":{\"references\":[{\"attributes\":{},\"id\":\"f92435e9-845f-4990-852e-abc868dc13e8\",\"type\":\"BasicTicker\"},{\"attributes\":{\"bottom_units\":\"screen\",\"fill_alpha\":{\"value\":0.5},\"fill_color\":{\"value\":\"lightgrey\"},\"left_units\":\"screen\",\"level\":\"overlay\",\"line_alpha\":{\"value\":1.0},\"line_color\":{\"value\":\"black\"},\"line_dash\":[4,4],\"line_width\":{\"value\":2},\"plot\":null,\"render_mode\":\"css\",\"right_units\":\"screen\",\"top_units\":\"screen\"},\"id\":\"aa219189-8104-4ce9-a9a1-7247b74823a0\",\"type\":\"BoxAnnotation\"},{\"attributes\":{\"dimension\":1,\"plot\":{\"id\":\"25e8a139-98c7-4d24-8653-1dfa97b14bc2\",\"subtype\":\"Figure\",\"type\":\"Plot\"},\"ticker\":{\"id\":\"f92435e9-845f-4990-852e-abc868dc13e8\",\"type\":\"BasicTicker\"}},\"id\":\"c436b384-d0b6-4410-8b1e-aac7cc75f61f\",\"type\":\"Grid\"},{\"attributes\":{\"plot\":{\"id\":\"25e8a139-98c7-4d24-8653-1dfa97b14bc2\",\"subtype\":\"Figure\",\"type\":\"Plot\"},\"ticker\":{\"id\":\"49015c9c-4c0d-416e-aff4-ddf0f8145b3b\",\"type\":\"BasicTicker\"}},\"id\":\"475f4322-d1f0-4b14-a75c-b8adfbe49696\",\"type\":\"Grid\"},{\"attributes\":{\"fill_alpha\":{\"value\":0.5},\"fill_color\":{\"value\":\"firebrick\"},\"line_alpha\":{\"value\":0.5},\"line_color\":{\"value\":\"firebrick\"},\"size\":{\"units\":\"screen\",\"value\":7},\"x\":{\"field\":\"x\"},\"y\":{\"field\":\"y\"}},\"id\":\"2fc2ce9a-8999-4c34-8b38-9832a867c869\",\"type\":\"Circle\"},{\"attributes\":{},\"id\":\"49015c9c-4c0d-416e-aff4-ddf0f8145b3b\",\"type\":\"BasicTicker\"},{\"attributes\":{\"plot\":null,\"text\":\"\"},\"id\":\"3cc8923a-0c59-4656-9425-2ca16276dc83\",\"type\":\"Title\"},{\"attributes\":{},\"id\":\"54c14536-e9c0-441d-b777-4ac3ff964ed2\",\"type\":\"PanTool\"},{\"attributes\":{\"below\":[{\"id\":\"3eed2daa-e5c6-4b5d-b809-74283c34ec7c\",\"type\":\"LinearAxis\"}],\"left\":[{\"id\":\"2f47cab8-5963-4154-99ce-1c426dbbddbe\",\"type\":\"LinearAxis\"}],\"plot_height\":500,\"plot_width\":500,\"renderers\":[{\"id\":\"3eed2daa-e5c6-4b5d-b809-74283c34ec7c\",\"type\":\"LinearAxis\"},{\"id\":\"475f4322-d1f0-4b14-a75c-b8adfbe49696\",\"type\":\"Grid\"},{\"id\":\"2f47cab8-5963-4154-99ce-1c426dbbddbe\",\"type\":\"LinearAxis\"},{\"id\":\"c436b384-d0b6-4410-8b1e-aac7cc75f61f\",\"type\":\"Grid\"},{\"id\":\"aa219189-8104-4ce9-a9a1-7247b74823a0\",\"type\":\"BoxAnnotation\"},{\"id\":\"41c712ec-d6d8-416b-90d9-4cad12ad31df\",\"type\":\"GlyphRenderer\"}],\"title\":{\"id\":\"3cc8923a-0c59-4656-9425-2ca16276dc83\",\"type\":\"Title\"},\"toolbar\":{\"id\":\"4185d0dd-7c11-4135-a452-8c7f8a958eca\",\"type\":\"Toolbar\"},\"x_range\":{\"id\":\"858896a4-9286-4683-9583-02bea72e6c6f\",\"type\":\"DataRange1d\"},\"x_scale\":{\"id\":\"92ef58d3-642d-4149-a12a-4145fbae0cd8\",\"type\":\"LinearScale\"},\"y_range\":{\"id\":\"b387664d-02b7-42e7-983e-c79e7e03c8fc\",\"type\":\"DataRange1d\"},\"y_scale\":{\"id\":\"4d5ac130-f094-4795-9d07-d0fcdf10f1bd\",\"type\":\"LinearScale\"}},\"id\":\"25e8a139-98c7-4d24-8653-1dfa97b14bc2\",\"subtype\":\"Figure\",\"type\":\"Plot\"},{\"attributes\":{},\"id\":\"5824a16a-0013-4500-a00f-a9c137c308ff\",\"type\":\"WheelZoomTool\"},{\"attributes\":{\"callback\":null,\"column_names\":[\"x\",\"y\"],\"data\":{\"x\":{\"__ndarray__\":\"AAAAAAAAGMCEDz744IMXwAgffPDBBxfAjC666KKLFsAQPvjggw8WwJNNNtlkkxXAF1100UUXFcCbbLLJJpsUwB988MEHHxTAo4suuuiiE8Anm2yyySYTwKqqqqqqqhLALrrooosuEsCyySabbLIRwDbZZJNNNhHAuuiiiy66EMA++OCDDz4QwIQPPvjggw/AjC666KKLDsCTTTbZZJMNwJtssskmmwzAo4suuuiiC8CqqqqqqqoKwLLJJptssgnAuuiiiy66CMDCBx988MEHwMomm2yyyQbA0UUXXXTRBcDZZJNNNtkEwOGDDz744APA6KKLLrroAsDwwQcffPABwPjggw8++ADAAAAAAAAAAMAQPvjggw/+vyB88MEHH/y/MLrooosu+r88+OCDDz74v0w22WSTTfa/XHTRRRdd9L9ssskmm2zyv3zwwQcffPC/GF100UUX7b842WSTTTbpv1BVVVVVVeW/cNFFF1104b8gm2yyySbbv2CTTTbZZNO/QBdddNFFx78AH3zwwQevvwAffPDBB68/QBdddNFFxz9gk0022WTTPzCbbLLJJts/eNFFF1104T9YVVVVVVXlPzjZZJNNNuk/GF100UUX7T988MEHH3zwP2yyySabbPI/YHTRRRdd9D9QNtlkk032P0D44IMPPvg/MLrooosu+j8gfPDBBx/8PxA++OCDD/4/AAAAAAAAAED44IMPPvgAQPDBBx988AFA6KKLLrroAkDggw8++OADQNhkk0022QRA0EUXXXTRBUDMJptssskGQMQHH3zwwQdAvOiiiy66CEC0ySabbLIJQKyqqqqqqgpApIsuuuiiC0CcbLLJJpsMQJRNNtlkkw1AjC666KKLDkCEDz744IMPQD744IMPPhBAuuiiiy66EEA22WSTTTYRQLLJJptsshFALrrooosuEkCsqqqqqqoSQCibbLLJJhNApIsuuuiiE0AgfPDBBx8UQJxssskmmxRAGF100UUXFUCUTTbZZJMVQBA++OCDDxZAjC666KKLFkAIH3zwwQcXQIQPPvjggxdAAAAAAAAAGEA=\",\"dtype\":\"float64\",\"shape\":[100]},\"y\":{\"__ndarray__\":\"9iJ4Cbe57j8JY+r+OmvtP60Tvck6rus/WLzTHz6J6T/y0bJaUwTnP6E1+zPxKOQ/oCcYONMB4T8ZPFzpojXbP8LygfRnAdQ/fGjcYAsEyT8z6888mk6zP+5YV8fTZqe/pYFip7xExb9PFf407y/Svy3Wz2Mtedm/GSzA6Fwx4L8zrWZ2Tmnjv1uZMxdUWOa/yEpIeGjz6L+AKUaewTDrv4rmZKv1B+2/pq/Cehpy7r9tKDKa32nvv7My8UCi6++/lWFJ+Hr1779ggMrCRIfvv13mP6edou6//JJWneBK7b/O+cbyGIXrv36TXFjvV+m/wpQK3pDL5r8GDQc8kOnjv6uITtzBvOC/BXJTVyai2r/ACBWWu2bTv4h0TibdxMe/siQZ5fDFsL8tuK+mtnmsP79vCY4VhcY//tyFCJLL0j9AaSfs/Q3aPzsevIFEd+A/HRvGyK6p4z+ZiDpMO5LmPxkpbAr9Jek/+alUikVb6z85RlM6ySntP8jZq5m+iu4/fMS1t/d47z+hS/Ko9fDvP6FL8qj18O8/fMS1t/d47z/I2auZvoruPzZGUzrJKe0/9KlUikVb6z8UKWwK/SXpP5mIOkw7kuY/HRvGyK6p4z87HryBRHfgP0BpJ+z9Ddo/79yFCJLL0j+fbwmOFYXGP623r6a2eaw/siQZ5fDFsL+IdE4m3cTHv8AIFZa7ZtO/BXJTVyai2r+riE7cwbzgvwYNBzyQ6eO/wpQK3pDL5r98k1xY71fpv8z5xvIYheu/+pJWneBK7b9g5j+nnaLuv2KAysJEh++/lWFJ+Hr177+zMvFAouvvv2soMprfae+/pK/Cehpy7r+I5mSr9Qftv38pRp7BMOu/yEpIeGjz6L9bmTMXVFjmvzOtZnZOaeO/GSzA6Fwx4L8t1s9jLXnZv08V/jTvL9K/pYFip7xExb/uV1fH02anv3PrzzyaTrM/m2jcYAsEyT/R8oH0ZwHUPyc8XOmiNds/pycYONMB4T+oNfsz8SjkP/LRslpTBOc/WLzTHz6J6T+tE73JOq7rPwlj6v46a+0/9iJ4Cbe57j8=\",\"dtype\":\"float64\",\"shape\":[100]}}},\"id\":\"e32359b3-9e46-4e6c-a87f-3e3142c3a7b9\",\"type\":\"ColumnDataSource\"},{\"attributes\":{\"overlay\":{\"id\":\"aa219189-8104-4ce9-a9a1-7247b74823a0\",\"type\":\"BoxAnnotation\"}},\"id\":\"276e1c45-684e-4951-9e67-72966bcefea6\",\"type\":\"BoxZoomTool\"},{\"attributes\":{},\"id\":\"126bd946-355a-4475-ac65-149436ef24e2\",\"type\":\"SaveTool\"},{\"attributes\":{},\"id\":\"277cd212-8d93-47c1-90ce-2fb3d595b18f\",\"type\":\"BasicTickFormatter\"},{\"attributes\":{\"data_source\":{\"id\":\"e32359b3-9e46-4e6c-a87f-3e3142c3a7b9\",\"type\":\"ColumnDataSource\"},\"glyph\":{\"id\":\"2fc2ce9a-8999-4c34-8b38-9832a867c869\",\"type\":\"Circle\"},\"hover_glyph\":null,\"muted_glyph\":null,\"nonselection_glyph\":{\"id\":\"84a79db0-5a4d-47ce-adb2-5326884eadf7\",\"type\":\"Circle\"},\"selection_glyph\":null,\"view\":{\"id\":\"cd8c5f21-5ef3-4f9b-bf86-4c132a6141c5\",\"type\":\"CDSView\"}},\"id\":\"41c712ec-d6d8-416b-90d9-4cad12ad31df\",\"type\":\"GlyphRenderer\"},{\"attributes\":{},\"id\":\"0dbf2c66-1427-40a8-8b52-a2499933e462\",\"type\":\"ResetTool\"},{\"attributes\":{},\"id\":\"86dd6761-7e0e-4b52-829f-dc44342c7517\",\"type\":\"BasicTickFormatter\"},{\"attributes\":{\"active_drag\":\"auto\",\"active_inspect\":\"auto\",\"active_scroll\":\"auto\",\"active_tap\":\"auto\",\"tools\":[{\"id\":\"54c14536-e9c0-441d-b777-4ac3ff964ed2\",\"type\":\"PanTool\"},{\"id\":\"5824a16a-0013-4500-a00f-a9c137c308ff\",\"type\":\"WheelZoomTool\"},{\"id\":\"276e1c45-684e-4951-9e67-72966bcefea6\",\"type\":\"BoxZoomTool\"},{\"id\":\"126bd946-355a-4475-ac65-149436ef24e2\",\"type\":\"SaveTool\"},{\"id\":\"0dbf2c66-1427-40a8-8b52-a2499933e462\",\"type\":\"ResetTool\"},{\"id\":\"38fc45f9-c513-4938-a4af-134e7b481592\",\"type\":\"HelpTool\"}]},\"id\":\"4185d0dd-7c11-4135-a452-8c7f8a958eca\",\"type\":\"Toolbar\"},{\"attributes\":{},\"id\":\"38fc45f9-c513-4938-a4af-134e7b481592\",\"type\":\"HelpTool\"},{\"attributes\":{\"fill_alpha\":{\"value\":0.1},\"fill_color\":{\"value\":\"#1f77b4\"},\"line_alpha\":{\"value\":0.1},\"line_color\":{\"value\":\"#1f77b4\"},\"size\":{\"units\":\"screen\",\"value\":7},\"x\":{\"field\":\"x\"},\"y\":{\"field\":\"y\"}},\"id\":\"84a79db0-5a4d-47ce-adb2-5326884eadf7\",\"type\":\"Circle\"},{\"attributes\":{\"callback\":null},\"id\":\"858896a4-9286-4683-9583-02bea72e6c6f\",\"type\":\"DataRange1d\"},{\"attributes\":{\"formatter\":{\"id\":\"86dd6761-7e0e-4b52-829f-dc44342c7517\",\"type\":\"BasicTickFormatter\"},\"plot\":{\"id\":\"25e8a139-98c7-4d24-8653-1dfa97b14bc2\",\"subtype\":\"Figure\",\"type\":\"Plot\"},\"ticker\":{\"id\":\"f92435e9-845f-4990-852e-abc868dc13e8\",\"type\":\"BasicTicker\"}},\"id\":\"2f47cab8-5963-4154-99ce-1c426dbbddbe\",\"type\":\"LinearAxis\"},{\"attributes\":{\"formatter\":{\"id\":\"277cd212-8d93-47c1-90ce-2fb3d595b18f\",\"type\":\"BasicTickFormatter\"},\"plot\":{\"id\":\"25e8a139-98c7-4d24-8653-1dfa97b14bc2\",\"subtype\":\"Figure\",\"type\":\"Plot\"},\"ticker\":{\"id\":\"49015c9c-4c0d-416e-aff4-ddf0f8145b3b\",\"type\":\"BasicTicker\"}},\"id\":\"3eed2daa-e5c6-4b5d-b809-74283c34ec7c\",\"type\":\"LinearAxis\"},{\"attributes\":{\"callback\":null},\"id\":\"b387664d-02b7-42e7-983e-c79e7e03c8fc\",\"type\":\"DataRange1d\"},{\"attributes\":{},\"id\":\"92ef58d3-642d-4149-a12a-4145fbae0cd8\",\"type\":\"LinearScale\"},{\"attributes\":{\"source\":{\"id\":\"e32359b3-9e46-4e6c-a87f-3e3142c3a7b9\",\"type\":\"ColumnDataSource\"}},\"id\":\"cd8c5f21-5ef3-4f9b-bf86-4c132a6141c5\",\"type\":\"CDSView\"},{\"attributes\":{},\"id\":\"4d5ac130-f094-4795-9d07-d0fcdf10f1bd\",\"type\":\"LinearScale\"}],\"root_ids\":[\"25e8a139-98c7-4d24-8653-1dfa97b14bc2\"]},\"title\":\"Bokeh Application\",\"version\":\"0.12.11\"}};\n",
       "    var render_items = [{\"docid\":\"1b8d0fe5-2bd6-4c4e-87e4-d0f18a9a2b95\",\"elementid\":\"eedaac36-d6b1-441a-93b3-188ea2a6b972\",\"modelid\":\"25e8a139-98c7-4d24-8653-1dfa97b14bc2\"}];\n",
       "    root.Bokeh.embed.embed_items(docs_json, render_items);\n",
       "  }\n",
       "  if (root.Bokeh !== undefined) {\n",
       "    embed_document(root);\n",
       "  } else {\n",
       "    var attempts = 0;\n",
       "    var timer = setInterval(function(root) {\n",
       "      if (root.Bokeh !== undefined) {\n",
       "        embed_document(root);\n",
       "        clearInterval(timer);\n",
       "      }\n",
       "      attempts++;\n",
       "      if (attempts > 100) {\n",
       "        console.log(\"Bokeh: ERROR: Unable to embed document because BokehJS library is missing\")\n",
       "        clearInterval(timer);\n",
       "      }\n",
       "    }, 10, root)\n",
       "  }\n",
       "})(window);"
      ],
      "application/vnd.bokehjs_exec.v0+json": ""
     },
     "metadata": {
      "application/vnd.bokehjs_exec.v0+json": {
       "id": "25e8a139-98c7-4d24-8653-1dfa97b14bc2"
      }
     },
     "output_type": "display_data"
    }
   ],
   "source": [
    "p = figure(width=500, height=500)\n",
    "p.circle(x, y, size=7, color=\"firebrick\", alpha=0.5)\n",
    "show(p)"
   ]
  },
  {
   "cell_type": "markdown",
   "metadata": {},
   "source": [
    "# Bar Plot Example\n",
    "\n",
    "\n",
    "Bokeh's core display model relies on *composing graphical primitives* which are bound to data series.  This is similar in spirit to Protovis and D3, and different than most other Python plotting libraries.\n",
    "\n",
    "A slightly more sophisticated example demonstrates this idea.\n",
    "\n",
    "Bokeh ships with a small set of interesting \"sample data\" in the `bokeh.sampledata` package.  We'll load up some historical automobile mileage data, which is returned as a Pandas `DataFrame`."
   ]
  },
  {
   "cell_type": "code",
   "execution_count": 20,
   "metadata": {
    "collapsed": true
   },
   "outputs": [],
   "source": [
    "from bokeh.sampledata.autompg import autompg\n",
    "\n",
    "grouped = autompg.groupby(\"yr\")\n",
    "mpg = grouped[\"mpg\"]\n",
    "avg = mpg.mean()\n",
    "std = mpg.std()\n",
    "years = list(grouped.groups.keys())\n",
    "american = autompg[autompg[\"origin\"]==1]\n",
    "japanese = autompg[autompg[\"origin\"]==3]"
   ]
  },
  {
   "cell_type": "markdown",
   "metadata": {},
   "source": [
    "For each year, we want to plot the distribution of MPG within that year."
   ]
  },
  {
   "cell_type": "code",
   "execution_count": 40,
   "metadata": {},
   "outputs": [
    {
     "data": {
      "text/html": [
       "\n",
       "<div class=\"bk-root\">\n",
       "    <div class=\"bk-plotdiv\" id=\"1aa38726-8f09-472d-a883-309c47ee8086\"></div>\n",
       "</div>"
      ]
     },
     "metadata": {},
     "output_type": "display_data"
    },
    {
     "data": {
      "application/javascript": [
       "(function(root) {\n",
       "  function embed_document(root) {\n",
       "    var docs_json = {\"66c46f46-8dc6-4153-9830-48e56c3e9ad1\":{\"roots\":{\"references\":[{\"attributes\":{\"label\":{\"value\":\"MPG 1 stddev\"},\"renderers\":[{\"id\":\"18f6706f-f711-447d-ae12-e144ac3603cf\",\"type\":\"GlyphRenderer\"}]},\"id\":\"2b528e4a-cce3-4569-9cd1-d16d32a5fd30\",\"type\":\"LegendItem\"},{\"attributes\":{\"bottom\":{\"field\":\"bottom\"},\"fill_alpha\":{\"value\":0.1},\"fill_color\":{\"value\":\"#1f77b4\"},\"line_alpha\":{\"value\":0.1},\"line_color\":{\"value\":\"#1f77b4\"},\"top\":{\"field\":\"top\"},\"width\":{\"value\":0.8},\"x\":{\"field\":\"x\"}},\"id\":\"0fadf161-38f1-4997-a45a-162d228c1f24\",\"type\":\"VBar\"},{\"attributes\":{\"items\":[{\"id\":\"2b528e4a-cce3-4569-9cd1-d16d32a5fd30\",\"type\":\"LegendItem\"},{\"id\":\"e89d9313-6de1-4604-b0c5-6f25a02ef7f9\",\"type\":\"LegendItem\"},{\"id\":\"d9ed941e-60c5-4cc2-98cd-4becde4f99a4\",\"type\":\"LegendItem\"}],\"location\":\"top_left\",\"plot\":{\"id\":\"758f761b-1946-48e4-81ab-a423d2334ad0\",\"subtype\":\"Figure\",\"type\":\"Plot\"}},\"id\":\"f59a94db-7d48-43f5-a073-0de8a260dfa3\",\"type\":\"Legend\"},{\"attributes\":{},\"id\":\"827be1f7-9a19-47e5-b9ef-1c7867d7da8e\",\"type\":\"ResetTool\"},{\"attributes\":{\"label\":{\"value\":\"Japanese\"},\"renderers\":[{\"id\":\"969e1b4d-6717-49e3-a132-8240b83a29cf\",\"type\":\"GlyphRenderer\"}]},\"id\":\"e89d9313-6de1-4604-b0c5-6f25a02ef7f9\",\"type\":\"LegendItem\"},{\"attributes\":{},\"id\":\"52043d15-440a-4e9b-921b-21b37151f684\",\"type\":\"HelpTool\"},{\"attributes\":{\"callback\":null,\"column_names\":[\"x\",\"top\",\"bottom\"],\"data\":{\"bottom\":{\"__ndarray__\":\"gvFgx2qzKECcKci59t4sQJZdRzm5jipAzvVtn6zMKECki7kXNjswQIpnc6D2pi5ApAV4qVNeL0DtFQi6+rIwQBxLQL6+KTFAWBwW2YNMMkBnDzEy+Oo6QAq856zmjDhAfzfsSXnEOkA=\",\"dtype\":\"float64\",\"shape\":[13]},\"top\":{\"__ndarray__\":\"55jlF2UHN0DAzlQxaMk7QBEIyj5aJjhATTh849zMNUD6TNCFok49QMPUTjgNNTlA1KLp0Ht2O0AT6vdFBQ0+QNr+XjaL9T5AVt48aCfjP0AojYptQ1hEQPSsO6IX6UFAQOQJW8OdQkA=\",\"dtype\":\"float64\",\"shape\":[13]},\"x\":[70,71,72,73,74,75,76,77,78,79,80,81,82]}},\"id\":\"760a2738-5e06-4f40-810a-60a4c24625ec\",\"type\":\"ColumnDataSource\"},{\"attributes\":{\"below\":[{\"id\":\"d6e045c5-cba1-402d-9790-3256b54d49c4\",\"type\":\"LinearAxis\"}],\"left\":[{\"id\":\"a4a0b2d6-148c-4929-9781-3eb2307c6de2\",\"type\":\"LinearAxis\"}],\"renderers\":[{\"id\":\"d6e045c5-cba1-402d-9790-3256b54d49c4\",\"type\":\"LinearAxis\"},{\"id\":\"35f41fff-9738-4109-982f-bb08680120af\",\"type\":\"Grid\"},{\"id\":\"a4a0b2d6-148c-4929-9781-3eb2307c6de2\",\"type\":\"LinearAxis\"},{\"id\":\"97562578-fe72-4b1b-84b8-812b848dfa93\",\"type\":\"Grid\"},{\"id\":\"291ee406-a73d-45cf-95b1-6ff9c743d1f4\",\"type\":\"BoxAnnotation\"},{\"id\":\"f59a94db-7d48-43f5-a073-0de8a260dfa3\",\"type\":\"Legend\"},{\"id\":\"18f6706f-f711-447d-ae12-e144ac3603cf\",\"type\":\"GlyphRenderer\"},{\"id\":\"969e1b4d-6717-49e3-a132-8240b83a29cf\",\"type\":\"GlyphRenderer\"},{\"id\":\"214b29bb-74d2-450c-b440-603f25e30545\",\"type\":\"GlyphRenderer\"}],\"title\":{\"id\":\"9b9ba6ca-13e5-4d3a-9354-cf2b070baf6d\",\"type\":\"Title\"},\"toolbar\":{\"id\":\"efaa20a7-c2f1-4eee-aff6-81fc56eb8484\",\"type\":\"Toolbar\"},\"x_range\":{\"id\":\"e9ffca1d-64fa-443a-bc8f-7711210246dc\",\"type\":\"DataRange1d\"},\"x_scale\":{\"id\":\"84a312e6-2377-4601-ad62-0d84d233c2fc\",\"type\":\"LinearScale\"},\"y_range\":{\"id\":\"9ca95a22-f4d7-40a9-8d6b-b13c1d5f6fdd\",\"type\":\"DataRange1d\"},\"y_scale\":{\"id\":\"27e35a67-29e7-4180-9d4f-097cd3768235\",\"type\":\"LinearScale\"}},\"id\":\"758f761b-1946-48e4-81ab-a423d2334ad0\",\"subtype\":\"Figure\",\"type\":\"Plot\"},{\"attributes\":{\"source\":{\"id\":\"760a2738-5e06-4f40-810a-60a4c24625ec\",\"type\":\"ColumnDataSource\"}},\"id\":\"9fbefbbe-8559-44ce-8211-72f172766425\",\"type\":\"CDSView\"},{\"attributes\":{\"fill_alpha\":{\"value\":0.3},\"fill_color\":{\"value\":\"blue\"},\"line_alpha\":{\"value\":0.3},\"line_color\":{\"value\":\"blue\"},\"size\":{\"units\":\"screen\",\"value\":10},\"x\":{\"field\":\"x\"},\"y\":{\"field\":\"y\"}},\"id\":\"ebc8db44-a3ef-4f4b-97f1-3457860707a2\",\"type\":\"Triangle\"},{\"attributes\":{},\"id\":\"7e97d602-5a2b-4298-83e5-d98dd22bf22f\",\"type\":\"BasicTickFormatter\"},{\"attributes\":{\"fill_alpha\":{\"value\":0.1},\"fill_color\":{\"value\":\"#1f77b4\"},\"line_alpha\":{\"value\":0.1},\"line_color\":{\"value\":\"#1f77b4\"},\"size\":{\"units\":\"screen\",\"value\":10},\"x\":{\"field\":\"x\"},\"y\":{\"field\":\"y\"}},\"id\":\"15cbed7b-78c5-4a51-9e77-30e8a82c6a53\",\"type\":\"Triangle\"},{\"attributes\":{},\"id\":\"2af02dbe-34cf-4247-b5a6-4a87c6c277b6\",\"type\":\"BasicTickFormatter\"},{\"attributes\":{\"source\":{\"id\":\"ca8d5c2c-7424-4221-816a-daed9193d394\",\"type\":\"ColumnDataSource\"}},\"id\":\"29795c72-ac4a-42a4-b0de-15aa1291d1c7\",\"type\":\"CDSView\"},{\"attributes\":{\"bottom\":{\"field\":\"bottom\"},\"fill_alpha\":{\"value\":0.2},\"fill_color\":{\"value\":\"#1f77b4\"},\"line_color\":{\"value\":null},\"top\":{\"field\":\"top\"},\"width\":{\"value\":0.8},\"x\":{\"field\":\"x\"}},\"id\":\"b77cb430-b1a8-4547-9386-054ca3c3f98e\",\"type\":\"VBar\"},{\"attributes\":{\"data_source\":{\"id\":\"ca8d5c2c-7424-4221-816a-daed9193d394\",\"type\":\"ColumnDataSource\"},\"glyph\":{\"id\":\"ebc8db44-a3ef-4f4b-97f1-3457860707a2\",\"type\":\"Triangle\"},\"hover_glyph\":null,\"muted_glyph\":null,\"nonselection_glyph\":{\"id\":\"15cbed7b-78c5-4a51-9e77-30e8a82c6a53\",\"type\":\"Triangle\"},\"selection_glyph\":null,\"view\":{\"id\":\"29795c72-ac4a-42a4-b0de-15aa1291d1c7\",\"type\":\"CDSView\"}},\"id\":\"214b29bb-74d2-450c-b440-603f25e30545\",\"type\":\"GlyphRenderer\"},{\"attributes\":{\"callback\":null},\"id\":\"e9ffca1d-64fa-443a-bc8f-7711210246dc\",\"type\":\"DataRange1d\"},{\"attributes\":{\"plot\":null,\"text\":\"MPG by Year (Japan and US)\"},\"id\":\"9b9ba6ca-13e5-4d3a-9354-cf2b070baf6d\",\"type\":\"Title\"},{\"attributes\":{\"active_drag\":\"auto\",\"active_inspect\":\"auto\",\"active_scroll\":\"auto\",\"active_tap\":\"auto\",\"tools\":[{\"id\":\"415b4f39-0605-45de-8942-ee952ef53baf\",\"type\":\"PanTool\"},{\"id\":\"f0e6be59-af96-4121-b25c-6ef70cf8f80b\",\"type\":\"WheelZoomTool\"},{\"id\":\"bec2f9fe-6d4c-4207-8f84-19c00468937b\",\"type\":\"BoxZoomTool\"},{\"id\":\"657f3781-0a1b-4f7d-b59e-1831beae7991\",\"type\":\"SaveTool\"},{\"id\":\"827be1f7-9a19-47e5-b9ef-1c7867d7da8e\",\"type\":\"ResetTool\"},{\"id\":\"52043d15-440a-4e9b-921b-21b37151f684\",\"type\":\"HelpTool\"}]},\"id\":\"efaa20a7-c2f1-4eee-aff6-81fc56eb8484\",\"type\":\"Toolbar\"},{\"attributes\":{\"dimension\":1,\"plot\":{\"id\":\"758f761b-1946-48e4-81ab-a423d2334ad0\",\"subtype\":\"Figure\",\"type\":\"Plot\"},\"ticker\":{\"id\":\"9887c8b3-4bf8-4f60-8fe6-5c2f40e9d1ec\",\"type\":\"BasicTicker\"}},\"id\":\"97562578-fe72-4b1b-84b8-812b848dfa93\",\"type\":\"Grid\"},{\"attributes\":{\"bottom_units\":\"screen\",\"fill_alpha\":{\"value\":0.5},\"fill_color\":{\"value\":\"lightgrey\"},\"left_units\":\"screen\",\"level\":\"overlay\",\"line_alpha\":{\"value\":1.0},\"line_color\":{\"value\":\"black\"},\"line_dash\":[4,4],\"line_width\":{\"value\":2},\"plot\":null,\"render_mode\":\"css\",\"right_units\":\"screen\",\"top_units\":\"screen\"},\"id\":\"291ee406-a73d-45cf-95b1-6ff9c743d1f4\",\"type\":\"BoxAnnotation\"},{\"attributes\":{\"label\":{\"value\":\"American\"},\"renderers\":[{\"id\":\"214b29bb-74d2-450c-b440-603f25e30545\",\"type\":\"GlyphRenderer\"}]},\"id\":\"d9ed941e-60c5-4cc2-98cd-4becde4f99a4\",\"type\":\"LegendItem\"},{\"attributes\":{},\"id\":\"84a312e6-2377-4601-ad62-0d84d233c2fc\",\"type\":\"LinearScale\"},{\"attributes\":{\"callback\":null},\"id\":\"9ca95a22-f4d7-40a9-8d6b-b13c1d5f6fdd\",\"type\":\"DataRange1d\"},{\"attributes\":{\"data_source\":{\"id\":\"944bbae7-f352-4861-9594-b1b3280af907\",\"type\":\"ColumnDataSource\"},\"glyph\":{\"id\":\"1eb17a19-bf6d-4639-a3e0-9a15f041425b\",\"type\":\"Circle\"},\"hover_glyph\":null,\"muted_glyph\":null,\"nonselection_glyph\":{\"id\":\"f22f077b-8e98-4193-897b-f90c77681b6f\",\"type\":\"Circle\"},\"selection_glyph\":null,\"view\":{\"id\":\"00db8665-5be6-4cb1-a029-f240b2a29cbc\",\"type\":\"CDSView\"}},\"id\":\"969e1b4d-6717-49e3-a132-8240b83a29cf\",\"type\":\"GlyphRenderer\"},{\"attributes\":{},\"id\":\"27e35a67-29e7-4180-9d4f-097cd3768235\",\"type\":\"LinearScale\"},{\"attributes\":{\"plot\":{\"id\":\"758f761b-1946-48e4-81ab-a423d2334ad0\",\"subtype\":\"Figure\",\"type\":\"Plot\"},\"ticker\":{\"id\":\"4b37897d-8e2b-47d8-881b-ecc782ffdd1c\",\"type\":\"BasicTicker\"}},\"id\":\"35f41fff-9738-4109-982f-bb08680120af\",\"type\":\"Grid\"},{\"attributes\":{\"fill_alpha\":{\"value\":0.1},\"fill_color\":{\"value\":\"#1f77b4\"},\"line_alpha\":{\"value\":0.1},\"line_color\":{\"value\":\"#1f77b4\"},\"size\":{\"units\":\"screen\",\"value\":10},\"x\":{\"field\":\"x\"},\"y\":{\"field\":\"y\"}},\"id\":\"f22f077b-8e98-4193-897b-f90c77681b6f\",\"type\":\"Circle\"},{\"attributes\":{\"formatter\":{\"id\":\"7e97d602-5a2b-4298-83e5-d98dd22bf22f\",\"type\":\"BasicTickFormatter\"},\"plot\":{\"id\":\"758f761b-1946-48e4-81ab-a423d2334ad0\",\"subtype\":\"Figure\",\"type\":\"Plot\"},\"ticker\":{\"id\":\"4b37897d-8e2b-47d8-881b-ecc782ffdd1c\",\"type\":\"BasicTicker\"}},\"id\":\"d6e045c5-cba1-402d-9790-3256b54d49c4\",\"type\":\"LinearAxis\"},{\"attributes\":{\"data_source\":{\"id\":\"760a2738-5e06-4f40-810a-60a4c24625ec\",\"type\":\"ColumnDataSource\"},\"glyph\":{\"id\":\"b77cb430-b1a8-4547-9386-054ca3c3f98e\",\"type\":\"VBar\"},\"hover_glyph\":null,\"muted_glyph\":null,\"nonselection_glyph\":{\"id\":\"0fadf161-38f1-4997-a45a-162d228c1f24\",\"type\":\"VBar\"},\"selection_glyph\":null,\"view\":{\"id\":\"9fbefbbe-8559-44ce-8211-72f172766425\",\"type\":\"CDSView\"}},\"id\":\"18f6706f-f711-447d-ae12-e144ac3603cf\",\"type\":\"GlyphRenderer\"},{\"attributes\":{},\"id\":\"4b37897d-8e2b-47d8-881b-ecc782ffdd1c\",\"type\":\"BasicTicker\"},{\"attributes\":{\"fill_alpha\":{\"value\":0.5},\"fill_color\":{\"value\":\"red\"},\"line_alpha\":{\"value\":0.5},\"line_color\":{\"value\":\"red\"},\"size\":{\"units\":\"screen\",\"value\":10},\"x\":{\"field\":\"x\"},\"y\":{\"field\":\"y\"}},\"id\":\"1eb17a19-bf6d-4639-a3e0-9a15f041425b\",\"type\":\"Circle\"},{\"attributes\":{},\"id\":\"657f3781-0a1b-4f7d-b59e-1831beae7991\",\"type\":\"SaveTool\"},{\"attributes\":{\"formatter\":{\"id\":\"2af02dbe-34cf-4247-b5a6-4a87c6c277b6\",\"type\":\"BasicTickFormatter\"},\"plot\":{\"id\":\"758f761b-1946-48e4-81ab-a423d2334ad0\",\"subtype\":\"Figure\",\"type\":\"Plot\"},\"ticker\":{\"id\":\"9887c8b3-4bf8-4f60-8fe6-5c2f40e9d1ec\",\"type\":\"BasicTicker\"}},\"id\":\"a4a0b2d6-148c-4929-9781-3eb2307c6de2\",\"type\":\"LinearAxis\"},{\"attributes\":{},\"id\":\"415b4f39-0605-45de-8942-ee952ef53baf\",\"type\":\"PanTool\"},{\"attributes\":{},\"id\":\"9887c8b3-4bf8-4f60-8fe6-5c2f40e9d1ec\",\"type\":\"BasicTicker\"},{\"attributes\":{\"callback\":null,\"column_names\":[\"x\",\"y\"],\"data\":{\"x\":[70,70,71,71,71,71,72,72,72,72,72,73,73,73,73,74,74,74,74,74,74,75,75,75,75,76,76,76,76,77,77,77,77,77,77,78,78,78,78,78,78,78,78,79,79,80,80,80,80,80,80,80,80,80,80,80,80,80,81,81,81,81,81,81,81,81,81,81,81,81,82,82,82,82,82,82,82,82,82],\"y\":{\"__ndarray__\":\"AAAAAAAAOEAAAAAAAAA7QAAAAAAAADtAAAAAAAAAOUAAAAAAAAA/QAAAAAAAgEFAAAAAAAAAOEAAAAAAAAAzQAAAAAAAADxAAAAAAAAAN0AAAAAAAAA7QAAAAAAAADRAAAAAAAAANkAAAAAAAAAyQAAAAAAAADRAAAAAAAAAP0AAAAAAAABAQAAAAAAAAD9AAAAAAAAAQEAAAAAAAAA4QAAAAAAAADpAAAAAAAAAPUAAAAAAAAA4QAAAAAAAADhAAAAAAACAQEAAAAAAAIBAQAAAAAAAAEBAAAAAAAAAPEAAAAAAAAAzQAAAAAAAgD9AAAAAAADAQEAAAAAAAAA6QAAAAAAAAD5AAAAAAAAANkAAAAAAAIA1QGZmZmZmZkBAMzMzMzOzQ0DNzMzMzAxCQAAAAAAAgDtAMzMzMzMzO0CamZmZmRk1QGZmZmZm5jdAAAAAAACAPUDNzMzMzAxBQM3MzMzMzD9AzczMzMwMQ0CamZmZmZlCQM3MzMzMzD1AzczMzMxMP0AAAAAAAIBCQJqZmZmZGUBAzczMzMxMR0BmZmZmZmZEQM3MzMzMTEZAZmZmZmbmQECamZmZmVlAQDMzMzMzszdAMzMzMzMzQEDNzMzMzIxDQM3MzMzMjEFAZmZmZmYmQEAAAAAAAIBCQJqZmZmZ2UJAzczMzMwMQUCamZmZmdlAQDMzMzMzM0BAMzMzMzNzQECamZmZmZk/QGZmZmZmZjlAMzMzMzMzOEAAAAAAAIBCQAAAAAAAAD9AAAAAAAAAQkAAAAAAAABCQAAAAAAAAEFAAAAAAAAAQ0AAAAAAAABAQAAAAAAAAENAAAAAAAAAQEA=\",\"dtype\":\"float64\",\"shape\":[79]}}},\"id\":\"944bbae7-f352-4861-9594-b1b3280af907\",\"type\":\"ColumnDataSource\"},{\"attributes\":{},\"id\":\"f0e6be59-af96-4121-b25c-6ef70cf8f80b\",\"type\":\"WheelZoomTool\"},{\"attributes\":{\"source\":{\"id\":\"944bbae7-f352-4861-9594-b1b3280af907\",\"type\":\"ColumnDataSource\"}},\"id\":\"00db8665-5be6-4cb1-a029-f240b2a29cbc\",\"type\":\"CDSView\"},{\"attributes\":{\"overlay\":{\"id\":\"291ee406-a73d-45cf-95b1-6ff9c743d1f4\",\"type\":\"BoxAnnotation\"}},\"id\":\"bec2f9fe-6d4c-4207-8f84-19c00468937b\",\"type\":\"BoxZoomTool\"},{\"attributes\":{\"callback\":null,\"column_names\":[\"x\",\"y\"],\"data\":{\"x\":[70,70,70,70,70,70,70,70,70,70,70,70,70,70,70,70,70,70,70,70,70,70,71,71,71,71,71,71,71,71,71,71,71,71,71,71,71,71,71,71,71,72,72,72,72,72,72,72,72,72,72,72,72,72,72,72,72,72,72,73,73,73,73,73,73,73,73,73,73,73,73,73,73,73,73,73,73,73,73,73,73,73,73,73,73,73,73,73,74,74,74,74,74,74,74,74,74,74,74,74,74,74,75,75,75,75,75,75,75,75,75,75,75,75,75,75,75,75,75,75,75,75,76,76,76,76,76,76,76,76,76,76,76,76,76,76,76,76,76,76,76,76,76,76,77,77,77,77,77,77,77,77,77,77,77,77,77,77,77,77,77,77,78,78,78,78,78,78,78,78,78,78,78,78,78,78,78,78,78,78,78,78,78,78,79,79,79,79,79,79,79,79,79,79,79,79,79,79,79,79,79,79,79,79,79,79,79,80,80,80,80,80,80,81,81,81,81,81,81,81,81,81,81,81,81,81,82,82,82,82,82,82,82,82,82,82,82,82,82,82,82,82,82,82,82],\"y\":{\"__ndarray__\":\"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\",\"dtype\":\"float64\",\"shape\":[245]}}},\"id\":\"ca8d5c2c-7424-4221-816a-daed9193d394\",\"type\":\"ColumnDataSource\"}],\"root_ids\":[\"758f761b-1946-48e4-81ab-a423d2334ad0\"]},\"title\":\"Bokeh Application\",\"version\":\"0.12.11\"}};\n",
       "    var render_items = [{\"docid\":\"66c46f46-8dc6-4153-9830-48e56c3e9ad1\",\"elementid\":\"1aa38726-8f09-472d-a883-309c47ee8086\",\"modelid\":\"758f761b-1946-48e4-81ab-a423d2334ad0\"}];\n",
       "    root.Bokeh.embed.embed_items(docs_json, render_items);\n",
       "  }\n",
       "  if (root.Bokeh !== undefined) {\n",
       "    embed_document(root);\n",
       "  } else {\n",
       "    var attempts = 0;\n",
       "    var timer = setInterval(function(root) {\n",
       "      if (root.Bokeh !== undefined) {\n",
       "        embed_document(root);\n",
       "        clearInterval(timer);\n",
       "      }\n",
       "      attempts++;\n",
       "      if (attempts > 100) {\n",
       "        console.log(\"Bokeh: ERROR: Unable to embed document because BokehJS library is missing\")\n",
       "        clearInterval(timer);\n",
       "      }\n",
       "    }, 10, root)\n",
       "  }\n",
       "})(window);"
      ],
      "application/vnd.bokehjs_exec.v0+json": ""
     },
     "metadata": {
      "application/vnd.bokehjs_exec.v0+json": {
       "id": "758f761b-1946-48e4-81ab-a423d2334ad0"
      }
     },
     "output_type": "display_data"
    }
   ],
   "source": [
    "p = figure(title=\"MPG by Year (Japan and US)\")\n",
    "\n",
    "p.vbar(x=years, bottom=avg-std, top=avg+std, width=0.8, \n",
    "       fill_alpha=0.2, line_color=None, legend=\"MPG 1 stddev\")\n",
    "\n",
    "p.circle(x=japanese[\"yr\"], y=japanese[\"mpg\"], size=10, alpha=0.5,\n",
    "         color=\"red\", legend=\"Japanese\")\n",
    "\n",
    "p.triangle(x=american[\"yr\"], y=american[\"mpg\"], size=10, alpha=0.3,\n",
    "           color=\"blue\", legend=\"American\")\n",
    "\n",
    "p.legend.location = \"top_left\"\n",
    "show(p)"
   ]
  },
  {
   "cell_type": "markdown",
   "metadata": {},
   "source": [
    "### This kind of approach can be used to generate other kinds of interesting plots. See many more examples in the [Bokeh Documentation Gallery](https://bokeh.pydata.org/en/latest/docs/gallery.html).  "
   ]
  },
  {
   "cell_type": "markdown",
   "metadata": {},
   "source": [
    "## Linked Brushing\n",
    "\n",
    "To link plots together at a data level, we can explicitly wrap the data in a `ColumnDataSource`. This allows us to reference columns by name.\n",
    "\n",
    "We can use a \"select\" tool to select points on one plot, and the linked points on the other plots will highlight."
   ]
  },
  {
   "cell_type": "markdown",
   "metadata": {},
   "source": [
    "Note: The special syntax, \\*args and \\*\\*kwargs in function definitions is used to pass a variable number of arguments to a function. The single asterisk form (\\*args) is used to pass a non-keyworded, variable-length argument list, and the double asterisk form is used to pass a keyworded, variable-length argument list.  \n",
    "https://www.saltycrane.com/blog/2008/01/how-to-use-args-and-kwargs-in-python/"
   ]
  },
  {
   "cell_type": "code",
   "execution_count": 47,
   "metadata": {},
   "outputs": [
    {
     "data": {
      "text/html": [
       "\n",
       "<div class=\"bk-root\">\n",
       "    <div class=\"bk-plotdiv\" id=\"9df4660d-2f10-419a-a650-a4727a8fba12\"></div>\n",
       "</div>"
      ]
     },
     "metadata": {},
     "output_type": "display_data"
    },
    {
     "data": {
      "application/javascript": [
       "(function(root) {\n",
       "  function embed_document(root) {\n",
       "    var docs_json = {\"dde16570-82de-4018-bf36-400633c4c034\":{\"roots\":{\"references\":[{\"attributes\":{\"data_source\":{\"id\":\"783dc7b9-0526-474c-80e9-b1bf447a5947\",\"type\":\"ColumnDataSource\"},\"glyph\":{\"id\":\"a760ad94-b909-4704-a56a-a0481048c2ff\",\"type\":\"Circle\"},\"hover_glyph\":null,\"muted_glyph\":null,\"nonselection_glyph\":{\"id\":\"272872fd-6cf4-4704-9860-2f06dad5cb1e\",\"type\":\"Circle\"},\"selection_glyph\":null,\"view\":{\"id\":\"0eba04b7-26fd-451c-abc2-dad78655440e\",\"type\":\"CDSView\"}},\"id\":\"87b08d48-4e18-49c9-a80f-e083bee3f5fa\",\"type\":\"GlyphRenderer\"},{\"attributes\":{},\"id\":\"21c017d0-ca0b-409b-ba5e-ebb395ba68b7\",\"type\":\"LinearScale\"},{\"attributes\":{\"overlay\":{\"id\":\"afdfbd9d-b35f-425e-aeaa-0ac07ef8e9e4\",\"type\":\"BoxAnnotation\"}},\"id\":\"54c537ae-5794-4185-b4ef-0ead39a1f2c8\",\"type\":\"BoxZoomTool\"},{\"attributes\":{\"plot\":null,\"text\":\"MPG by Year\"},\"id\":\"3734085d-cff2-429d-91ac-c980207c4534\",\"type\":\"Title\"},{\"attributes\":{},\"id\":\"3b856dd6-1329-4bdc-8dd7-c777dc06c965\",\"type\":\"ResetTool\"},{\"attributes\":{\"callback\":null,\"overlay\":{\"id\":\"650e814c-92e1-4cba-8855-b41dd097156e\",\"type\":\"BoxAnnotation\"},\"renderers\":[{\"id\":\"ff337ef0-ef24-4b1b-9739-1ea70169175b\",\"type\":\"GlyphRenderer\"}]},\"id\":\"fcc75c2c-bda3-4eb6-b44b-8717efbb5b84\",\"type\":\"BoxSelectTool\"},{\"attributes\":{\"fill_alpha\":{\"value\":0.5},\"fill_color\":{\"value\":\"lightgrey\"},\"level\":\"overlay\",\"line_alpha\":{\"value\":1.0},\"line_color\":{\"value\":\"black\"},\"line_dash\":[4,4],\"line_width\":{\"value\":2},\"plot\":null,\"xs_units\":\"screen\",\"ys_units\":\"screen\"},\"id\":\"1508c603-7562-45f8-95d1-d5470ae628aa\",\"type\":\"PolyAnnotation\"},{\"attributes\":{},\"id\":\"34c026e8-f8d5-401d-ae1b-04b1879cc6b2\",\"type\":\"BasicTickFormatter\"},{\"attributes\":{\"callback\":null,\"overlay\":{\"id\":\"5df1fe50-fbc0-4c66-b90d-b0817a1ff836\",\"type\":\"PolyAnnotation\"}},\"id\":\"2b4097a3-4dbe-4e24-be6b-79b4b322f045\",\"type\":\"LassoSelectTool\"},{\"attributes\":{},\"id\":\"3495c8c4-b9d4-4efe-9919-2f8c96d416b6\",\"type\":\"LinearScale\"},{\"attributes\":{\"toolbar\":{\"id\":\"158b3fca-e43c-460a-88e3-8e2f5379ad8e\",\"type\":\"ProxyToolbar\"}},\"id\":\"bac76f43-2fa3-458d-b003-dd824cc42d86\",\"type\":\"ToolbarBox\"},{\"attributes\":{},\"id\":\"faa8fe2f-02b9-440c-a601-401273d6bd89\",\"type\":\"BasicTickFormatter\"},{\"attributes\":{\"callback\":null},\"id\":\"c9b33e08-86e9-4396-9323-1399c6d59403\",\"type\":\"DataRange1d\"},{\"attributes\":{\"below\":[{\"id\":\"242b04f6-7718-4c56-aa01-89b71723f61d\",\"type\":\"LinearAxis\"}],\"left\":[{\"id\":\"8826cc49-a7cc-4d5c-aa8f-62007f919b0d\",\"type\":\"LinearAxis\"}],\"plot_height\":300,\"plot_width\":300,\"renderers\":[{\"id\":\"242b04f6-7718-4c56-aa01-89b71723f61d\",\"type\":\"LinearAxis\"},{\"id\":\"0997d946-13e8-471f-ba21-38df5c3990d5\",\"type\":\"Grid\"},{\"id\":\"8826cc49-a7cc-4d5c-aa8f-62007f919b0d\",\"type\":\"LinearAxis\"},{\"id\":\"965419d5-197a-4f1d-b4e3-4c3182e6bb4a\",\"type\":\"Grid\"},{\"id\":\"229f940f-144c-4521-87cd-1fd07ec4234d\",\"type\":\"BoxAnnotation\"},{\"id\":\"95149291-3a25-4616-9826-1fd1d3fb0874\",\"type\":\"BoxAnnotation\"},{\"id\":\"1508c603-7562-45f8-95d1-d5470ae628aa\",\"type\":\"PolyAnnotation\"},{\"id\":\"87b08d48-4e18-49c9-a80f-e083bee3f5fa\",\"type\":\"GlyphRenderer\"}],\"title\":{\"id\":\"3734085d-cff2-429d-91ac-c980207c4534\",\"type\":\"Title\"},\"toolbar\":{\"id\":\"838113c0-e82d-4f78-8180-c7c895f38131\",\"type\":\"Toolbar\"},\"toolbar_location\":null,\"x_range\":{\"id\":\"bb5daf45-3bb7-44f0-aea1-732fdd2138e7\",\"type\":\"DataRange1d\"},\"x_scale\":{\"id\":\"21c017d0-ca0b-409b-ba5e-ebb395ba68b7\",\"type\":\"LinearScale\"},\"y_range\":{\"id\":\"fb2fe78e-9fd2-4902-83be-f275efd1c61a\",\"type\":\"DataRange1d\"},\"y_scale\":{\"id\":\"c2d38349-e848-4b8f-8e2f-96608b0bd28d\",\"type\":\"LinearScale\"}},\"id\":\"46841129-bad7-44f3-8f36-e71bde10f490\",\"subtype\":\"Figure\",\"type\":\"Plot\"},{\"attributes\":{\"bottom_units\":\"screen\",\"fill_alpha\":{\"value\":0.5},\"fill_color\":{\"value\":\"lightgrey\"},\"left_units\":\"screen\",\"level\":\"overlay\",\"line_alpha\":{\"value\":1.0},\"line_color\":{\"value\":\"black\"},\"line_dash\":[4,4],\"line_width\":{\"value\":2},\"plot\":null,\"render_mode\":\"css\",\"right_units\":\"screen\",\"top_units\":\"screen\"},\"id\":\"650e814c-92e1-4cba-8855-b41dd097156e\",\"type\":\"BoxAnnotation\"},{\"attributes\":{\"fill_alpha\":{\"value\":0.1},\"fill_color\":{\"value\":\"#1f77b4\"},\"line_alpha\":{\"value\":0.1},\"line_color\":{\"value\":\"#1f77b4\"},\"x\":{\"field\":\"yr\"},\"y\":{\"field\":\"mpg\"}},\"id\":\"272872fd-6cf4-4704-9860-2f06dad5cb1e\",\"type\":\"Circle\"},{\"attributes\":{\"callback\":null},\"id\":\"a2638e7d-f9a5-44a1-8fc5-bcb068d6ccf0\",\"type\":\"DataRange1d\"},{\"attributes\":{\"plot\":null,\"text\":\"MPG vs. Displacement\"},\"id\":\"cca7c96c-4aff-43eb-9325-fed4fa84c6a4\",\"type\":\"Title\"},{\"attributes\":{},\"id\":\"a313b00d-ce3a-487c-85ba-1dd18eb8f043\",\"type\":\"ResetTool\"},{\"attributes\":{},\"id\":\"e46d7a82-5a76-45f5-a3a0-d0d803793689\",\"type\":\"PanTool\"},{\"attributes\":{\"plot\":{\"id\":\"00bcee84-5013-436f-9832-0ea160a1700b\",\"subtype\":\"Figure\",\"type\":\"Plot\"},\"ticker\":{\"id\":\"a0c04541-014f-45b8-9ff2-d55426dc3eab\",\"type\":\"BasicTicker\"}},\"id\":\"fb177e24-bea8-436a-abf9-6953184e075e\",\"type\":\"Grid\"},{\"attributes\":{\"callback\":null},\"id\":\"ebec300a-740e-45e0-a2e5-cb8289c45862\",\"type\":\"DataRange1d\"},{\"attributes\":{\"overlay\":{\"id\":\"229f940f-144c-4521-87cd-1fd07ec4234d\",\"type\":\"BoxAnnotation\"}},\"id\":\"c8faece3-98af-4438-804c-d8edcfdc47bd\",\"type\":\"BoxZoomTool\"},{\"attributes\":{},\"id\":\"79e9aec9-d24d-43fd-a85f-825e33ee55c8\",\"type\":\"BasicTickFormatter\"},{\"attributes\":{\"children\":[{\"id\":\"ca75bba3-9d37-4485-9c81-ddff3fd56075\",\"type\":\"Column\"},{\"id\":\"bac76f43-2fa3-458d-b003-dd824cc42d86\",\"type\":\"ToolbarBox\"}]},\"id\":\"561dbe7c-46d2-4bc4-89f1-eb612b4c187f\",\"type\":\"Row\"},{\"attributes\":{\"formatter\":{\"id\":\"9a7acf46-ac77-459b-900c-ceee607376a8\",\"type\":\"BasicTickFormatter\"},\"plot\":{\"id\":\"00bcee84-5013-436f-9832-0ea160a1700b\",\"subtype\":\"Figure\",\"type\":\"Plot\"},\"ticker\":{\"id\":\"a0c04541-014f-45b8-9ff2-d55426dc3eab\",\"type\":\"BasicTicker\"}},\"id\":\"98ca0857-5e2c-4186-9e19-03427a35ffea\",\"type\":\"LinearAxis\"},{\"attributes\":{},\"id\":\"efd63531-3cd6-44ad-b1f8-857f38120e4c\",\"type\":\"BasicTickFormatter\"},{\"attributes\":{\"fill_alpha\":{\"value\":0.5},\"fill_color\":{\"value\":\"lightgrey\"},\"level\":\"overlay\",\"line_alpha\":{\"value\":1.0},\"line_color\":{\"value\":\"black\"},\"line_dash\":[4,4],\"line_width\":{\"value\":2},\"plot\":null,\"xs_units\":\"screen\",\"ys_units\":\"screen\"},\"id\":\"5df1fe50-fbc0-4c66-b90d-b0817a1ff836\",\"type\":\"PolyAnnotation\"},{\"attributes\":{\"fill_color\":{\"value\":null},\"line_color\":{\"value\":\"red\"},\"size\":{\"field\":\"cyl\",\"units\":\"screen\"},\"x\":{\"field\":\"mpg\"},\"y\":{\"field\":\"displ\"}},\"id\":\"f1fe17e1-29e5-44a6-bd1e-4c16cdbb2e53\",\"type\":\"Circle\"},{\"attributes\":{\"bottom_units\":\"screen\",\"fill_alpha\":{\"value\":0.5},\"fill_color\":{\"value\":\"lightgrey\"},\"left_units\":\"screen\",\"level\":\"overlay\",\"line_alpha\":{\"value\":1.0},\"line_color\":{\"value\":\"black\"},\"line_dash\":[4,4],\"line_width\":{\"value\":2},\"plot\":null,\"render_mode\":\"css\",\"right_units\":\"screen\",\"top_units\":\"screen\"},\"id\":\"95149291-3a25-4616-9826-1fd1d3fb0874\",\"type\":\"BoxAnnotation\"},{\"attributes\":{\"fill_alpha\":{\"value\":0.5},\"fill_color\":{\"value\":\"lightgrey\"},\"level\":\"overlay\",\"line_alpha\":{\"value\":1.0},\"line_color\":{\"value\":\"black\"},\"line_dash\":[4,4],\"line_width\":{\"value\":2},\"plot\":null,\"xs_units\":\"screen\",\"ys_units\":\"screen\"},\"id\":\"409f0b78-6e71-46ab-a1d7-d28776579307\",\"type\":\"PolyAnnotation\"},{\"attributes\":{\"source\":{\"id\":\"783dc7b9-0526-474c-80e9-b1bf447a5947\",\"type\":\"ColumnDataSource\"}},\"id\":\"0eba04b7-26fd-451c-abc2-dad78655440e\",\"type\":\"CDSView\"},{\"attributes\":{\"source\":{\"id\":\"783dc7b9-0526-474c-80e9-b1bf447a5947\",\"type\":\"ColumnDataSource\"}},\"id\":\"1fe9105e-f758-451f-b9fc-3a7fc1c6a069\",\"type\":\"CDSView\"},{\"attributes\":{\"bottom_units\":\"screen\",\"fill_alpha\":{\"value\":0.5},\"fill_color\":{\"value\":\"lightgrey\"},\"left_units\":\"screen\",\"level\":\"overlay\",\"line_alpha\":{\"value\":1.0},\"line_color\":{\"value\":\"black\"},\"line_dash\":[4,4],\"line_width\":{\"value\":2},\"plot\":null,\"render_mode\":\"css\",\"right_units\":\"screen\",\"top_units\":\"screen\"},\"id\":\"afdfbd9d-b35f-425e-aeaa-0ac07ef8e9e4\",\"type\":\"BoxAnnotation\"},{\"attributes\":{\"callback\":null,\"overlay\":{\"id\":\"1508c603-7562-45f8-95d1-d5470ae628aa\",\"type\":\"PolyAnnotation\"}},\"id\":\"98a6c19a-3fdb-4112-99c3-99bd679ec9b3\",\"type\":\"LassoSelectTool\"},{\"attributes\":{\"formatter\":{\"id\":\"e0c72471-d5d6-498b-951d-6a661cc53b59\",\"type\":\"BasicTickFormatter\"},\"plot\":{\"id\":\"00bcee84-5013-436f-9832-0ea160a1700b\",\"subtype\":\"Figure\",\"type\":\"Plot\"},\"ticker\":{\"id\":\"453f87a4-1f65-4f52-9a58-46b181901320\",\"type\":\"BasicTicker\"}},\"id\":\"414ec1d7-686b-4668-840f-d95ff5bc469a\",\"type\":\"LinearAxis\"},{\"attributes\":{\"callback\":null,\"overlay\":{\"id\":\"95149291-3a25-4616-9826-1fd1d3fb0874\",\"type\":\"BoxAnnotation\"},\"renderers\":[{\"id\":\"87b08d48-4e18-49c9-a80f-e083bee3f5fa\",\"type\":\"GlyphRenderer\"}]},\"id\":\"52dd7bfe-bfc0-4cb6-9b8f-0fd7168aa6f0\",\"type\":\"BoxSelectTool\"},{\"attributes\":{},\"id\":\"f7bf242f-bd25-4c3e-bd6b-a1db0910189f\",\"type\":\"WheelZoomTool\"},{\"attributes\":{},\"id\":\"1321f928-0f86-4630-a2b9-f99685562a05\",\"type\":\"LinearScale\"},{\"attributes\":{\"active_drag\":\"auto\",\"active_inspect\":\"auto\",\"active_scroll\":\"auto\",\"active_tap\":\"auto\",\"tools\":[{\"id\":\"bd984197-9d6f-4f12-9c57-bfed084b6871\",\"type\":\"PanTool\"},{\"id\":\"48a07e84-2af3-425f-9b9c-1668f1c7742e\",\"type\":\"WheelZoomTool\"},{\"id\":\"97ee1381-4eea-4efb-a9b0-bc01fa4f1317\",\"type\":\"BoxZoomTool\"},{\"id\":\"924690f8-b8f0-400a-8be7-4972921ff82d\",\"type\":\"BoxSelectTool\"},{\"id\":\"bf1777db-1990-45b3-a592-f7a980859f91\",\"type\":\"LassoSelectTool\"},{\"id\":\"78f96577-99ed-43d1-878c-f9204326fcfe\",\"type\":\"ResetTool\"}]},\"id\":\"b9c2dc96-5e72-4b2d-b3d8-d1b9138ead86\",\"type\":\"Toolbar\"},{\"attributes\":{},\"id\":\"488ef61f-e37c-457d-b3e9-0188af681283\",\"type\":\"PanTool\"},{\"attributes\":{\"dimension\":1,\"plot\":{\"id\":\"46841129-bad7-44f3-8f36-e71bde10f490\",\"subtype\":\"Figure\",\"type\":\"Plot\"},\"ticker\":{\"id\":\"675e5bb1-8a52-4714-ba9f-06e8bf9fc3fa\",\"type\":\"BasicTicker\"}},\"id\":\"965419d5-197a-4f1d-b4e3-4c3182e6bb4a\",\"type\":\"Grid\"},{\"attributes\":{\"fill_alpha\":{\"value\":0.1},\"fill_color\":{\"value\":\"#1f77b4\"},\"line_alpha\":{\"value\":0.1},\"line_color\":{\"value\":\"#1f77b4\"},\"size\":{\"field\":\"cyl\",\"units\":\"screen\"},\"x\":{\"field\":\"mpg\"},\"y\":{\"field\":\"displ\"}},\"id\":\"c18d244a-8fc5-4789-9954-f79252201334\",\"type\":\"Circle\"},{\"attributes\":{\"dimension\":1,\"plot\":{\"id\":\"00bcee84-5013-436f-9832-0ea160a1700b\",\"subtype\":\"Figure\",\"type\":\"Plot\"},\"ticker\":{\"id\":\"453f87a4-1f65-4f52-9a58-46b181901320\",\"type\":\"BasicTicker\"}},\"id\":\"eb389ead-7cf8-4b43-a805-9a3809ab37c3\",\"type\":\"Grid\"},{\"attributes\":{},\"id\":\"49f24938-0049-4d82-a92f-aeff295a9537\",\"type\":\"BasicTicker\"},{\"attributes\":{\"source\":{\"id\":\"783dc7b9-0526-474c-80e9-b1bf447a5947\",\"type\":\"ColumnDataSource\"}},\"id\":\"c06c7bec-85a5-4a6a-9cc2-b3a2462d8c35\",\"type\":\"CDSView\"},{\"attributes\":{},\"id\":\"453f87a4-1f65-4f52-9a58-46b181901320\",\"type\":\"BasicTicker\"},{\"attributes\":{\"overlay\":{\"id\":\"fa8d3a96-5d36-422e-91ca-d482af39d7b0\",\"type\":\"BoxAnnotation\"}},\"id\":\"97ee1381-4eea-4efb-a9b0-bc01fa4f1317\",\"type\":\"BoxZoomTool\"},{\"attributes\":{},\"id\":\"675e5bb1-8a52-4714-ba9f-06e8bf9fc3fa\",\"type\":\"BasicTicker\"},{\"attributes\":{\"formatter\":{\"id\":\"faa8fe2f-02b9-440c-a601-401273d6bd89\",\"type\":\"BasicTickFormatter\"},\"plot\":{\"id\":\"46841129-bad7-44f3-8f36-e71bde10f490\",\"subtype\":\"Figure\",\"type\":\"Plot\"},\"ticker\":{\"id\":\"675e5bb1-8a52-4714-ba9f-06e8bf9fc3fa\",\"type\":\"BasicTicker\"}},\"id\":\"8826cc49-a7cc-4d5c-aa8f-62007f919b0d\",\"type\":\"LinearAxis\"},{\"attributes\":{},\"id\":\"a0c04541-014f-45b8-9ff2-d55426dc3eab\",\"type\":\"BasicTicker\"},{\"attributes\":{},\"id\":\"57611656-f5dc-4c9d-a0ec-d7d15e1ea6dc\",\"type\":\"LinearScale\"},{\"attributes\":{\"bottom_units\":\"screen\",\"fill_alpha\":{\"value\":0.5},\"fill_color\":{\"value\":\"lightgrey\"},\"left_units\":\"screen\",\"level\":\"overlay\",\"line_alpha\":{\"value\":1.0},\"line_color\":{\"value\":\"black\"},\"line_dash\":[4,4],\"line_width\":{\"value\":2},\"plot\":null,\"render_mode\":\"css\",\"right_units\":\"screen\",\"top_units\":\"screen\"},\"id\":\"229f940f-144c-4521-87cd-1fd07ec4234d\",\"type\":\"BoxAnnotation\"},{\"attributes\":{\"children\":[{\"id\":\"90d02cbd-095a-4524-97f3-3652e050158f\",\"type\":\"Row\"}]},\"id\":\"ca75bba3-9d37-4485-9c81-ddff3fd56075\",\"type\":\"Column\"},{\"attributes\":{\"children\":[{\"id\":\"46841129-bad7-44f3-8f36-e71bde10f490\",\"subtype\":\"Figure\",\"type\":\"Plot\"},{\"id\":\"4cd78d3f-3486-4dd2-ae78-598373860e43\",\"subtype\":\"Figure\",\"type\":\"Plot\"},{\"id\":\"00bcee84-5013-436f-9832-0ea160a1700b\",\"subtype\":\"Figure\",\"type\":\"Plot\"}]},\"id\":\"90d02cbd-095a-4524-97f3-3652e050158f\",\"type\":\"Row\"},{\"attributes\":{\"bottom_units\":\"screen\",\"fill_alpha\":{\"value\":0.5},\"fill_color\":{\"value\":\"lightgrey\"},\"left_units\":\"screen\",\"level\":\"overlay\",\"line_alpha\":{\"value\":1.0},\"line_color\":{\"value\":\"black\"},\"line_dash\":[4,4],\"line_width\":{\"value\":2},\"plot\":null,\"render_mode\":\"css\",\"right_units\":\"screen\",\"top_units\":\"screen\"},\"id\":\"fa8d3a96-5d36-422e-91ca-d482af39d7b0\",\"type\":\"BoxAnnotation\"},{\"attributes\":{},\"id\":\"fbaf5ee1-9735-4763-acdb-c0e7bafa4762\",\"type\":\"BasicTicker\"},{\"attributes\":{\"formatter\":{\"id\":\"34c026e8-f8d5-401d-ae1b-04b1879cc6b2\",\"type\":\"BasicTickFormatter\"},\"plot\":{\"id\":\"4cd78d3f-3486-4dd2-ae78-598373860e43\",\"subtype\":\"Figure\",\"type\":\"Plot\"},\"ticker\":{\"id\":\"fbaf5ee1-9735-4763-acdb-c0e7bafa4762\",\"type\":\"BasicTicker\"}},\"id\":\"fac77d7c-a68c-4a66-b011-73d0e1fe7044\",\"type\":\"LinearAxis\"},{\"attributes\":{},\"id\":\"bd984197-9d6f-4f12-9c57-bfed084b6871\",\"type\":\"PanTool\"},{\"attributes\":{\"plot\":{\"id\":\"4cd78d3f-3486-4dd2-ae78-598373860e43\",\"subtype\":\"Figure\",\"type\":\"Plot\"},\"ticker\":{\"id\":\"fbaf5ee1-9735-4763-acdb-c0e7bafa4762\",\"type\":\"BasicTicker\"}},\"id\":\"42b530dd-cc4b-4107-8a6f-9f7aba16b39f\",\"type\":\"Grid\"},{\"attributes\":{\"formatter\":{\"id\":\"efd63531-3cd6-44ad-b1f8-857f38120e4c\",\"type\":\"BasicTickFormatter\"},\"plot\":{\"id\":\"46841129-bad7-44f3-8f36-e71bde10f490\",\"subtype\":\"Figure\",\"type\":\"Plot\"},\"ticker\":{\"id\":\"391ced74-8e50-423d-9dc8-95114edddb02\",\"type\":\"BasicTicker\"}},\"id\":\"242b04f6-7718-4c56-aa01-89b71723f61d\",\"type\":\"LinearAxis\"},{\"attributes\":{},\"id\":\"48a07e84-2af3-425f-9b9c-1668f1c7742e\",\"type\":\"WheelZoomTool\"},{\"attributes\":{},\"id\":\"e5169031-696c-454c-8307-69c77e366311\",\"type\":\"LinearScale\"},{\"attributes\":{},\"id\":\"9a7acf46-ac77-459b-900c-ceee607376a8\",\"type\":\"BasicTickFormatter\"},{\"attributes\":{\"callback\":null},\"id\":\"15307e93-93f5-4797-bcc2-b1c83c0b3dc5\",\"type\":\"DataRange1d\"},{\"attributes\":{\"below\":[{\"id\":\"98ca0857-5e2c-4186-9e19-03427a35ffea\",\"type\":\"LinearAxis\"}],\"left\":[{\"id\":\"414ec1d7-686b-4668-840f-d95ff5bc469a\",\"type\":\"LinearAxis\"}],\"plot_height\":300,\"plot_width\":300,\"renderers\":[{\"id\":\"98ca0857-5e2c-4186-9e19-03427a35ffea\",\"type\":\"LinearAxis\"},{\"id\":\"fb177e24-bea8-436a-abf9-6953184e075e\",\"type\":\"Grid\"},{\"id\":\"414ec1d7-686b-4668-840f-d95ff5bc469a\",\"type\":\"LinearAxis\"},{\"id\":\"eb389ead-7cf8-4b43-a805-9a3809ab37c3\",\"type\":\"Grid\"},{\"id\":\"fa8d3a96-5d36-422e-91ca-d482af39d7b0\",\"type\":\"BoxAnnotation\"},{\"id\":\"016fc1ae-8449-48c6-9d69-419c1681e15c\",\"type\":\"BoxAnnotation\"},{\"id\":\"409f0b78-6e71-46ab-a1d7-d28776579307\",\"type\":\"PolyAnnotation\"},{\"id\":\"acd1a229-98ae-47aa-9bce-d3e7b761dd2a\",\"type\":\"GlyphRenderer\"}],\"title\":{\"id\":\"cca7c96c-4aff-43eb-9325-fed4fa84c6a4\",\"type\":\"Title\"},\"toolbar\":{\"id\":\"b9c2dc96-5e72-4b2d-b3d8-d1b9138ead86\",\"type\":\"Toolbar\"},\"toolbar_location\":null,\"x_range\":{\"id\":\"15307e93-93f5-4797-bcc2-b1c83c0b3dc5\",\"type\":\"DataRange1d\"},\"x_scale\":{\"id\":\"1321f928-0f86-4630-a2b9-f99685562a05\",\"type\":\"LinearScale\"},\"y_range\":{\"id\":\"ebec300a-740e-45e0-a2e5-cb8289c45862\",\"type\":\"DataRange1d\"},\"y_scale\":{\"id\":\"57611656-f5dc-4c9d-a0ec-d7d15e1ea6dc\",\"type\":\"LinearScale\"}},\"id\":\"00bcee84-5013-436f-9832-0ea160a1700b\",\"subtype\":\"Figure\",\"type\":\"Plot\"},{\"attributes\":{\"callback\":null,\"column_names\":[\"mpg\",\"cyl\",\"displ\",\"hp\",\"weight\",\"accel\",\"yr\",\"origin\",\"name\",\"index\"],\"data\":{\"accel\":{\"__ndarray__\":\"AAAAAAAAKEAAAAAAAAAnQAAAAAAAACZAAAAAAAAAKEAAAAAAAAAlQAAAAAAAACRAAAAAAAAAIkAAAAAAAAAhQAAAAAAAACRAAAAAAAAAIUAAAAAAAAAkQAAAAAAAACBAAAAAAAAAI0AAAAAAAAAkQAAAAAAAAC5AAAAAAAAAL0AAAAAAAAAvQAAAAAAAADBAAAAAAAAALUAAAAAAAIA0QAAAAAAAgDFAAAAAAAAALUAAAAAAAIAxQAAAAAAAAClAAAAAAAAALkAAAAAAAAAsQAAAAAAAAC5AAAAAAAAAK0AAAAAAAIAyQAAAAAAAAC1AAAAAAAAAL0AAAAAAAAAsQAAAAAAAACpAAAAAAAAAL0AAAAAAAAAvQAAAAAAAAC9AAAAAAAAAL0AAAAAAAAAoQAAAAAAAACdAAAAAAAAAK0AAAAAAAAAqQAAAAAAAACdAAAAAAAAAKEAAAAAAAAAoQAAAAAAAACtAAAAAAAAAM0AAAAAAAAAuQAAAAAAAAC1AAAAAAAAALEAAAAAAAAAsQAAAAAAAgDNAAAAAAAAALUAAAAAAAAAzQAAAAAAAADJAAAAAAAAAM0AAAAAAAIA0QAAAAAAAAC9AAAAAAAAAMUAAAAAAAIA3QAAAAAAAgDNAAAAAAACAMEAAAAAAAAAoQAAAAAAAAChAAAAAAAAAK0AAAAAAAAAqQAAAAAAAACdAAAAAAAAAJkAAAAAAAAArQAAAAAAAACtAAAAAAAAAKUAAAAAAAAArQAAAAAAAAClAAAAAAAAALEAAAAAAAAAwQAAAAAAAACxAAAAAAAAALUAAAAAAAAAyQAAAAAAAgDNAAAAAAAAAMkAAAAAAAAAwQAAAAAAAADFAAAAAAAAALUAAAAAAAAAuQAAAAAAAgDBAAAAAAAAAKkAAAAAAAAAnQAAAAAAAACpAAAAAAAAALUAAAAAAAAApQAAAAAAAACdAAAAAAAAAKEAAAAAAAAAqQAAAAAAAAC1AAAAAAAAAJkAAAAAAAAAmQAAAAAAAACZAAAAAAACAMEAAAAAAAAAyQAAAAAAAADBAAAAAAACAMEAAAAAAAAAwQAAAAAAAADVAAAAAAAAALEAAAAAAAAApQAAAAAAAACpAAAAAAAAAKUAAAAAAAAAuQAAAAAAAADNAAAAAAACAM0AAAAAAAIAwQAAAAAAAACtAAAAAAACAMkAAAAAAAAAsQAAAAAAAAC9AAAAAAAAAKkAAAAAAAAAjQAAAAAAAgDNAAAAAAAAAL0AAAAAAAAAsQAAAAAAAAC9AAAAAAAAAJkAAAAAAAAAsQAAAAAAAACtAAAAAAAAAJkAAAAAAAIAwQAAAAAAAADBAAAAAAAAAMUAAAAAAAAAzQAAAAAAAgDBAAAAAAAAANUAAAAAAAAAxQAAAAAAAADFAAAAAAAAAMkAAAAAAAIAwQAAAAAAAACxAAAAAAAAALUAAAAAAAAArQAAAAAAAADBAAAAAAAAAL0AAAAAAAIAwQAAAAAAAAC9AAAAAAAAALUAAAAAAAIAwQAAAAAAAADNAAAAAAAAALUAAAAAAAAAvQAAAAAAAACxAAAAAAAAALkAAAAAAAAAvQAAAAAAAADBAAAAAAAAAMEAAAAAAAAAwQAAAAAAAADVAAAAAAACAM0AAAAAAAAAnQAAAAAAAACxAAAAAAAAALUAAAAAAAAArQAAAAAAAADVAAAAAAACAMkAAAAAAAAAzQAAAAAAAADNAAAAAAAAALkAAAAAAAAArQAAAAAAAAChAAAAAAAAAMEAAAAAAAAAxQAAAAAAAADBAAAAAAACAMkAAAAAAAAArQAAAAAAAgDBAAAAAAAAAMUAAAAAAAAAtQAAAAAAAACxAAAAAAAAAMUAAAAAAAAAuQAAAAAAAADFAAAAAAAAALUAAAAAAAAArQAAAAAAAgDFAAAAAAAAAL0BmZmZmZuYwQM3MzMzMzC1AMzMzMzOzMUCamZmZmZkuQAAAAAAAACpAAAAAAAAAKkDNzMzMzMwrQJqZmZmZmSlAzczMzMzMLkAAAAAAAAAtQJqZmZmZmTFAmpmZmZmZMUAzMzMzMzM2QJqZmZmZGTZAZmZmZmZmLEBmZmZmZmYxQDMzMzMzszFAAAAAAAAANUAzMzMzMzMwQM3MzMzMzDFAZmZmZmZmKEAAAAAAAAAxQGZmZmZmZjBAMzMzMzMzK0BmZmZmZmYvQGZmZmZmZipAZmZmZmbmNUAAAAAAAAAvQDMzMzMzszBAMzMzMzMzKEAAAAAAAAAoQAAAAAAAAC5AAAAAAAAALEAAAAAAAIAyQJqZmZmZmS1AmpmZmZmZMkAAAAAAAAAvQM3MzMzMzDBAAAAAAAAAKUAAAAAAAAAzQGZmZmZmZitAzczMzMzMLUBmZmZmZmYwQGZmZmZm5jBAMzMzMzOzMUAAAAAAAAAzQDMzMzMzMyZAzczMzMzMJkBmZmZmZmYoQAAAAAAAAC1AAAAAAAAALUAAAAAAAAAwQDMzMzMzMzJAmpmZmZmZL0AAAAAAAAAxQM3MzMzMzC9AZmZmZmZmMEAzMzMzMzMsQAAAAAAAAC1AmpmZmZmZKUAAAAAAAAArQAAAAAAAgDVAzczMzMzMLEBmZmZmZmYzQJqZmZmZmTJAZmZmZmZmMEAAAAAAAAAvQGZmZmZmZipAmpmZmZmZKUAzMzMzMzMzQDMzMzMzMzJAmpmZmZmZL0DNzMzMzMwuQDMzMzMzMzFAMzMzMzMzMUCamZmZmZkvQDMzMzMzszBAMzMzMzOzMkAzMzMzMzMuQGZmZmZmZipAzczMzMzMKkBmZmZmZmYmQGZmZmZmZitAAAAAAACAMEBmZmZmZmYsQGZmZmZmZi1AAAAAAAAALUCamZmZmZktQDMzMzMzszBAmpmZmZmZMUDNzMzMzMwtQM3MzMzMzC9AMzMzMzMzK0BmZmZmZmYvQJqZmZmZmS9AzczMzMzMLUCamZmZmZkwQM3MzMzMzC5AMzMzMzMzMkDNzMzMzEwxQDMzMzMzMzJAmpmZmZmZMEDNzMzMzMwuQM3MzMzMzCpAZmZmZmZmKkBmZmZmZmYuQM3MzMzMzC1AmpmZmZmZLEAAAAAAAAAuQAAAAAAAACpAAAAAAAAALEBmZmZmZmYuQM3MzMzMzCxAAAAAAAAALkCamZmZmRk0QGZmZmZmZjFAzczMzMzMOEAzMzMzMzM2QGZmZmZmZipAzczMzMzMLUAzMzMzMzMzQGZmZmZmZi1AAAAAAAAAMECamZmZmZkmQM3MzMzMzClAZmZmZmZmKkBmZmZmZmYtQM3MzMzMzDJAAAAAAAAAL0BmZmZmZmYwQAAAAAAAgDBAmpmZmZkZMkCamZmZmRk0QDMzMzMzszJAmpmZmZmZL0AAAAAAAAAvQAAAAAAAgDFAAAAAAAAALkBmZmZmZmYuQGZmZmZm5jFAzczMzMzMLEAzMzMzMzMzQDMzMzMzszVAMzMzMzOzN0BmZmZmZuYzQM3MzMzMzDVAmpmZmZmZK0AAAAAAAAAyQJqZmZmZmS5AzczMzMzMJkAAAAAAAAApQDMzMzMzMy5AAAAAAAAAMUBmZmZmZmYvQGZmZmZmZjBAzczMzMzMLEAzMzMzMzMpQM3MzMzMzClAZmZmZmbmMEBmZmZmZmYwQJqZmZmZGTBAzczMzMzMMUBmZmZmZmYzQM3MzMzMTDFAAAAAAAAAMEDNzMzMzMwtQDMzMzMzMzBAMzMzMzOzNEBmZmZmZmYsQM3MzMzMzCxAzczMzMzMMECamZmZmZktQM3MzMzMTDJAZmZmZmZmNECamZmZmZkzQDMzMzMzMylAmpmZmZmZK0CamZmZmZkvQAAAAAAAADNAmpmZmZkZMUCamZmZmZkwQJqZmZmZmTNAmpmZmZmZMkAAAAAAAAAyQDMzMzMzMzBAAAAAAAAAMEAAAAAAAAAyQGZmZmZmZjBAmpmZmZmZLkAzMzMzMzMyQJqZmZmZmTFAZmZmZmZmLUDNzMzMzEwxQAAAAAAAAC1AAAAAAAAALUBmZmZmZuYwQAAAAAAAAC5AZmZmZmZmL0AzMzMzMzMwQGZmZmZmZjBAAAAAAAAAMUAAAAAAAAAtQGZmZmZmZi1AzczMzMzMK0AAAAAAAAAqQM3MzMzMTDFAMzMzMzMzL0CamZmZmZk4QDMzMzMzMydAmpmZmZmZMkBmZmZmZmYzQA==\",\"dtype\":\"float64\",\"shape\":[392]},\"cyl\":[8,8,8,8,8,8,8,8,8,8,8,8,8,8,4,6,6,6,4,4,4,4,4,4,6,8,8,8,8,4,4,4,6,6,6,6,6,8,8,8,8,8,8,8,6,4,6,6,4,4,4,4,4,4,4,4,4,4,4,4,4,8,8,8,8,8,8,8,8,8,3,8,8,8,8,4,4,4,4,4,4,4,4,4,8,8,8,8,8,8,8,8,8,8,8,8,6,6,6,6,6,4,8,8,8,8,6,4,4,4,3,4,6,4,8,8,4,4,4,4,8,4,6,8,6,6,6,4,4,4,4,6,6,6,8,8,8,8,8,4,4,4,4,4,4,4,4,4,4,4,6,6,6,6,8,8,8,8,6,6,6,6,6,8,8,4,4,6,4,4,4,4,6,4,6,4,4,4,4,4,4,4,4,4,4,8,8,8,8,6,6,6,6,4,4,4,4,6,6,6,6,4,4,4,4,4,8,4,6,6,8,8,8,8,4,4,4,4,4,8,8,8,8,6,6,6,6,8,8,8,8,4,4,4,4,4,4,4,4,6,4,3,4,4,4,4,4,8,8,8,6,6,6,4,6,6,6,6,6,6,8,6,8,8,4,4,4,4,4,4,4,4,5,6,4,6,4,4,6,6,4,6,6,8,8,8,8,8,8,8,8,4,4,4,4,5,8,4,8,4,4,4,4,4,6,6,4,4,4,4,4,4,4,4,6,4,4,4,4,4,4,4,4,4,4,5,4,4,4,4,6,3,4,4,4,4,4,6,4,4,4,4,4,4,4,4,4,4,4,4,4,4,4,4,4,6,6,6,6,8,6,6,4,4,4,4,4,4,4,4,4,4,4,4,4,4,4,4,4,4,6,6,4,6,4,4,4,4,4,4,4,4],\"displ\":{\"__ndarray__\":\"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\",\"dtype\":\"float64\",\"shape\":[392]},\"hp\":[130,165,150,150,140,198,220,215,225,190,170,160,150,225,95,95,97,85,88,46,87,90,95,113,90,215,200,210,193,88,90,95,100,105,100,88,100,165,175,153,150,180,170,175,110,72,100,88,86,90,70,76,65,69,60,70,95,80,54,90,86,165,175,150,153,150,208,155,160,190,97,150,130,140,150,112,76,87,69,86,92,97,80,88,175,150,145,137,150,198,150,158,150,215,225,175,105,100,100,88,95,46,150,167,170,180,100,88,72,94,90,85,107,90,145,230,49,75,91,112,150,110,122,180,95,100,100,67,80,65,75,100,110,105,140,150,150,140,150,83,67,78,52,61,75,75,75,97,93,67,95,105,72,72,170,145,150,148,110,105,110,95,110,110,129,75,83,100,78,96,71,97,97,70,90,95,88,98,115,53,86,81,92,79,83,140,150,120,152,100,105,81,90,52,60,70,53,100,78,110,95,71,70,75,72,102,150,88,108,120,180,145,130,150,68,80,58,96,70,145,110,145,130,110,105,100,98,180,170,190,149,78,88,75,89,63,83,67,78,97,110,110,48,66,52,70,60,110,140,139,105,95,85,88,100,90,105,85,110,120,145,165,139,140,68,95,97,75,95,105,85,97,103,125,115,133,71,68,115,85,88,90,110,130,129,138,135,155,142,125,150,71,65,80,80,77,125,71,90,70,70,65,69,90,115,115,90,76,60,70,65,90,88,90,90,78,90,75,92,75,65,105,65,48,48,67,67,67,67,62,132,100,88,72,84,84,92,110,84,58,64,60,67,65,62,68,63,65,65,74,75,75,100,74,80,76,116,120,110,105,88,85,88,88,88,85,84,90,92,74,68,68,63,70,88,75,70,67,67,67,110,85,92,112,96,84,90,86,52,84,79,82],\"index\":[0,1,2,3,4,5,6,7,8,9,10,11,12,13,14,15,16,17,18,19,20,21,22,23,24,25,26,27,28,29,30,31,32,33,34,35,36,37,38,39,40,41,42,43,44,45,46,47,48,49,50,51,52,53,54,55,56,57,58,59,60,61,62,63,64,65,66,67,68,69,70,71,72,73,74,75,76,77,78,79,80,81,82,83,84,85,86,87,88,89,90,91,92,93,94,95,96,97,98,99,100,101,102,103,104,105,106,107,108,109,110,111,112,113,114,115,116,117,118,119,120,121,122,123,124,125,126,127,128,129,130,131,132,133,134,135,136,137,138,139,140,141,142,143,144,145,146,147,148,149,150,151,152,153,154,155,156,157,158,159,160,161,162,163,164,165,166,167,168,169,170,171,172,173,174,175,176,177,178,179,180,181,182,183,184,185,186,187,188,189,190,191,192,193,194,195,196,197,198,199,200,201,202,203,204,205,206,207,208,209,210,211,212,213,214,215,216,217,218,219,220,221,222,223,224,225,226,227,228,229,230,231,232,233,234,235,236,237,238,239,240,241,242,243,244,245,246,247,248,249,250,251,252,253,254,255,256,257,258,259,260,261,262,263,264,265,266,267,268,269,270,271,272,273,274,275,276,277,278,279,280,281,282,283,284,285,286,287,288,289,290,291,292,293,294,295,296,297,298,299,300,301,302,303,304,305,306,307,308,309,310,311,312,313,314,315,316,317,318,319,320,321,322,323,324,325,326,327,328,329,330,331,332,333,334,335,336,337,338,339,340,341,342,343,344,345,346,347,348,349,350,351,352,353,354,355,356,357,358,359,360,361,362,363,364,365,366,367,368,369,370,371,372,373,374,375,376,377,378,379,380,381,382,383,384,385,386,387,388,389,390,391],\"mpg\":{\"__ndarray__\":\"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\",\"dtype\":\"float64\",\"shape\":[392]},\"name\":[\"chevrolet chevelle malibu\",\"buick skylark 320\",\"plymouth satellite\",\"amc rebel sst\",\"ford torino\",\"ford galaxie 500\",\"chevrolet impala\",\"plymouth fury iii\",\"pontiac catalina\",\"amc ambassador dpl\",\"dodge challenger se\",\"plymouth 'cuda 340\",\"chevrolet monte carlo\",\"buick estate wagon (sw)\",\"toyota corona mark ii\",\"plymouth duster\",\"amc hornet\",\"ford maverick\",\"datsun pl510\",\"volkswagen 1131 deluxe sedan\",\"peugeot 504\",\"audi 100 ls\",\"saab 99e\",\"bmw 2002\",\"amc gremlin\",\"ford f250\",\"chevy c20\",\"dodge d200\",\"hi 1200d\",\"datsun pl510\",\"chevrolet vega 2300\",\"toyota corona\",\"amc gremlin\",\"plymouth satellite custom\",\"chevrolet chevelle malibu\",\"ford torino 500\",\"amc matador\",\"chevrolet impala\",\"pontiac catalina brougham\",\"ford galaxie 500\",\"plymouth fury iii\",\"dodge monaco (sw)\",\"ford country squire (sw)\",\"pontiac safari (sw)\",\"amc hornet sportabout (sw)\",\"chevrolet vega (sw)\",\"pontiac firebird\",\"ford mustang\",\"mercury capri 2000\",\"opel 1900\",\"peugeot 304\",\"fiat 124b\",\"toyota corolla 1200\",\"datsun 1200\",\"volkswagen model 111\",\"plymouth cricket\",\"toyota corona hardtop\",\"dodge colt hardtop\",\"volkswagen type 3\",\"chevrolet vega\",\"ford pinto runabout\",\"chevrolet impala\",\"pontiac catalina\",\"plymouth fury iii\",\"ford galaxie 500\",\"amc ambassador sst\",\"mercury marquis\",\"buick lesabre custom\",\"oldsmobile delta 88 royale\",\"chrysler newport royal\",\"mazda rx2 coupe\",\"amc matador (sw)\",\"chevrolet chevelle concours (sw)\",\"ford gran torino (sw)\",\"plymouth satellite custom (sw)\",\"volvo 145e (sw)\",\"volkswagen 411 (sw)\",\"peugeot 504 (sw)\",\"renault 12 (sw)\",\"ford pinto (sw)\",\"datsun 510 (sw)\",\"toyouta corona mark ii (sw)\",\"dodge colt (sw)\",\"toyota corolla 1600 (sw)\",\"buick century 350\",\"amc matador\",\"chevrolet malibu\",\"ford gran torino\",\"dodge coronet custom\",\"mercury marquis brougham\",\"chevrolet caprice classic\",\"ford ltd\",\"plymouth fury gran sedan\",\"chrysler new yorker brougham\",\"buick electra 225 custom\",\"amc ambassador brougham\",\"plymouth valiant\",\"chevrolet nova custom\",\"amc hornet\",\"ford maverick\",\"plymouth duster\",\"volkswagen super beetle\",\"chevrolet impala\",\"ford country\",\"plymouth custom suburb\",\"oldsmobile vista cruiser\",\"amc gremlin\",\"toyota carina\",\"chevrolet vega\",\"datsun 610\",\"maxda rx3\",\"ford pinto\",\"mercury capri v6\",\"fiat 124 sport coupe\",\"chevrolet monte carlo s\",\"pontiac grand prix\",\"fiat 128\",\"opel manta\",\"audi 100ls\",\"volvo 144ea\",\"dodge dart custom\",\"saab 99le\",\"toyota mark ii\",\"oldsmobile omega\",\"plymouth duster\",\"amc hornet\",\"chevrolet nova\",\"datsun b210\",\"ford pinto\",\"toyota corolla 1200\",\"chevrolet vega\",\"chevrolet chevelle malibu classic\",\"amc matador\",\"plymouth satellite sebring\",\"ford gran torino\",\"buick century luxus (sw)\",\"dodge coronet custom (sw)\",\"ford gran torino (sw)\",\"amc matador (sw)\",\"audi fox\",\"volkswagen dasher\",\"opel manta\",\"toyota corona\",\"datsun 710\",\"dodge colt\",\"fiat 128\",\"fiat 124 tc\",\"honda civic\",\"subaru\",\"fiat x1.9\",\"plymouth valiant custom\",\"chevrolet nova\",\"mercury monarch\",\"ford maverick\",\"pontiac catalina\",\"chevrolet bel air\",\"plymouth grand fury\",\"ford ltd\",\"buick century\",\"chevroelt chevelle malibu\",\"amc matador\",\"plymouth fury\",\"buick skyhawk\",\"chevrolet monza 2+2\",\"ford mustang ii\",\"toyota corolla\",\"ford pinto\",\"amc gremlin\",\"pontiac astro\",\"toyota corona\",\"volkswagen dasher\",\"datsun 710\",\"ford pinto\",\"volkswagen rabbit\",\"amc pacer\",\"audi 100ls\",\"peugeot 504\",\"volvo 244dl\",\"saab 99le\",\"honda civic cvcc\",\"fiat 131\",\"opel 1900\",\"capri ii\",\"dodge colt\",\"renault 12tl\",\"chevrolet chevelle malibu classic\",\"dodge coronet brougham\",\"amc matador\",\"ford gran torino\",\"plymouth valiant\",\"chevrolet nova\",\"ford maverick\",\"amc hornet\",\"chevrolet chevette\",\"chevrolet woody\",\"vw rabbit\",\"honda civic\",\"dodge aspen se\",\"ford granada ghia\",\"pontiac ventura sj\",\"amc pacer d/l\",\"volkswagen rabbit\",\"datsun b-210\",\"toyota corolla\",\"ford pinto\",\"volvo 245\",\"plymouth volare premier v8\",\"peugeot 504\",\"toyota mark ii\",\"mercedes-benz 280s\",\"cadillac seville\",\"chevy c10\",\"ford f108\",\"dodge d100\",\"honda accord cvcc\",\"buick opel isuzu deluxe\",\"renault 5 gtl\",\"plymouth arrow gs\",\"datsun f-10 hatchback\",\"chevrolet caprice classic\",\"oldsmobile cutlass supreme\",\"dodge monaco brougham\",\"mercury cougar brougham\",\"chevrolet concours\",\"buick skylark\",\"plymouth volare custom\",\"ford granada\",\"pontiac grand prix lj\",\"chevrolet monte carlo landau\",\"chrysler cordoba\",\"ford thunderbird\",\"volkswagen rabbit custom\",\"pontiac sunbird coupe\",\"toyota corolla liftback\",\"ford mustang ii 2+2\",\"chevrolet chevette\",\"dodge colt m/m\",\"subaru dl\",\"volkswagen dasher\",\"datsun 810\",\"bmw 320i\",\"mazda rx-4\",\"volkswagen rabbit custom diesel\",\"ford fiesta\",\"mazda glc deluxe\",\"datsun b210 gx\",\"honda civic cvcc\",\"oldsmobile cutlass salon brougham\",\"dodge diplomat\",\"mercury monarch ghia\",\"pontiac phoenix lj\",\"chevrolet malibu\",\"ford fairmont (auto)\",\"ford fairmont (man)\",\"plymouth volare\",\"amc concord\",\"buick century special\",\"mercury zephyr\",\"dodge aspen\",\"amc concord d/l\",\"chevrolet monte carlo landau\",\"buick regal sport coupe (turbo)\",\"ford futura\",\"dodge magnum xe\",\"chevrolet chevette\",\"toyota corona\",\"datsun 510\",\"dodge omni\",\"toyota celica gt liftback\",\"plymouth sapporo\",\"oldsmobile starfire sx\",\"datsun 200-sx\",\"audi 5000\",\"volvo 264gl\",\"saab 99gle\",\"peugeot 604sl\",\"volkswagen scirocco\",\"honda accord lx\",\"pontiac lemans v6\",\"mercury zephyr 6\",\"ford fairmont 4\",\"amc concord dl 6\",\"dodge aspen 6\",\"chevrolet caprice classic\",\"ford ltd landau\",\"mercury grand marquis\",\"dodge st. regis\",\"buick estate wagon (sw)\",\"ford country squire (sw)\",\"chevrolet malibu classic (sw)\",\"chrysler lebaron town @ country (sw)\",\"vw rabbit custom\",\"maxda glc deluxe\",\"dodge colt hatchback custom\",\"amc spirit dl\",\"mercedes benz 300d\",\"cadillac eldorado\",\"peugeot 504\",\"oldsmobile cutlass salon brougham\",\"plymouth horizon\",\"plymouth horizon tc3\",\"datsun 210\",\"fiat strada custom\",\"buick skylark limited\",\"chevrolet citation\",\"oldsmobile omega brougham\",\"pontiac phoenix\",\"vw rabbit\",\"toyota corolla tercel\",\"chevrolet chevette\",\"datsun 310\",\"chevrolet citation\",\"ford fairmont\",\"amc concord\",\"dodge aspen\",\"audi 4000\",\"toyota corona liftback\",\"mazda 626\",\"datsun 510 hatchback\",\"toyota corolla\",\"mazda glc\",\"dodge colt\",\"datsun 210\",\"vw rabbit c (diesel)\",\"vw dasher (diesel)\",\"audi 5000s (diesel)\",\"mercedes-benz 240d\",\"honda civic 1500 gl\",\"subaru dl\",\"vokswagen rabbit\",\"datsun 280-zx\",\"mazda rx-7 gs\",\"triumph tr7 coupe\",\"honda accord\",\"plymouth reliant\",\"buick skylark\",\"dodge aries wagon (sw)\",\"chevrolet citation\",\"plymouth reliant\",\"toyota starlet\",\"plymouth champ\",\"honda civic 1300\",\"subaru\",\"datsun 210 mpg\",\"toyota tercel\",\"mazda glc 4\",\"plymouth horizon 4\",\"ford escort 4w\",\"ford escort 2h\",\"volkswagen jetta\",\"honda prelude\",\"toyota corolla\",\"datsun 200sx\",\"mazda 626\",\"peugeot 505s turbo diesel\",\"volvo diesel\",\"toyota cressida\",\"datsun 810 maxima\",\"buick century\",\"oldsmobile cutlass ls\",\"ford granada gl\",\"chrysler lebaron salon\",\"chevrolet cavalier\",\"chevrolet cavalier wagon\",\"chevrolet cavalier 2-door\",\"pontiac j2000 se hatchback\",\"dodge aries se\",\"pontiac phoenix\",\"ford fairmont futura\",\"volkswagen rabbit l\",\"mazda glc custom l\",\"mazda glc custom\",\"plymouth horizon miser\",\"mercury lynx l\",\"nissan stanza xe\",\"honda accord\",\"toyota corolla\",\"honda civic\",\"honda civic (auto)\",\"datsun 310 gx\",\"buick century limited\",\"oldsmobile cutlass ciera (diesel)\",\"chrysler lebaron medallion\",\"ford granada l\",\"toyota celica gt\",\"dodge charger 2.2\",\"chevrolet camaro\",\"ford mustang gl\",\"vw pickup\",\"dodge rampage\",\"ford ranger\",\"chevy s-10\"],\"origin\":[1,1,1,1,1,1,1,1,1,1,1,1,1,1,3,1,1,1,3,2,2,2,2,2,1,1,1,1,1,3,1,3,1,1,1,1,1,1,1,1,1,1,1,1,1,1,1,1,1,2,2,2,3,3,2,1,3,1,2,1,1,1,1,1,1,1,1,1,1,1,3,1,1,1,1,2,2,2,2,1,3,3,1,3,1,1,1,1,1,1,1,1,1,1,1,1,1,1,1,1,1,2,1,1,1,1,1,3,1,3,3,1,1,2,1,1,2,2,2,2,1,2,3,1,1,1,1,3,1,3,1,1,1,1,1,1,1,1,1,2,2,2,3,3,1,2,2,3,3,2,1,1,1,1,1,1,1,1,1,1,1,1,1,1,1,3,1,1,1,3,2,3,1,2,1,2,2,2,2,3,2,2,1,1,2,1,1,1,1,1,1,1,1,1,1,2,3,1,1,1,1,2,3,3,1,2,1,2,3,2,1,1,1,1,3,1,2,1,3,1,1,1,1,1,1,1,1,1,1,1,1,2,1,3,1,1,1,3,2,3,2,3,2,1,3,3,3,1,1,1,1,1,1,1,1,1,1,1,1,1,1,1,1,1,1,3,3,1,3,1,1,3,2,2,2,2,2,3,1,1,1,1,1,1,1,1,1,1,1,1,1,2,3,1,1,2,1,2,1,1,1,3,2,1,1,1,1,2,3,1,3,1,1,1,1,2,3,3,3,3,3,1,3,2,2,2,2,3,3,2,3,3,2,3,1,1,1,1,1,3,1,3,3,3,3,3,1,1,1,2,3,3,3,3,2,2,3,3,1,1,1,1,1,1,1,1,1,1,1,2,3,3,1,1,3,3,3,3,3,3,1,1,1,1,3,1,1,1,2,1,1,1],\"weight\":[3504,3693,3436,3433,3449,4341,4354,4312,4425,3850,3563,3609,3761,3086,2372,2833,2774,2587,2130,1835,2672,2430,2375,2234,2648,4615,4376,4382,4732,2130,2264,2228,2634,3439,3329,3302,3288,4209,4464,4154,4096,4955,4746,5140,2962,2408,3282,3139,2220,2123,2074,2065,1773,1613,1834,1955,2278,2126,2254,2408,2226,4274,4385,4135,4129,3672,4633,4502,4456,4422,2330,3892,4098,4294,4077,2933,2511,2979,2189,2395,2288,2506,2164,2100,4100,3672,3988,4042,3777,4952,4464,4363,4237,4735,4951,3821,3121,3278,2945,3021,2904,1950,4997,4906,4654,4499,2789,2279,2401,2379,2124,2310,2472,2265,4082,4278,1867,2158,2582,2868,3399,2660,2807,3664,3102,2901,3336,1950,2451,1836,2542,3781,3632,3613,4141,4699,4457,4638,4257,2219,1963,2300,1649,2003,2125,2108,2246,2489,2391,2000,3264,3459,3432,3158,4668,4440,4498,4657,3907,3897,3730,3785,3039,3221,3169,2171,2639,2914,2592,2702,2223,2545,2984,1937,3211,2694,2957,2945,2671,1795,2464,2220,2572,2255,2202,4215,4190,3962,4215,3233,3353,3012,3085,2035,2164,1937,1795,3651,3574,3645,3193,1825,1990,2155,2565,3150,3940,3270,2930,3820,4380,4055,3870,3755,2045,2155,1825,2300,1945,3880,4060,4140,4295,3520,3425,3630,3525,4220,4165,4325,4335,1940,2740,2265,2755,2051,2075,1985,2190,2815,2600,2720,1985,1800,1985,2070,1800,3365,3735,3570,3535,3155,2965,2720,3430,3210,3380,3070,3620,3410,3425,3445,3205,4080,2155,2560,2300,2230,2515,2745,2855,2405,2830,3140,2795,3410,1990,2135,3245,2990,2890,3265,3360,3840,3725,3955,3830,4360,4054,3605,3940,1925,1975,1915,2670,3530,3900,3190,3420,2200,2150,2020,2130,2670,2595,2700,2556,2144,1968,2120,2019,2678,2870,3003,3381,2188,2711,2542,2434,2265,2110,2800,2110,2085,2335,2950,3250,1850,2145,1845,2910,2420,2500,2290,2490,2635,2620,2725,2385,1755,1875,1760,2065,1975,2050,1985,2215,2045,2380,2190,2210,2350,2615,2635,3230,3160,2900,2930,3415,3725,3060,3465,2605,2640,2395,2575,2525,2735,2865,1980,2025,1970,2125,2125,2160,2205,2245,1965,1965,1995,2945,3015,2585,2835,2665,2370,2950,2790,2130,2295,2625,2720],\"yr\":[70,70,70,70,70,70,70,70,70,70,70,70,70,70,70,70,70,70,70,70,70,70,70,70,70,70,70,70,70,71,71,71,71,71,71,71,71,71,71,71,71,71,71,71,71,71,71,71,71,71,71,71,71,71,71,71,72,72,72,72,72,72,72,72,72,72,72,72,72,72,72,72,72,72,72,72,72,72,72,72,72,72,72,72,73,73,73,73,73,73,73,73,73,73,73,73,73,73,73,73,73,73,73,73,73,73,73,73,73,73,73,73,73,73,73,73,73,73,73,73,73,73,73,73,74,74,74,74,74,74,74,74,74,74,74,74,74,74,74,74,74,74,74,74,74,74,74,74,74,74,75,75,75,75,75,75,75,75,75,75,75,75,75,75,75,75,75,75,75,75,75,75,75,75,75,75,75,75,75,75,76,76,76,76,76,76,76,76,76,76,76,76,76,76,76,76,76,76,76,76,76,76,76,76,76,76,76,76,76,76,76,76,76,76,77,77,77,77,77,77,77,77,77,77,77,77,77,77,77,77,77,77,77,77,77,77,77,77,77,77,77,77,78,78,78,78,78,78,78,78,78,78,78,78,78,78,78,78,78,78,78,78,78,78,78,78,78,78,78,78,78,78,78,78,78,78,78,78,79,79,79,79,79,79,79,79,79,79,79,79,79,79,79,79,79,79,79,79,79,79,79,79,79,79,79,79,79,80,80,80,80,80,80,80,80,80,80,80,80,80,80,80,80,80,80,80,80,80,80,80,80,80,80,80,81,81,81,81,81,81,81,81,81,81,81,81,81,81,81,81,81,81,81,81,81,81,81,81,81,81,81,81,82,82,82,82,82,82,82,82,82,82,82,82,82,82,82,82,82,82,82,82,82,82,82,82,82,82,82,82,82,82]}},\"id\":\"783dc7b9-0526-474c-80e9-b1bf447a5947\",\"type\":\"ColumnDataSource\"},{\"attributes\":{},\"id\":\"78f96577-99ed-43d1-878c-f9204326fcfe\",\"type\":\"ResetTool\"},{\"attributes\":{\"active_drag\":\"auto\",\"active_inspect\":\"auto\",\"active_scroll\":\"auto\",\"active_tap\":\"auto\",\"tools\":[{\"id\":\"e46d7a82-5a76-45f5-a3a0-d0d803793689\",\"type\":\"PanTool\"},{\"id\":\"88a9511c-e4ea-4c18-988d-93847af16e05\",\"type\":\"WheelZoomTool\"},{\"id\":\"54c537ae-5794-4185-b4ef-0ead39a1f2c8\",\"type\":\"BoxZoomTool\"},{\"id\":\"fcc75c2c-bda3-4eb6-b44b-8717efbb5b84\",\"type\":\"BoxSelectTool\"},{\"id\":\"2b4097a3-4dbe-4e24-be6b-79b4b322f045\",\"type\":\"LassoSelectTool\"},{\"id\":\"a313b00d-ce3a-487c-85ba-1dd18eb8f043\",\"type\":\"ResetTool\"}]},\"id\":\"2b463caf-0c45-4150-ab9a-86a05a3af68c\",\"type\":\"Toolbar\"},{\"attributes\":{\"fill_color\":{\"value\":\"blue\"},\"line_color\":{\"value\":\"blue\"},\"x\":{\"field\":\"yr\"},\"y\":{\"field\":\"mpg\"}},\"id\":\"a760ad94-b909-4704-a56a-a0481048c2ff\",\"type\":\"Circle\"},{\"attributes\":{},\"id\":\"88a9511c-e4ea-4c18-988d-93847af16e05\",\"type\":\"WheelZoomTool\"},{\"attributes\":{\"callback\":null,\"overlay\":{\"id\":\"016fc1ae-8449-48c6-9d69-419c1681e15c\",\"type\":\"BoxAnnotation\"},\"renderers\":[{\"id\":\"acd1a229-98ae-47aa-9bce-d3e7b761dd2a\",\"type\":\"GlyphRenderer\"}]},\"id\":\"924690f8-b8f0-400a-8be7-4972921ff82d\",\"type\":\"BoxSelectTool\"},{\"attributes\":{\"plot\":null,\"text\":\"HP vs. Displacement\"},\"id\":\"ab23458e-c204-4a5b-80cc-66f9343cbddb\",\"type\":\"Title\"},{\"attributes\":{\"below\":[{\"id\":\"fac77d7c-a68c-4a66-b011-73d0e1fe7044\",\"type\":\"LinearAxis\"}],\"left\":[{\"id\":\"2b88b3ea-6f14-4373-91fd-7907aa273349\",\"type\":\"LinearAxis\"}],\"plot_height\":300,\"plot_width\":300,\"renderers\":[{\"id\":\"fac77d7c-a68c-4a66-b011-73d0e1fe7044\",\"type\":\"LinearAxis\"},{\"id\":\"42b530dd-cc4b-4107-8a6f-9f7aba16b39f\",\"type\":\"Grid\"},{\"id\":\"2b88b3ea-6f14-4373-91fd-7907aa273349\",\"type\":\"LinearAxis\"},{\"id\":\"adb14010-47e1-401c-86e4-b6ee3fae88d8\",\"type\":\"Grid\"},{\"id\":\"afdfbd9d-b35f-425e-aeaa-0ac07ef8e9e4\",\"type\":\"BoxAnnotation\"},{\"id\":\"650e814c-92e1-4cba-8855-b41dd097156e\",\"type\":\"BoxAnnotation\"},{\"id\":\"5df1fe50-fbc0-4c66-b90d-b0817a1ff836\",\"type\":\"PolyAnnotation\"},{\"id\":\"ff337ef0-ef24-4b1b-9739-1ea70169175b\",\"type\":\"GlyphRenderer\"}],\"title\":{\"id\":\"ab23458e-c204-4a5b-80cc-66f9343cbddb\",\"type\":\"Title\"},\"toolbar\":{\"id\":\"2b463caf-0c45-4150-ab9a-86a05a3af68c\",\"type\":\"Toolbar\"},\"toolbar_location\":null,\"x_range\":{\"id\":\"c9b33e08-86e9-4396-9323-1399c6d59403\",\"type\":\"DataRange1d\"},\"x_scale\":{\"id\":\"e5169031-696c-454c-8307-69c77e366311\",\"type\":\"LinearScale\"},\"y_range\":{\"id\":\"a2638e7d-f9a5-44a1-8fc5-bcb068d6ccf0\",\"type\":\"DataRange1d\"},\"y_scale\":{\"id\":\"3495c8c4-b9d4-4efe-9919-2f8c96d416b6\",\"type\":\"LinearScale\"}},\"id\":\"4cd78d3f-3486-4dd2-ae78-598373860e43\",\"subtype\":\"Figure\",\"type\":\"Plot\"},{\"attributes\":{\"data_source\":{\"id\":\"783dc7b9-0526-474c-80e9-b1bf447a5947\",\"type\":\"ColumnDataSource\"},\"glyph\":{\"id\":\"6ff2379e-fa85-4bbf-90b2-1ceab3cce569\",\"type\":\"Circle\"},\"hover_glyph\":null,\"muted_glyph\":null,\"nonselection_glyph\":{\"id\":\"8b055791-4659-4983-a190-5f0503c43d76\",\"type\":\"Circle\"},\"selection_glyph\":null,\"view\":{\"id\":\"c06c7bec-85a5-4a6a-9cc2-b3a2462d8c35\",\"type\":\"CDSView\"}},\"id\":\"ff337ef0-ef24-4b1b-9739-1ea70169175b\",\"type\":\"GlyphRenderer\"},{\"attributes\":{\"bottom_units\":\"screen\",\"fill_alpha\":{\"value\":0.5},\"fill_color\":{\"value\":\"lightgrey\"},\"left_units\":\"screen\",\"level\":\"overlay\",\"line_alpha\":{\"value\":1.0},\"line_color\":{\"value\":\"black\"},\"line_dash\":[4,4],\"line_width\":{\"value\":2},\"plot\":null,\"render_mode\":\"css\",\"right_units\":\"screen\",\"top_units\":\"screen\"},\"id\":\"016fc1ae-8449-48c6-9d69-419c1681e15c\",\"type\":\"BoxAnnotation\"},{\"attributes\":{\"fill_alpha\":{\"value\":0.1},\"fill_color\":{\"value\":\"#1f77b4\"},\"line_alpha\":{\"value\":0.1},\"line_color\":{\"value\":\"#1f77b4\"},\"x\":{\"field\":\"hp\"},\"y\":{\"field\":\"displ\"}},\"id\":\"8b055791-4659-4983-a190-5f0503c43d76\",\"type\":\"Circle\"},{\"attributes\":{},\"id\":\"391ced74-8e50-423d-9dc8-95114edddb02\",\"type\":\"BasicTicker\"},{\"attributes\":{\"callback\":null,\"overlay\":{\"id\":\"409f0b78-6e71-46ab-a1d7-d28776579307\",\"type\":\"PolyAnnotation\"}},\"id\":\"bf1777db-1990-45b3-a592-f7a980859f91\",\"type\":\"LassoSelectTool\"},{\"attributes\":{\"callback\":null},\"id\":\"fb2fe78e-9fd2-4902-83be-f275efd1c61a\",\"type\":\"DataRange1d\"},{\"attributes\":{},\"id\":\"c2d38349-e848-4b8f-8e2f-96608b0bd28d\",\"type\":\"LinearScale\"},{\"attributes\":{\"dimension\":1,\"plot\":{\"id\":\"4cd78d3f-3486-4dd2-ae78-598373860e43\",\"subtype\":\"Figure\",\"type\":\"Plot\"},\"ticker\":{\"id\":\"49f24938-0049-4d82-a92f-aeff295a9537\",\"type\":\"BasicTicker\"}},\"id\":\"adb14010-47e1-401c-86e4-b6ee3fae88d8\",\"type\":\"Grid\"},{\"attributes\":{\"data_source\":{\"id\":\"783dc7b9-0526-474c-80e9-b1bf447a5947\",\"type\":\"ColumnDataSource\"},\"glyph\":{\"id\":\"f1fe17e1-29e5-44a6-bd1e-4c16cdbb2e53\",\"type\":\"Circle\"},\"hover_glyph\":null,\"muted_glyph\":null,\"nonselection_glyph\":{\"id\":\"c18d244a-8fc5-4789-9954-f79252201334\",\"type\":\"Circle\"},\"selection_glyph\":null,\"view\":{\"id\":\"1fe9105e-f758-451f-b9fc-3a7fc1c6a069\",\"type\":\"CDSView\"}},\"id\":\"acd1a229-98ae-47aa-9bce-d3e7b761dd2a\",\"type\":\"GlyphRenderer\"},{\"attributes\":{\"formatter\":{\"id\":\"79e9aec9-d24d-43fd-a85f-825e33ee55c8\",\"type\":\"BasicTickFormatter\"},\"plot\":{\"id\":\"4cd78d3f-3486-4dd2-ae78-598373860e43\",\"subtype\":\"Figure\",\"type\":\"Plot\"},\"ticker\":{\"id\":\"49f24938-0049-4d82-a92f-aeff295a9537\",\"type\":\"BasicTicker\"}},\"id\":\"2b88b3ea-6f14-4373-91fd-7907aa273349\",\"type\":\"LinearAxis\"},{\"attributes\":{\"fill_color\":{\"value\":\"green\"},\"line_color\":{\"value\":\"green\"},\"x\":{\"field\":\"hp\"},\"y\":{\"field\":\"displ\"}},\"id\":\"6ff2379e-fa85-4bbf-90b2-1ceab3cce569\",\"type\":\"Circle\"},{\"attributes\":{},\"id\":\"e0c72471-d5d6-498b-951d-6a661cc53b59\",\"type\":\"BasicTickFormatter\"},{\"attributes\":{\"plot\":{\"id\":\"46841129-bad7-44f3-8f36-e71bde10f490\",\"subtype\":\"Figure\",\"type\":\"Plot\"},\"ticker\":{\"id\":\"391ced74-8e50-423d-9dc8-95114edddb02\",\"type\":\"BasicTicker\"}},\"id\":\"0997d946-13e8-471f-ba21-38df5c3990d5\",\"type\":\"Grid\"},{\"attributes\":{\"active_drag\":\"auto\",\"active_inspect\":\"auto\",\"active_scroll\":\"auto\",\"active_tap\":\"auto\",\"tools\":[{\"id\":\"488ef61f-e37c-457d-b3e9-0188af681283\",\"type\":\"PanTool\"},{\"id\":\"f7bf242f-bd25-4c3e-bd6b-a1db0910189f\",\"type\":\"WheelZoomTool\"},{\"id\":\"c8faece3-98af-4438-804c-d8edcfdc47bd\",\"type\":\"BoxZoomTool\"},{\"id\":\"52dd7bfe-bfc0-4cb6-9b8f-0fd7168aa6f0\",\"type\":\"BoxSelectTool\"},{\"id\":\"98a6c19a-3fdb-4112-99c3-99bd679ec9b3\",\"type\":\"LassoSelectTool\"},{\"id\":\"3b856dd6-1329-4bdc-8dd7-c777dc06c965\",\"type\":\"ResetTool\"}]},\"id\":\"838113c0-e82d-4f78-8180-c7c895f38131\",\"type\":\"Toolbar\"},{\"attributes\":{\"tools\":[{\"id\":\"488ef61f-e37c-457d-b3e9-0188af681283\",\"type\":\"PanTool\"},{\"id\":\"f7bf242f-bd25-4c3e-bd6b-a1db0910189f\",\"type\":\"WheelZoomTool\"},{\"id\":\"c8faece3-98af-4438-804c-d8edcfdc47bd\",\"type\":\"BoxZoomTool\"},{\"id\":\"52dd7bfe-bfc0-4cb6-9b8f-0fd7168aa6f0\",\"type\":\"BoxSelectTool\"},{\"id\":\"98a6c19a-3fdb-4112-99c3-99bd679ec9b3\",\"type\":\"LassoSelectTool\"},{\"id\":\"3b856dd6-1329-4bdc-8dd7-c777dc06c965\",\"type\":\"ResetTool\"},{\"id\":\"e46d7a82-5a76-45f5-a3a0-d0d803793689\",\"type\":\"PanTool\"},{\"id\":\"88a9511c-e4ea-4c18-988d-93847af16e05\",\"type\":\"WheelZoomTool\"},{\"id\":\"54c537ae-5794-4185-b4ef-0ead39a1f2c8\",\"type\":\"BoxZoomTool\"},{\"id\":\"fcc75c2c-bda3-4eb6-b44b-8717efbb5b84\",\"type\":\"BoxSelectTool\"},{\"id\":\"2b4097a3-4dbe-4e24-be6b-79b4b322f045\",\"type\":\"LassoSelectTool\"},{\"id\":\"a313b00d-ce3a-487c-85ba-1dd18eb8f043\",\"type\":\"ResetTool\"},{\"id\":\"bd984197-9d6f-4f12-9c57-bfed084b6871\",\"type\":\"PanTool\"},{\"id\":\"48a07e84-2af3-425f-9b9c-1668f1c7742e\",\"type\":\"WheelZoomTool\"},{\"id\":\"97ee1381-4eea-4efb-a9b0-bc01fa4f1317\",\"type\":\"BoxZoomTool\"},{\"id\":\"924690f8-b8f0-400a-8be7-4972921ff82d\",\"type\":\"BoxSelectTool\"},{\"id\":\"bf1777db-1990-45b3-a592-f7a980859f91\",\"type\":\"LassoSelectTool\"},{\"id\":\"78f96577-99ed-43d1-878c-f9204326fcfe\",\"type\":\"ResetTool\"}]},\"id\":\"158b3fca-e43c-460a-88e3-8e2f5379ad8e\",\"type\":\"ProxyToolbar\"},{\"attributes\":{\"callback\":null},\"id\":\"bb5daf45-3bb7-44f0-aea1-732fdd2138e7\",\"type\":\"DataRange1d\"}],\"root_ids\":[\"561dbe7c-46d2-4bc4-89f1-eb612b4c187f\"]},\"title\":\"Bokeh Application\",\"version\":\"0.12.11\"}};\n",
       "    var render_items = [{\"docid\":\"dde16570-82de-4018-bf36-400633c4c034\",\"elementid\":\"9df4660d-2f10-419a-a650-a4727a8fba12\",\"modelid\":\"561dbe7c-46d2-4bc4-89f1-eb612b4c187f\"}];\n",
       "    root.Bokeh.embed.embed_items(docs_json, render_items);\n",
       "  }\n",
       "  if (root.Bokeh !== undefined) {\n",
       "    embed_document(root);\n",
       "  } else {\n",
       "    var attempts = 0;\n",
       "    var timer = setInterval(function(root) {\n",
       "      if (root.Bokeh !== undefined) {\n",
       "        embed_document(root);\n",
       "        clearInterval(timer);\n",
       "      }\n",
       "      attempts++;\n",
       "      if (attempts > 100) {\n",
       "        console.log(\"Bokeh: ERROR: Unable to embed document because BokehJS library is missing\")\n",
       "        clearInterval(timer);\n",
       "      }\n",
       "    }, 10, root)\n",
       "  }\n",
       "})(window);"
      ],
      "application/vnd.bokehjs_exec.v0+json": ""
     },
     "metadata": {
      "application/vnd.bokehjs_exec.v0+json": {
       "id": "561dbe7c-46d2-4bc4-89f1-eb612b4c187f"
      }
     },
     "output_type": "display_data"
    }
   ],
   "source": [
    "from bokeh.models import ColumnDataSource\n",
    "from bokeh.layouts import gridplot\n",
    "\n",
    "source = ColumnDataSource(autompg)\n",
    "\n",
    "options = dict(plot_width=300, plot_height=300,\n",
    "               tools=\"pan,wheel_zoom,box_zoom,box_select,lasso_select,reset\")\n",
    "\n",
    "p1 = figure(title=\"MPG by Year\", **options)\n",
    "p1.circle(\"yr\", \"mpg\", color=\"blue\", source=source)\n",
    "\n",
    "p2 = figure(title=\"HP vs. Displacement\", **options)\n",
    "p2.circle(\"hp\", \"displ\", color=\"green\", source=source)\n",
    "\n",
    "p3 = figure(title=\"MPG vs. Displacement\", **options)\n",
    "p3.circle(\"mpg\", \"displ\", size=\"cyl\", line_color=\"red\", fill_color=None, source=source)\n",
    "\n",
    "p = gridplot([[ p1, p2, p3]], toolbar_location=\"right\")\n",
    "\n",
    "show(p)"
   ]
  },
  {
   "cell_type": "markdown",
   "metadata": {},
   "source": [
    "You can read more about the `ColumnDataSource` and other Bokeh data structures in [Providing Data for Plots and Tables](https://bokeh.pydata.org/en/latest/docs/user_guide/data.html)"
   ]
  },
  {
   "cell_type": "markdown",
   "metadata": {},
   "source": [
    "## Standalone HTML\n",
    "\n",
    "In addition to working well with the Notebook, Bokeh can also save plots out into their own HTML files.  Here is the bar plot example from above, but saving into its own standalone file.\n",
    "\n",
    "Now when we call `show()`, a new browser tab is also opened with the plot. If we just wanted to save the file, we would use `save()` instead."
   ]
  },
  {
   "cell_type": "code",
   "execution_count": 49,
   "metadata": {},
   "outputs": [
    {
     "data": {
      "text/html": [
       "\n",
       "<div class=\"bk-root\">\n",
       "    <div class=\"bk-plotdiv\" id=\"0c990a68-de93-4ab7-85fe-bc3f92a90ba1\"></div>\n",
       "</div>"
      ]
     },
     "metadata": {},
     "output_type": "display_data"
    },
    {
     "data": {
      "application/javascript": [
       "(function(root) {\n",
       "  function embed_document(root) {\n",
       "    var docs_json = {\"9247e750-d52c-4da9-a0bb-9cbed6437dbc\":{\"roots\":{\"references\":[{\"attributes\":{\"overlay\":{\"id\":\"741ff91f-8ac3-4dbb-a935-393debe1047c\",\"type\":\"BoxAnnotation\"}},\"id\":\"547f6f36-fc69-4583-94eb-ba849aad9e00\",\"type\":\"BoxZoomTool\"},{\"attributes\":{\"callback\":null},\"id\":\"1f57d444-3b47-4354-bdf3-1dd6f559b83b\",\"type\":\"DataRange1d\"},{\"attributes\":{\"fill_alpha\":{\"value\":0.1},\"fill_color\":{\"value\":\"#1f77b4\"},\"line_alpha\":{\"value\":0.1},\"line_color\":{\"value\":\"#1f77b4\"},\"size\":{\"units\":\"screen\",\"value\":10},\"x\":{\"field\":\"x\"},\"y\":{\"field\":\"y\"}},\"id\":\"3082dbad-9c44-4971-a319-a1a33c8cc385\",\"type\":\"Triangle\"},{\"attributes\":{},\"id\":\"439f7aca-38d2-4b65-979b-a4fb8a3eeae5\",\"type\":\"WheelZoomTool\"},{\"attributes\":{\"below\":[{\"id\":\"3a009719-8050-4883-8fee-9e08244c25b8\",\"type\":\"LinearAxis\"}],\"left\":[{\"id\":\"81c3a043-432b-4f9b-8946-947336149122\",\"type\":\"LinearAxis\"}],\"renderers\":[{\"id\":\"3a009719-8050-4883-8fee-9e08244c25b8\",\"type\":\"LinearAxis\"},{\"id\":\"786454b6-f2c6-4839-9389-9c26c0718de8\",\"type\":\"Grid\"},{\"id\":\"81c3a043-432b-4f9b-8946-947336149122\",\"type\":\"LinearAxis\"},{\"id\":\"6bd91210-877f-4387-8f12-f3b176d99347\",\"type\":\"Grid\"},{\"id\":\"741ff91f-8ac3-4dbb-a935-393debe1047c\",\"type\":\"BoxAnnotation\"},{\"id\":\"1f5a2c86-89d4-4e6b-9c73-36b200dee8f3\",\"type\":\"Legend\"},{\"id\":\"42ba7a03-f6fd-48cc-aba8-74eb7dbb15b5\",\"type\":\"GlyphRenderer\"},{\"id\":\"39ced5d3-ccb4-49e0-8057-c26a29d84ae3\",\"type\":\"GlyphRenderer\"},{\"id\":\"b725d08e-7e6c-4ed6-b9e5-9cebee352135\",\"type\":\"GlyphRenderer\"}],\"title\":{\"id\":\"ed64b4c4-71f6-41f3-b7a5-84d02514783e\",\"type\":\"Title\"},\"toolbar\":{\"id\":\"960bca1a-11e3-4f55-a854-488bc5500a89\",\"type\":\"Toolbar\"},\"x_range\":{\"id\":\"1f57d444-3b47-4354-bdf3-1dd6f559b83b\",\"type\":\"DataRange1d\"},\"x_scale\":{\"id\":\"29be9049-7f60-48ac-8340-7f2ba7aa8430\",\"type\":\"LinearScale\"},\"y_range\":{\"id\":\"3ef2ee8e-c971-4383-8ab5-eab0e6773479\",\"type\":\"DataRange1d\"},\"y_scale\":{\"id\":\"ac88ef39-a491-41db-af73-32c93163b232\",\"type\":\"LinearScale\"}},\"id\":\"a8ff563d-06e4-411d-be9b-15fafebd0a9a\",\"subtype\":\"Figure\",\"type\":\"Plot\"},{\"attributes\":{\"fill_alpha\":{\"value\":0.1},\"fill_color\":{\"value\":\"#1f77b4\"},\"line_alpha\":{\"value\":0.1},\"line_color\":{\"value\":\"#1f77b4\"},\"size\":{\"units\":\"screen\",\"value\":10},\"x\":{\"field\":\"x\"},\"y\":{\"field\":\"y\"}},\"id\":\"5592fe5e-dd67-4bbc-b1b7-e1b014830d39\",\"type\":\"Circle\"},{\"attributes\":{\"fill_alpha\":{\"value\":0.3},\"fill_color\":{\"value\":\"blue\"},\"line_alpha\":{\"value\":0.3},\"line_color\":{\"value\":\"blue\"},\"size\":{\"units\":\"screen\",\"value\":10},\"x\":{\"field\":\"x\"},\"y\":{\"field\":\"y\"}},\"id\":\"fefd982a-aeb7-454e-bf4c-961b0bcad79c\",\"type\":\"Triangle\"},{\"attributes\":{\"plot\":null,\"text\":\"MPG by Year (Japan and US)\"},\"id\":\"ed64b4c4-71f6-41f3-b7a5-84d02514783e\",\"type\":\"Title\"},{\"attributes\":{\"dimension\":1,\"plot\":{\"id\":\"a8ff563d-06e4-411d-be9b-15fafebd0a9a\",\"subtype\":\"Figure\",\"type\":\"Plot\"},\"ticker\":{\"id\":\"12773c6f-d36a-4a14-8998-358bffd7d54e\",\"type\":\"BasicTicker\"}},\"id\":\"6bd91210-877f-4387-8f12-f3b176d99347\",\"type\":\"Grid\"},{\"attributes\":{\"formatter\":{\"id\":\"ad96a463-b0d0-4e89-b675-643d6fdcd1ea\",\"type\":\"BasicTickFormatter\"},\"plot\":{\"id\":\"a8ff563d-06e4-411d-be9b-15fafebd0a9a\",\"subtype\":\"Figure\",\"type\":\"Plot\"},\"ticker\":{\"id\":\"12773c6f-d36a-4a14-8998-358bffd7d54e\",\"type\":\"BasicTicker\"}},\"id\":\"81c3a043-432b-4f9b-8946-947336149122\",\"type\":\"LinearAxis\"},{\"attributes\":{},\"id\":\"ac88ef39-a491-41db-af73-32c93163b232\",\"type\":\"LinearScale\"},{\"attributes\":{\"source\":{\"id\":\"90496146-f413-4733-b77a-3f8110f06d95\",\"type\":\"ColumnDataSource\"}},\"id\":\"25033583-7c04-4fbf-886c-5a8f0a7d81b3\",\"type\":\"CDSView\"},{\"attributes\":{\"callback\":null,\"column_names\":[\"x\",\"top\",\"bottom\"],\"data\":{\"bottom\":{\"__ndarray__\":\"gvFgx2qzKECcKci59t4sQJZdRzm5jipAzvVtn6zMKECki7kXNjswQIpnc6D2pi5ApAV4qVNeL0DtFQi6+rIwQBxLQL6+KTFAWBwW2YNMMkBnDzEy+Oo6QAq856zmjDhAfzfsSXnEOkA=\",\"dtype\":\"float64\",\"shape\":[13]},\"top\":{\"__ndarray__\":\"55jlF2UHN0DAzlQxaMk7QBEIyj5aJjhATTh849zMNUD6TNCFok49QMPUTjgNNTlA1KLp0Ht2O0AT6vdFBQ0+QNr+XjaL9T5AVt48aCfjP0AojYptQ1hEQPSsO6IX6UFAQOQJW8OdQkA=\",\"dtype\":\"float64\",\"shape\":[13]},\"x\":[70,71,72,73,74,75,76,77,78,79,80,81,82]}},\"id\":\"0194d5c6-be0f-4f69-8be7-44a2857bb81d\",\"type\":\"ColumnDataSource\"},{\"attributes\":{\"label\":{\"value\":\"American\"},\"renderers\":[{\"id\":\"b725d08e-7e6c-4ed6-b9e5-9cebee352135\",\"type\":\"GlyphRenderer\"}]},\"id\":\"9004bf7e-661d-41b1-9761-eaf612c925c2\",\"type\":\"LegendItem\"},{\"attributes\":{\"active_drag\":\"auto\",\"active_inspect\":\"auto\",\"active_scroll\":\"auto\",\"active_tap\":\"auto\",\"tools\":[{\"id\":\"a9fbf1e4-48b4-4645-9c12-be2558fca738\",\"type\":\"PanTool\"},{\"id\":\"439f7aca-38d2-4b65-979b-a4fb8a3eeae5\",\"type\":\"WheelZoomTool\"},{\"id\":\"547f6f36-fc69-4583-94eb-ba849aad9e00\",\"type\":\"BoxZoomTool\"},{\"id\":\"d49f3239-49ac-406e-aee3-2df5cdc1e33e\",\"type\":\"SaveTool\"},{\"id\":\"8ffdc6e7-5395-4b5b-b27f-224740fa0772\",\"type\":\"ResetTool\"},{\"id\":\"bf79e7b1-cbea-4270-8d30-ba564e8bc38f\",\"type\":\"HelpTool\"}]},\"id\":\"960bca1a-11e3-4f55-a854-488bc5500a89\",\"type\":\"Toolbar\"},{\"attributes\":{\"callback\":null,\"column_names\":[\"x\",\"y\"],\"data\":{\"x\":[70,70,70,70,70,70,70,70,70,70,70,70,70,70,70,70,70,70,70,70,70,70,71,71,71,71,71,71,71,71,71,71,71,71,71,71,71,71,71,71,71,72,72,72,72,72,72,72,72,72,72,72,72,72,72,72,72,72,72,73,73,73,73,73,73,73,73,73,73,73,73,73,73,73,73,73,73,73,73,73,73,73,73,73,73,73,73,73,74,74,74,74,74,74,74,74,74,74,74,74,74,74,75,75,75,75,75,75,75,75,75,75,75,75,75,75,75,75,75,75,75,75,76,76,76,76,76,76,76,76,76,76,76,76,76,76,76,76,76,76,76,76,76,76,77,77,77,77,77,77,77,77,77,77,77,77,77,77,77,77,77,77,78,78,78,78,78,78,78,78,78,78,78,78,78,78,78,78,78,78,78,78,78,78,79,79,79,79,79,79,79,79,79,79,79,79,79,79,79,79,79,79,79,79,79,79,79,80,80,80,80,80,80,81,81,81,81,81,81,81,81,81,81,81,81,81,82,82,82,82,82,82,82,82,82,82,82,82,82,82,82,82,82,82,82],\"y\":{\"__ndarray__\":\"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\",\"dtype\":\"float64\",\"shape\":[245]}}},\"id\":\"04616dd8-46db-4ec4-ac02-dedb26f272fe\",\"type\":\"ColumnDataSource\"},{\"attributes\":{\"bottom\":{\"field\":\"bottom\"},\"fill_alpha\":{\"value\":0.1},\"fill_color\":{\"value\":\"#1f77b4\"},\"line_alpha\":{\"value\":0.1},\"line_color\":{\"value\":\"#1f77b4\"},\"top\":{\"field\":\"top\"},\"width\":{\"value\":0.8},\"x\":{\"field\":\"x\"}},\"id\":\"54893465-4c1d-465d-97a7-3e5451f8c216\",\"type\":\"VBar\"},{\"attributes\":{},\"id\":\"8ffdc6e7-5395-4b5b-b27f-224740fa0772\",\"type\":\"ResetTool\"},{\"attributes\":{},\"id\":\"d49f3239-49ac-406e-aee3-2df5cdc1e33e\",\"type\":\"SaveTool\"},{\"attributes\":{},\"id\":\"12773c6f-d36a-4a14-8998-358bffd7d54e\",\"type\":\"BasicTicker\"},{\"attributes\":{\"callback\":null,\"column_names\":[\"x\",\"y\"],\"data\":{\"x\":[70,70,71,71,71,71,72,72,72,72,72,73,73,73,73,74,74,74,74,74,74,75,75,75,75,76,76,76,76,77,77,77,77,77,77,78,78,78,78,78,78,78,78,79,79,80,80,80,80,80,80,80,80,80,80,80,80,80,81,81,81,81,81,81,81,81,81,81,81,81,82,82,82,82,82,82,82,82,82],\"y\":{\"__ndarray__\":\"AAAAAAAAOEAAAAAAAAA7QAAAAAAAADtAAAAAAAAAOUAAAAAAAAA/QAAAAAAAgEFAAAAAAAAAOEAAAAAAAAAzQAAAAAAAADxAAAAAAAAAN0AAAAAAAAA7QAAAAAAAADRAAAAAAAAANkAAAAAAAAAyQAAAAAAAADRAAAAAAAAAP0AAAAAAAABAQAAAAAAAAD9AAAAAAAAAQEAAAAAAAAA4QAAAAAAAADpAAAAAAAAAPUAAAAAAAAA4QAAAAAAAADhAAAAAAACAQEAAAAAAAIBAQAAAAAAAAEBAAAAAAAAAPEAAAAAAAAAzQAAAAAAAgD9AAAAAAADAQEAAAAAAAAA6QAAAAAAAAD5AAAAAAAAANkAAAAAAAIA1QGZmZmZmZkBAMzMzMzOzQ0DNzMzMzAxCQAAAAAAAgDtAMzMzMzMzO0CamZmZmRk1QGZmZmZm5jdAAAAAAACAPUDNzMzMzAxBQM3MzMzMzD9AzczMzMwMQ0CamZmZmZlCQM3MzMzMzD1AzczMzMxMP0AAAAAAAIBCQJqZmZmZGUBAzczMzMxMR0BmZmZmZmZEQM3MzMzMTEZAZmZmZmbmQECamZmZmVlAQDMzMzMzszdAMzMzMzMzQEDNzMzMzIxDQM3MzMzMjEFAZmZmZmYmQEAAAAAAAIBCQJqZmZmZ2UJAzczMzMwMQUCamZmZmdlAQDMzMzMzM0BAMzMzMzNzQECamZmZmZk/QGZmZmZmZjlAMzMzMzMzOEAAAAAAAIBCQAAAAAAAAD9AAAAAAAAAQkAAAAAAAABCQAAAAAAAAEFAAAAAAAAAQ0AAAAAAAABAQAAAAAAAAENAAAAAAAAAQEA=\",\"dtype\":\"float64\",\"shape\":[79]}}},\"id\":\"90496146-f413-4733-b77a-3f8110f06d95\",\"type\":\"ColumnDataSource\"},{\"attributes\":{},\"id\":\"29be9049-7f60-48ac-8340-7f2ba7aa8430\",\"type\":\"LinearScale\"},{\"attributes\":{\"bottom_units\":\"screen\",\"fill_alpha\":{\"value\":0.5},\"fill_color\":{\"value\":\"lightgrey\"},\"left_units\":\"screen\",\"level\":\"overlay\",\"line_alpha\":{\"value\":1.0},\"line_color\":{\"value\":\"black\"},\"line_dash\":[4,4],\"line_width\":{\"value\":2},\"plot\":null,\"render_mode\":\"css\",\"right_units\":\"screen\",\"top_units\":\"screen\"},\"id\":\"741ff91f-8ac3-4dbb-a935-393debe1047c\",\"type\":\"BoxAnnotation\"},{\"attributes\":{\"data_source\":{\"id\":\"0194d5c6-be0f-4f69-8be7-44a2857bb81d\",\"type\":\"ColumnDataSource\"},\"glyph\":{\"id\":\"47ee025a-d93c-4d2e-baac-f933d2dc4a4c\",\"type\":\"VBar\"},\"hover_glyph\":null,\"muted_glyph\":null,\"nonselection_glyph\":{\"id\":\"54893465-4c1d-465d-97a7-3e5451f8c216\",\"type\":\"VBar\"},\"selection_glyph\":null,\"view\":{\"id\":\"52541c1d-d565-48f6-aa58-1dc813e4af53\",\"type\":\"CDSView\"}},\"id\":\"42ba7a03-f6fd-48cc-aba8-74eb7dbb15b5\",\"type\":\"GlyphRenderer\"},{\"attributes\":{},\"id\":\"0a1eb7cc-2bf5-48be-bd79-a75cb92bb485\",\"type\":\"BasicTicker\"},{\"attributes\":{\"label\":{\"value\":\"MPG 1 stddev\"},\"renderers\":[{\"id\":\"42ba7a03-f6fd-48cc-aba8-74eb7dbb15b5\",\"type\":\"GlyphRenderer\"}]},\"id\":\"b2815a47-a7eb-46c6-9ed5-874bf88f80a3\",\"type\":\"LegendItem\"},{\"attributes\":{\"source\":{\"id\":\"04616dd8-46db-4ec4-ac02-dedb26f272fe\",\"type\":\"ColumnDataSource\"}},\"id\":\"ede135d1-a861-41d1-ab49-ad6bc316e242\",\"type\":\"CDSView\"},{\"attributes\":{\"formatter\":{\"id\":\"e30f7c9d-7a64-4a78-9b22-df7421eb9d2c\",\"type\":\"BasicTickFormatter\"},\"plot\":{\"id\":\"a8ff563d-06e4-411d-be9b-15fafebd0a9a\",\"subtype\":\"Figure\",\"type\":\"Plot\"},\"ticker\":{\"id\":\"0a1eb7cc-2bf5-48be-bd79-a75cb92bb485\",\"type\":\"BasicTicker\"}},\"id\":\"3a009719-8050-4883-8fee-9e08244c25b8\",\"type\":\"LinearAxis\"},{\"attributes\":{\"label\":{\"value\":\"Japanese\"},\"renderers\":[{\"id\":\"39ced5d3-ccb4-49e0-8057-c26a29d84ae3\",\"type\":\"GlyphRenderer\"}]},\"id\":\"8511a655-fc3d-4cfe-8d85-d2af533c8a2e\",\"type\":\"LegendItem\"},{\"attributes\":{\"source\":{\"id\":\"0194d5c6-be0f-4f69-8be7-44a2857bb81d\",\"type\":\"ColumnDataSource\"}},\"id\":\"52541c1d-d565-48f6-aa58-1dc813e4af53\",\"type\":\"CDSView\"},{\"attributes\":{\"plot\":{\"id\":\"a8ff563d-06e4-411d-be9b-15fafebd0a9a\",\"subtype\":\"Figure\",\"type\":\"Plot\"},\"ticker\":{\"id\":\"0a1eb7cc-2bf5-48be-bd79-a75cb92bb485\",\"type\":\"BasicTicker\"}},\"id\":\"786454b6-f2c6-4839-9389-9c26c0718de8\",\"type\":\"Grid\"},{\"attributes\":{},\"id\":\"ad96a463-b0d0-4e89-b675-643d6fdcd1ea\",\"type\":\"BasicTickFormatter\"},{\"attributes\":{\"items\":[{\"id\":\"b2815a47-a7eb-46c6-9ed5-874bf88f80a3\",\"type\":\"LegendItem\"},{\"id\":\"8511a655-fc3d-4cfe-8d85-d2af533c8a2e\",\"type\":\"LegendItem\"},{\"id\":\"9004bf7e-661d-41b1-9761-eaf612c925c2\",\"type\":\"LegendItem\"}],\"location\":\"top_left\",\"plot\":{\"id\":\"a8ff563d-06e4-411d-be9b-15fafebd0a9a\",\"subtype\":\"Figure\",\"type\":\"Plot\"}},\"id\":\"1f5a2c86-89d4-4e6b-9c73-36b200dee8f3\",\"type\":\"Legend\"},{\"attributes\":{\"data_source\":{\"id\":\"90496146-f413-4733-b77a-3f8110f06d95\",\"type\":\"ColumnDataSource\"},\"glyph\":{\"id\":\"66336696-2987-4fc1-bf5f-2bddf595eccd\",\"type\":\"Circle\"},\"hover_glyph\":null,\"muted_glyph\":null,\"nonselection_glyph\":{\"id\":\"5592fe5e-dd67-4bbc-b1b7-e1b014830d39\",\"type\":\"Circle\"},\"selection_glyph\":null,\"view\":{\"id\":\"25033583-7c04-4fbf-886c-5a8f0a7d81b3\",\"type\":\"CDSView\"}},\"id\":\"39ced5d3-ccb4-49e0-8057-c26a29d84ae3\",\"type\":\"GlyphRenderer\"},{\"attributes\":{\"callback\":null},\"id\":\"3ef2ee8e-c971-4383-8ab5-eab0e6773479\",\"type\":\"DataRange1d\"},{\"attributes\":{\"data_source\":{\"id\":\"04616dd8-46db-4ec4-ac02-dedb26f272fe\",\"type\":\"ColumnDataSource\"},\"glyph\":{\"id\":\"fefd982a-aeb7-454e-bf4c-961b0bcad79c\",\"type\":\"Triangle\"},\"hover_glyph\":null,\"muted_glyph\":null,\"nonselection_glyph\":{\"id\":\"3082dbad-9c44-4971-a319-a1a33c8cc385\",\"type\":\"Triangle\"},\"selection_glyph\":null,\"view\":{\"id\":\"ede135d1-a861-41d1-ab49-ad6bc316e242\",\"type\":\"CDSView\"}},\"id\":\"b725d08e-7e6c-4ed6-b9e5-9cebee352135\",\"type\":\"GlyphRenderer\"},{\"attributes\":{\"fill_alpha\":{\"value\":0.3},\"fill_color\":{\"value\":\"red\"},\"line_alpha\":{\"value\":0.3},\"line_color\":{\"value\":\"red\"},\"size\":{\"units\":\"screen\",\"value\":10},\"x\":{\"field\":\"x\"},\"y\":{\"field\":\"y\"}},\"id\":\"66336696-2987-4fc1-bf5f-2bddf595eccd\",\"type\":\"Circle\"},{\"attributes\":{},\"id\":\"a9fbf1e4-48b4-4645-9c12-be2558fca738\",\"type\":\"PanTool\"},{\"attributes\":{\"bottom\":{\"field\":\"bottom\"},\"fill_alpha\":{\"value\":0.2},\"fill_color\":{\"value\":\"#1f77b4\"},\"line_color\":{\"value\":null},\"top\":{\"field\":\"top\"},\"width\":{\"value\":0.8},\"x\":{\"field\":\"x\"}},\"id\":\"47ee025a-d93c-4d2e-baac-f933d2dc4a4c\",\"type\":\"VBar\"},{\"attributes\":{},\"id\":\"e30f7c9d-7a64-4a78-9b22-df7421eb9d2c\",\"type\":\"BasicTickFormatter\"},{\"attributes\":{},\"id\":\"bf79e7b1-cbea-4270-8d30-ba564e8bc38f\",\"type\":\"HelpTool\"}],\"root_ids\":[\"a8ff563d-06e4-411d-be9b-15fafebd0a9a\"]},\"title\":\"Bokeh Application\",\"version\":\"0.12.11\"}};\n",
       "    var render_items = [{\"docid\":\"9247e750-d52c-4da9-a0bb-9cbed6437dbc\",\"elementid\":\"0c990a68-de93-4ab7-85fe-bc3f92a90ba1\",\"modelid\":\"a8ff563d-06e4-411d-be9b-15fafebd0a9a\"}];\n",
       "    root.Bokeh.embed.embed_items(docs_json, render_items);\n",
       "  }\n",
       "  if (root.Bokeh !== undefined) {\n",
       "    embed_document(root);\n",
       "  } else {\n",
       "    var attempts = 0;\n",
       "    var timer = setInterval(function(root) {\n",
       "      if (root.Bokeh !== undefined) {\n",
       "        embed_document(root);\n",
       "        clearInterval(timer);\n",
       "      }\n",
       "      attempts++;\n",
       "      if (attempts > 100) {\n",
       "        console.log(\"Bokeh: ERROR: Unable to embed document because BokehJS library is missing\")\n",
       "        clearInterval(timer);\n",
       "      }\n",
       "    }, 10, root)\n",
       "  }\n",
       "})(window);"
      ],
      "application/vnd.bokehjs_exec.v0+json": ""
     },
     "metadata": {
      "application/vnd.bokehjs_exec.v0+json": {
       "id": "a8ff563d-06e4-411d-be9b-15fafebd0a9a"
      }
     },
     "output_type": "display_data"
    }
   ],
   "source": [
    "from bokeh.plotting import output_file\n",
    "\n",
    "output_file(\"barplot.html\")\n",
    "\n",
    "p = figure(title=\"MPG by Year (Japan and US)\")\n",
    "\n",
    "p.vbar(x=years, bottom=avg-std, top=avg+std, width=0.8, \n",
    "       fill_alpha=0.2, line_color=None, legend=\"MPG 1 stddev\")\n",
    "\n",
    "p.circle(x=japanese[\"yr\"], y=japanese[\"mpg\"], size=10, alpha=0.3,\n",
    "         color=\"red\", legend=\"Japanese\")\n",
    "\n",
    "p.triangle(x=american[\"yr\"], y=american[\"mpg\"], size=10, alpha=0.3,\n",
    "           color=\"blue\", legend=\"American\")\n",
    "\n",
    "p.legend.location = \"top_left\"\n",
    "show(p)"
   ]
  },
  {
   "cell_type": "markdown",
   "metadata": {},
   "source": [
    "## Bokeh Applications\n",
    "\n",
    "Bokeh also has a server component that can be used to build interactive web applications that easily connect the powerful constellation of PyData tools to sophisticated Bokeh visualizations. The Bokeh server can be used to:\n",
    "\n",
    "* respond to UI and tool events generated in a browser with computations or queries using the full power of python\n",
    "* automatically push server-side updates to the UI (i.e. widgets or plots in a browser)\n",
    "* use periodic, timeout, and asynchronous callbacks to drive streaming updates\n",
    "\n",
    "Click on any of the thumbnails below to launch a live Bokeh applications.\n",
    "\n",
    "<center>\n",
    "<a href=\"https://demo.bokehplots.com/apps/crossfilter\">\n",
    "  <img \n",
    "    width=\"30%\" height=\"30%\" style=\"display: inline ; padding: 10px;\" \n",
    "    src=\"https://bokeh.pydata.org/static/crossfilter_t.png\"\n",
    "  >\n",
    "</a>\n",
    "\n",
    "<a href=\"https://demo.bokehplots.com/apps/movies\">\n",
    "  <img \n",
    "    width=\"30%\" height=\"30%\" style=\"display: inline ; padding: 10px;\" \n",
    "    src=\"https://bokeh.pydata.org/static/movies_t.png\" \n",
    "  >\n",
    "</a>\n",
    "\n",
    "<a href=\"https://demo.bokehplots.com/apps/gapminder\">\n",
    "  <img \n",
    "    width=\"30%\" height=\"30%\" style=\"display: inline ; padding: 10px;\" \n",
    "    src=\"http://bokeh.pydata.org/static/gapminder_t.png\"\n",
    "  >\n",
    "</a>\n",
    "</center>\n",
    "\n",
    "Find more details and information about developing and deploying Bokeh server applications in the User's Guide chapter [Running a Bokeh Server](https://bokeh.pydata.org/en/latest/docs/user_guide/server.html)."
   ]
  },
  {
   "cell_type": "markdown",
   "metadata": {},
   "source": [
    "## BokehJS\n",
    "\n",
    "At its core, Bokeh consists of a Javascript library, [BokehJS](https://github.com/bokeh/bokeh/tree/master/bokehjs), and a Python binding which provides classes and objects that ultimately generate a JSON representation of the plot structure.\n",
    "\n",
    "You can read more about design and usage in the [Developing with JavaScript](https://bokeh.pydata.org/en/latest/docs/user_guide/bokehjs.html) section of the Bokeh User's Guide."
   ]
  },
  {
   "cell_type": "markdown",
   "metadata": {},
   "source": [
    "## More Information\n",
    "\n",
    "Find more details and information at the resources listed below:\n",
    "\n",
    "*Documentation:* https://bokeh.pydata.org/en/latest\n",
    "\n",
    "*GitHub:* https://github.com/bokeh/bokeh\n",
    "\n",
    "*Mailing list:* [bokeh@anaconda.com](mailto:bokeh@anaconda.com)\n",
    "\n",
    "*Gitter Chat:* https://gitter.im/bokeh/bokeh\n",
    "\n",
    "Be sure to follow us on Twitter [@bokehplots](http://twitter.com/BokehPlots>) and on [Youtube](https://www.youtube.com/c/Bokehplots)!"
   ]
  }
 ],
 "metadata": {
  "kernelspec": {
   "display_name": "Python 3",
   "language": "python",
   "name": "python3"
  },
  "language_info": {
   "codemirror_mode": {
    "name": "ipython",
    "version": 3
   },
   "file_extension": ".py",
   "mimetype": "text/x-python",
   "name": "python",
   "nbconvert_exporter": "python",
   "pygments_lexer": "ipython3",
   "version": "3.6.3"
  }
 },
 "nbformat": 4,
 "nbformat_minor": 2
}
