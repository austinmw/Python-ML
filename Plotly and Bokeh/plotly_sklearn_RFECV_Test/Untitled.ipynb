{
 "cells": [
  {
   "cell_type": "code",
   "execution_count": 1,
   "metadata": {},
   "outputs": [
    {
     "name": "stdout",
     "output_type": "stream",
     "text": [
      "Automatically created module for IPython interactive environment\n"
     ]
    },
    {
     "name": "stderr",
     "output_type": "stream",
     "text": [
      "IOPub data rate exceeded.\n",
      "The notebook server will temporarily stop sending output\n",
      "to the client in order to avoid crashing it.\n",
      "To change this limit, set the config variable\n",
      "`--NotebookApp.iopub_data_rate_limit`.\n"
     ]
    },
    {
     "data": {
      "text/html": [
       "<script>requirejs.config({paths: { 'plotly': ['https://cdn.plot.ly/plotly-latest.min']},});if(!window.Plotly) {{require(['plotly'],function(plotly) {window.Plotly=plotly;});}}</script>"
      ],
      "text/vnd.plotly.v1+html": [
       "<script>requirejs.config({paths: { 'plotly': ['https://cdn.plot.ly/plotly-latest.min']},});if(!window.Plotly) {{require(['plotly'],function(plotly) {window.Plotly=plotly;});}}</script>"
      ]
     },
     "metadata": {},
     "output_type": "display_data"
    },
    {
     "name": "stdout",
     "output_type": "stream",
     "text": [
      "Optimal number of features : 3\n"
     ]
    },
    {
     "data": {
      "application/vnd.plotly.v1+json": {
       "data": [
        {
         "type": "scatter",
         "x": [
          1,
          2,
          3,
          4,
          5,
          6,
          7,
          8,
          9,
          10,
          11,
          12,
          13,
          14,
          15,
          16,
          17,
          18,
          19,
          20,
          21,
          22,
          23,
          24,
          25
         ],
         "y": [
          0.27289582424967296,
          0.5069522502810101,
          0.8180414494921817,
          0.8160653783536207,
          0.8160533779216051,
          0.7991067678436423,
          0.7970466936809726,
          0.7830341892308124,
          0.7819921517174618,
          0.7830221887987967,
          0.7780280090083243,
          0.7740518658671712,
          0.7600753627130576,
          0.762015432555572,
          0.752003072110596,
          0.7500150005400195,
          0.7460028561028197,
          0.7500030001080039,
          0.7391046077658796,
          0.7390206047417707,
          0.7380025680924513,
          0.7480389294014584,
          0.7290682464568724,
          0.7250441015876572,
          0.7250561020196727
         ]
        }
       ],
       "layout": {
        "xaxis": {
         "showgrid": false,
         "title": "Number of features selected"
        },
        "yaxis": {
         "showgrid": false,
         "title": "Cross validation score (nb of correct classifications)"
        }
       }
      },
      "text/html": [
       "<div id=\"a8db13a7-c953-4cf9-acd4-9947482e8470\" style=\"height: 525px; width: 100%;\" class=\"plotly-graph-div\"></div><script type=\"text/javascript\">require([\"plotly\"], function(Plotly) { window.PLOTLYENV=window.PLOTLYENV || {};window.PLOTLYENV.BASE_URL=\"https://plot.ly\";Plotly.newPlot(\"a8db13a7-c953-4cf9-acd4-9947482e8470\", [{\"type\": \"scatter\", \"x\": [1, 2, 3, 4, 5, 6, 7, 8, 9, 10, 11, 12, 13, 14, 15, 16, 17, 18, 19, 20, 21, 22, 23, 24, 25], \"y\": [0.27289582424967296, 0.5069522502810101, 0.8180414494921817, 0.8160653783536207, 0.8160533779216051, 0.7991067678436423, 0.7970466936809726, 0.7830341892308124, 0.7819921517174618, 0.7830221887987967, 0.7780280090083243, 0.7740518658671712, 0.7600753627130576, 0.762015432555572, 0.752003072110596, 0.7500150005400195, 0.7460028561028197, 0.7500030001080039, 0.7391046077658796, 0.7390206047417707, 0.7380025680924513, 0.7480389294014584, 0.7290682464568724, 0.7250441015876572, 0.7250561020196727]}], {\"xaxis\": {\"title\": \"Number of features selected\", \"showgrid\": false}, \"yaxis\": {\"title\": \"Cross validation score (nb of correct classifications)\", \"showgrid\": false}}, {\"showLink\": true, \"linkText\": \"Export to plot.ly\"})});</script>"
      ],
      "text/vnd.plotly.v1+html": [
       "<div id=\"a8db13a7-c953-4cf9-acd4-9947482e8470\" style=\"height: 525px; width: 100%;\" class=\"plotly-graph-div\"></div><script type=\"text/javascript\">require([\"plotly\"], function(Plotly) { window.PLOTLYENV=window.PLOTLYENV || {};window.PLOTLYENV.BASE_URL=\"https://plot.ly\";Plotly.newPlot(\"a8db13a7-c953-4cf9-acd4-9947482e8470\", [{\"type\": \"scatter\", \"x\": [1, 2, 3, 4, 5, 6, 7, 8, 9, 10, 11, 12, 13, 14, 15, 16, 17, 18, 19, 20, 21, 22, 23, 24, 25], \"y\": [0.27289582424967296, 0.5069522502810101, 0.8180414494921817, 0.8160653783536207, 0.8160533779216051, 0.7991067678436423, 0.7970466936809726, 0.7830341892308124, 0.7819921517174618, 0.7830221887987967, 0.7780280090083243, 0.7740518658671712, 0.7600753627130576, 0.762015432555572, 0.752003072110596, 0.7500150005400195, 0.7460028561028197, 0.7500030001080039, 0.7391046077658796, 0.7390206047417707, 0.7380025680924513, 0.7480389294014584, 0.7290682464568724, 0.7250441015876572, 0.7250561020196727]}], {\"xaxis\": {\"title\": \"Number of features selected\", \"showgrid\": false}, \"yaxis\": {\"title\": \"Cross validation score (nb of correct classifications)\", \"showgrid\": false}}, {\"showLink\": true, \"linkText\": \"Export to plot.ly\"})});</script>"
      ]
     },
     "metadata": {},
     "output_type": "display_data"
    }
   ],
   "source": [
    "print(__doc__)\n",
    "\n",
    "import plotly.plotly as py\n",
    "import plotly.graph_objs as go\n",
    "\n",
    "from sklearn.svm import SVC\n",
    "from sklearn.model_selection import StratifiedKFold\n",
    "from sklearn.feature_selection import RFECV\n",
    "from sklearn.datasets import make_classification\n",
    "\n",
    "\n",
    "import cufflinks as cf\n",
    "from plotly import __version__\n",
    "from plotly.offline import download_plotlyjs, init_notebook_mode, plot, iplot\n",
    "from plotly.graph_objs import *\n",
    "\n",
    "cf.set_config_file(offline=True, theme='ggplot')\n",
    "\n",
    "init_notebook_mode(connected=True)\n",
    "\n",
    "# Build a classification task using 3 informative features\n",
    "X, y = make_classification(n_samples=1000, n_features=25, n_informative=3,\n",
    "                           n_redundant=2, n_repeated=0, n_classes=8,\n",
    "                           n_clusters_per_class=1, random_state=0)\n",
    "\n",
    "# Create the RFE object and compute a cross-validated score.\n",
    "svc = SVC(kernel=\"linear\")\n",
    "# The \"accuracy\" scoring is proportional to the number of correct\n",
    "# classifications\n",
    "rfecv = RFECV(estimator=svc, step=1, cv=StratifiedKFold(2),\n",
    "              scoring='accuracy')\n",
    "rfecv.fit(X, y)\n",
    "\n",
    "print(\"Optimal number of features : %d\" % rfecv.n_features_)\n",
    "\n",
    "trace = go.Scatter(x=list(range(1, len(rfecv.grid_scores_) + 1)), \n",
    "                   y=rfecv.grid_scores_)\n",
    "\n",
    "layout = go.Layout(xaxis=dict(title=\"Number of features selected\",\n",
    "                              showgrid=False),\n",
    "                   yaxis=dict(title=\"Cross validation score (nb of correct classifications)\",\n",
    "                              showgrid=False)\n",
    "                  )\n",
    "\n",
    "fig = go.Figure(data=[trace], layout=layout)\n",
    "\n",
    "iplot(fig)"
   ]
  },
  {
   "cell_type": "code",
   "execution_count": null,
   "metadata": {
    "collapsed": true
   },
   "outputs": [],
   "source": []
  }
 ],
 "metadata": {
  "kernelspec": {
   "display_name": "Python 3",
   "language": "python",
   "name": "python3"
  },
  "language_info": {
   "codemirror_mode": {
    "name": "ipython",
    "version": 3
   },
   "file_extension": ".py",
   "mimetype": "text/x-python",
   "name": "python",
   "nbconvert_exporter": "python",
   "pygments_lexer": "ipython3",
   "version": "3.6.3"
  }
 },
 "nbformat": 4,
 "nbformat_minor": 2
}
