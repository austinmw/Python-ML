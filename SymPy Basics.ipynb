{
 "cells": [
  {
   "cell_type": "code",
   "execution_count": 31,
   "metadata": {
    "collapsed": true
   },
   "outputs": [],
   "source": [
    "# Display full output\n",
    "from IPython.core.interactiveshell import InteractiveShell\n",
    "InteractiveShell.ast_node_interactivity = \"all\""
   ]
  },
  {
   "cell_type": "markdown",
   "metadata": {},
   "source": [
    "**SymPy Modules Reference**  \n",
    "http://docs.sympy.org/latest/modules/stats.html (many more examples)"
   ]
  },
  {
   "cell_type": "code",
   "execution_count": 32,
   "metadata": {
    "collapsed": false
   },
   "outputs": [],
   "source": [
    "from sympy.stats import P, E, variance, Die, Normal\n",
    "from sympy import Eq, simplify"
   ]
  },
  {
   "cell_type": "markdown",
   "metadata": {},
   "source": [
    "Examples"
   ]
  },
  {
   "cell_type": "code",
   "execution_count": 43,
   "metadata": {
    "collapsed": false
   },
   "outputs": [
    {
     "data": {
      "text/plain": [
       "1/2"
      ]
     },
     "execution_count": 43,
     "metadata": {},
     "output_type": "execute_result"
    },
    {
     "data": {
      "text/plain": [
       "7"
      ]
     },
     "execution_count": 43,
     "metadata": {},
     "output_type": "execute_result"
    },
    {
     "data": {
      "text/plain": [
       "35/6"
      ]
     },
     "execution_count": 43,
     "metadata": {},
     "output_type": "execute_result"
    },
    {
     "data": {
      "text/plain": [
       "-erf(sqrt(2)/2)/2 + 1/2"
      ]
     },
     "execution_count": 43,
     "metadata": {},
     "output_type": "execute_result"
    },
    {
     "data": {
      "text/plain": [
       "1"
      ]
     },
     "execution_count": 43,
     "metadata": {},
     "output_type": "execute_result"
    },
    {
     "data": {
      "text/plain": [
       "True"
      ]
     },
     "execution_count": 43,
     "metadata": {},
     "output_type": "execute_result"
    }
   ],
   "source": [
    "X, Y = Die('X', 6), Die('Y', 6) # Define two six sided dice (name, sides)\n",
    "Z = Normal('Z', 0, 1) # Declare a Normal random variable with mean 0, std 1\n",
    "P(X > 3) # Probability X is greater than 3\n",
    "E(X+Y) # Expectation of the sum of two dice\n",
    "variance(X+Y) # Variance of the sum of two dice\n",
    "simplify(P(Z>1)) # Probability of Z being greater than 1\n",
    "\n",
    "# Conditional probability\n",
    "A = X > 3\n",
    "B = X + Y >= 10\n",
    "P(A,B) \n",
    "P(A,B) == P(B,A)*P(A)/P(B)"
   ]
  },
  {
   "cell_type": "markdown",
   "metadata": {},
   "source": [
    "**Random Variable Types**"
   ]
  },
  {
   "cell_type": "markdown",
   "metadata": {},
   "source": [
    "Finite Types"
   ]
  },
  {
   "cell_type": "code",
   "execution_count": 48,
   "metadata": {
    "collapsed": false
   },
   "outputs": [
    {
     "data": {
      "text/plain": [
       "{c: 1/3, a: 1/3, b: 1/3}"
      ]
     },
     "execution_count": 48,
     "metadata": {},
     "output_type": "execute_result"
    },
    {
     "data": {
      "text/plain": [
       "{0: 1/5, 1: 1/5, 2: 1/5, 3: 1/5, 4: 1/5}"
      ]
     },
     "execution_count": 48,
     "metadata": {},
     "output_type": "execute_result"
    }
   ],
   "source": [
    "# Create a Finite Random Variable representing a uniform distribution over the input set.\n",
    "from sympy.stats import DiscreteUniform, density\n",
    "from sympy import symbols\n",
    "X = DiscreteUniform('X', symbols('a b c')) # equally likely over a, b, c\n",
    "density(X).dict # probability density function\n",
    "Y = DiscreteUniform('Y', list(range(5))) # distribution over a range\n",
    "density(Y).dict"
   ]
  },
  {
   "cell_type": "code",
   "execution_count": 49,
   "metadata": {
    "collapsed": false
   },
   "outputs": [
    {
     "data": {
      "text/plain": [
       "{1: 1/6, 2: 1/6, 3: 1/6, 4: 1/6, 5: 1/6, 6: 1/6}"
      ]
     },
     "execution_count": 49,
     "metadata": {},
     "output_type": "execute_result"
    }
   ],
   "source": [
    "# Create a Finite Random Variable representing a fair die\n",
    "from sympy.stats import Die, density\n",
    "D6 = Die('D6', 6)\n",
    "density(D6).dict"
   ]
  },
  {
   "cell_type": "code",
   "execution_count": 53,
   "metadata": {
    "collapsed": false
   },
   "outputs": [
    {
     "data": {
      "text/plain": [
       "{0: 1/4, 1: 3/4}"
      ]
     },
     "execution_count": 53,
     "metadata": {},
     "output_type": "execute_result"
    },
    {
     "data": {
      "text/plain": [
       "{Tails: 1/2, Heads: 1/2}"
      ]
     },
     "execution_count": 53,
     "metadata": {},
     "output_type": "execute_result"
    }
   ],
   "source": [
    "# Create a Finite Random Variable representing a Bernoulli process\n",
    "from sympy.stats import Bernoulli, density\n",
    "from sympy import S # sympy.S is a shortcut to symplify\n",
    "# sympy.stats.Bernoulli(name, p, succ=1, fail=0)\n",
    "X = Bernoulli('X', S(3)/4) # 1-0 Bernoulli variable, probability = 3/4 \n",
    "density(X).dict\n",
    "X = Bernoulli('X', S.Half, 'Heads', 'Tails') # A fair coin toss\n",
    "density(X).dict"
   ]
  },
  {
   "cell_type": "code",
   "execution_count": 55,
   "metadata": {
    "collapsed": false
   },
   "outputs": [
    {
     "data": {
      "text/plain": [
       "{T: 1/2, H: 1/2}"
      ]
     },
     "execution_count": 55,
     "metadata": {},
     "output_type": "execute_result"
    },
    {
     "data": {
      "text/plain": [
       "{T: 2/5, H: 3/5}"
      ]
     },
     "execution_count": 55,
     "metadata": {},
     "output_type": "execute_result"
    }
   ],
   "source": [
    "# Create a Finite Random Variable representing a Coin toss\n",
    "# Probability p is the chance of getting \"Heads.\" Half by default\n",
    "from sympy.stats import Coin, density\n",
    "from sympy import Rational\n",
    "C = Coin('C') # A fair coin toss\n",
    "density(C).dict\n",
    "C2 = Coin('C2', Rational(3, 5)) # An unfair coin\n",
    "density(C2).dict"
   ]
  },
  {
   "cell_type": "code",
   "execution_count": 56,
   "metadata": {
    "collapsed": false
   },
   "outputs": [
    {
     "data": {
      "text/plain": [
       "{0: 1/16, 1: 1/4, 2: 3/8, 3: 1/4, 4: 1/16}"
      ]
     },
     "execution_count": 56,
     "metadata": {},
     "output_type": "execute_result"
    }
   ],
   "source": [
    "# Create a Finite Random Variable representing a binomial distribution\n",
    "# binomial interpretation: number of successes out of n indeendent Bernoulli trials\n",
    "from sympy.stats import Binomial, density\n",
    "from sympy import S\n",
    "X = Binomial('X', 4, S.Half) # Four \"coin flips\"   (n,p)\n",
    "density(X).dict\n"
   ]
  },
  {
   "cell_type": "code",
   "execution_count": 57,
   "metadata": {
    "collapsed": false
   },
   "outputs": [
    {
     "data": {
      "text/plain": [
       "{0: 1/12, 1: 5/12, 2: 5/12, 3: 1/12}"
      ]
     },
     "execution_count": 57,
     "metadata": {},
     "output_type": "execute_result"
    }
   ],
   "source": [
    "# Create a Finite RV representing a hypergeometric distribution\n",
    "from sympy.stats import Hypergeometric, density\n",
    "from sympy import S\n",
    "X = Hypergeometric('X', 10, 5, 3) # 10 marbles, 5 white (success), 3 draws\n",
    "density(X).dict"
   ]
  },
  {
   "cell_type": "code",
   "execution_count": 58,
   "metadata": {
    "collapsed": false
   },
   "outputs": [
    {
     "data": {
      "text/plain": [
       "2.00000000000000"
      ]
     },
     "execution_count": 58,
     "metadata": {},
     "output_type": "execute_result"
    },
    {
     "data": {
      "text/plain": [
       "0.700000000000000"
      ]
     },
     "execution_count": 58,
     "metadata": {},
     "output_type": "execute_result"
    }
   ],
   "source": [
    "# Create a Finite RV given a dict representing the density\n",
    "from sympy.stats import FiniteRV, P, E\n",
    "density = {0: .1, 1: .2, 2: .3, 3: .4}\n",
    "X = FiniteRV('X', density)\n",
    "E(X)\n",
    "P(X >= 2)"
   ]
  },
  {
   "cell_type": "markdown",
   "metadata": {},
   "source": [
    "Discrete Types"
   ]
  },
  {
   "cell_type": "code",
   "execution_count": 63,
   "metadata": {
    "collapsed": false
   },
   "outputs": [
    {
     "data": {
      "text/plain": [
       "(4/5)**(z - 1)/5"
      ]
     },
     "execution_count": 63,
     "metadata": {},
     "output_type": "execute_result"
    },
    {
     "data": {
      "text/plain": [
       "5"
      ]
     },
     "execution_count": 63,
     "metadata": {},
     "output_type": "execute_result"
    },
    {
     "data": {
      "text/plain": [
       "20"
      ]
     },
     "execution_count": 63,
     "metadata": {},
     "output_type": "execute_result"
    }
   ],
   "source": [
    "# Create a discrete random variable with a Geometric distribution\n",
    "from sympy.stats import Geometric, density, E, variance\n",
    "from sympy import Symbol, S\n",
    "p = S.One / 5\n",
    "z = Symbol(\"z\")\n",
    "X = Geometric(\"x\", p)\n",
    "density(X)(z)\n",
    "E(X)\n",
    "variance(X)"
   ]
  },
  {
   "cell_type": "code",
   "execution_count": 64,
   "metadata": {
    "collapsed": false
   },
   "outputs": [
    {
     "data": {
      "text/plain": [
       "lambda**z*exp(-lambda)/factorial(z)"
      ]
     },
     "execution_count": 64,
     "metadata": {},
     "output_type": "execute_result"
    },
    {
     "data": {
      "text/plain": [
       "lambda"
      ]
     },
     "execution_count": 64,
     "metadata": {},
     "output_type": "execute_result"
    },
    {
     "data": {
      "text/plain": [
       "lambda"
      ]
     },
     "execution_count": 64,
     "metadata": {},
     "output_type": "execute_result"
    }
   ],
   "source": [
    "# Create a discrete random variable with a Poisson distribution\n",
    "from sympy.stats import Poisson, density, E, variance\n",
    "from sympy import Symbol, simplify\n",
    "rate = Symbol(\"lambda\", positive=True)\n",
    "z = Symbol(\"z\")\n",
    "X = Poisson(\"x\", rate)\n",
    "density(X)(z)\n",
    "E(X)\n",
    "simplify(variance(X))"
   ]
  },
  {
   "cell_type": "markdown",
   "metadata": {},
   "source": [
    "Continuous Types"
   ]
  },
  {
   "cell_type": "code",
   "execution_count": 67,
   "metadata": {
    "collapsed": false
   },
   "outputs": [
    {
     "data": {
      "text/plain": [
       "lambda*exp(-lambda*z)"
      ]
     },
     "execution_count": 67,
     "metadata": {},
     "output_type": "execute_result"
    },
    {
     "data": {
      "text/plain": [
       "Piecewise((1 - exp(-lambda*z), z >= 0), (0, True))"
      ]
     },
     "execution_count": 67,
     "metadata": {},
     "output_type": "execute_result"
    },
    {
     "data": {
      "text/plain": [
       "1/lambda"
      ]
     },
     "execution_count": 67,
     "metadata": {},
     "output_type": "execute_result"
    },
    {
     "data": {
      "text/plain": [
       "lambda**(-2)"
      ]
     },
     "execution_count": 67,
     "metadata": {},
     "output_type": "execute_result"
    },
    {
     "data": {
      "text/plain": [
       "2"
      ]
     },
     "execution_count": 67,
     "metadata": {},
     "output_type": "execute_result"
    },
    {
     "data": {
      "text/plain": [
       "10*exp(-10*z)"
      ]
     },
     "execution_count": 67,
     "metadata": {},
     "output_type": "execute_result"
    },
    {
     "data": {
      "text/plain": [
       "1/10"
      ]
     },
     "execution_count": 67,
     "metadata": {},
     "output_type": "execute_result"
    },
    {
     "data": {
      "text/plain": [
       "1/10"
      ]
     },
     "execution_count": 67,
     "metadata": {},
     "output_type": "execute_result"
    }
   ],
   "source": [
    "# Create a continuous random variable with an Exponential distribution\n",
    "from sympy.stats import Exponential, density, cdf, E\n",
    "from sympy.stats import variance, std, skewness\n",
    "from sympy import Symbol\n",
    "l = Symbol(\"lambda\", positive=True)\n",
    "z = Symbol(\"z\")\n",
    "X = Exponential(\"x\", l)\n",
    "density(X)(z) \n",
    "cdf(X)(z)\n",
    "E(X)\n",
    "variance(X)\n",
    "skewness(X)\n",
    "X = Exponential('x', 10)\n",
    "density(X)(z)\n",
    "E(X)\n",
    "std(X)"
   ]
  },
  {
   "cell_type": "code",
   "execution_count": 78,
   "metadata": {
    "collapsed": false
   },
   "outputs": [
    {
     "data": {
      "text/plain": [
       "sqrt(2)*exp(-(-mu + z)**2/(2*sigma**2))/(2*sqrt(pi)*sigma)"
      ]
     },
     "execution_count": 78,
     "metadata": {},
     "output_type": "execute_result"
    },
    {
     "name": "stdout",
     "output_type": "stream",
     "text": [
      "   /  ___          \\    \n",
      "   |\\/ 2 *(-mu + z)|    \n",
      "erf|---------------|    \n",
      "   \\    2*sigma    /   1\n",
      "-------------------- + -\n",
      "         2             2\n"
     ]
    },
    {
     "data": {
      "text/plain": [
       "0"
      ]
     },
     "execution_count": 78,
     "metadata": {},
     "output_type": "execute_result"
    },
    {
     "data": {
      "text/plain": [
       "sqrt(2)*exp(-z**2/2)/(2*sqrt(pi))"
      ]
     },
     "execution_count": 78,
     "metadata": {},
     "output_type": "execute_result"
    },
    {
     "data": {
      "text/plain": [
       "1"
      ]
     },
     "execution_count": 78,
     "metadata": {},
     "output_type": "execute_result"
    },
    {
     "data": {
      "text/plain": [
       "0"
      ]
     },
     "execution_count": 78,
     "metadata": {},
     "output_type": "execute_result"
    }
   ],
   "source": [
    "# Create a continuous random variable with a Normal distribution\n",
    "from sympy.stats import Normal, density, E, std, cdf, skewness\n",
    "from sympy import Symbol, simplify, pprint, factor, together, factor_terms\n",
    "mu = Symbol(\"mu\")\n",
    "sigma = Symbol(\"sigma\", positive=True)\n",
    "z = Symbol(\"z\")\n",
    "X = Normal(\"x\", mu, sigma)\n",
    "density(X)(z)\n",
    "C = simplify(cdf(X))(z) # it needs a little more help...\n",
    "pprint(C, use_unicode=False)\n",
    "simplify(skewness(X))\n",
    "X = Normal(\"x\", 0, 1) # mean 0, std 1\n",
    "density(X)(z)\n",
    "E(2*X + 1)\n",
    "simplify(std(2*x + 1))"
   ]
  },
  {
   "cell_type": "markdown",
   "metadata": {},
   "source": [
    "Interface"
   ]
  },
  {
   "cell_type": "code",
   "execution_count": 79,
   "metadata": {
    "collapsed": false
   },
   "outputs": [
    {
     "data": {
      "text/plain": [
       "1/2"
      ]
     },
     "execution_count": 79,
     "metadata": {},
     "output_type": "execute_result"
    },
    {
     "data": {
      "text/plain": [
       "1/4"
      ]
     },
     "execution_count": 79,
     "metadata": {},
     "output_type": "execute_result"
    },
    {
     "data": {
      "text/plain": [
       "5/12"
      ]
     },
     "execution_count": 79,
     "metadata": {},
     "output_type": "execute_result"
    }
   ],
   "source": [
    "from sympy.stats import P, Die\n",
    "from sympy import Eq\n",
    "X, Y = Die('X', 6), Die('Y', 6)\n",
    "P(X > 3)\n",
    "P(Eq(X, 5), X > 2) # Probability that X == 5 given that X > 2\n",
    "P(X > Y)"
   ]
  },
  {
   "cell_type": "code",
   "execution_count": 91,
   "metadata": {
    "collapsed": false
   },
   "outputs": [
    {
     "data": {
      "text/plain": [
       "13"
      ]
     },
     "execution_count": 91,
     "metadata": {},
     "output_type": "execute_result"
    }
   ],
   "source": [
    "# Sampling\n",
    "from sympy.stats import Die, sample\n",
    "X, Y, Z = Die('X', 6), Die('Y', 6), Die('Z', 6)\n",
    "die_roll = sample(X + Y + Z)\n",
    "die_roll"
   ]
  },
  {
   "cell_type": "code",
   "execution_count": 107,
   "metadata": {
    "collapsed": false
   },
   "outputs": [
    {
     "data": {
      "text/plain": [
       "[3.46545766522448, 6.22759412635572, 6.71806144206117]"
      ]
     },
     "execution_count": 107,
     "metadata": {},
     "output_type": "execute_result"
    }
   ],
   "source": [
    "# Iterator of realizations from the expression\n",
    "from sympy.stats import Normal, sample_iter\n",
    "X = Normal('X', 0, 1)\n",
    "expr = X*X + 3\n",
    "iterator = sample_iter(expr, numsamples=3)\n",
    "list(iterator)"
   ]
  }
 ],
 "metadata": {
  "anaconda-cloud": {},
  "kernelspec": {
   "display_name": "Python [conda root]",
   "language": "python",
   "name": "conda-root-py"
  },
  "language_info": {
   "codemirror_mode": {
    "name": "ipython",
    "version": 3
   },
   "file_extension": ".py",
   "mimetype": "text/x-python",
   "name": "python",
   "nbconvert_exporter": "python",
   "pygments_lexer": "ipython3",
   "version": "3.5.2"
  }
 },
 "nbformat": 4,
 "nbformat_minor": 1
}
