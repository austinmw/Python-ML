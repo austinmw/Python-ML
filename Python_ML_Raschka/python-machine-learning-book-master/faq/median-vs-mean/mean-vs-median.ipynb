{
 "cells": [
  {
   "cell_type": "markdown",
   "metadata": {},
   "source": [
    "data source: https://opendata.socrata.com/dataset/FGCU-salary-dataset/fjqw-ymup"
   ]
  },
  {
   "cell_type": "code",
   "execution_count": 18,
   "metadata": {
    "collapsed": false
   },
   "outputs": [
    {
     "data": {
      "text/html": [
       "<div>\n",
       "<table border=\"1\" class=\"dataframe\">\n",
       "  <thead>\n",
       "    <tr style=\"text-align: right;\">\n",
       "      <th></th>\n",
       "      <th>Last Name</th>\n",
       "      <th>First Name</th>\n",
       "      <th>Annual Salary</th>\n",
       "      <th>FGCU Hire Date</th>\n",
       "      <th>College/Dept</th>\n",
       "      <th>Class Title</th>\n",
       "      <th>Working Title</th>\n",
       "      <th>Employee Class</th>\n",
       "    </tr>\n",
       "  </thead>\n",
       "  <tbody>\n",
       "    <tr>\n",
       "      <th>0</th>\n",
       "      <td>Gray-Vickrey</td>\n",
       "      <td>Margaret</td>\n",
       "      <td>$127972.27</td>\n",
       "      <td>07/01/1996</td>\n",
       "      <td>Academic Affairs Administration</td>\n",
       "      <td>Assoc. Vice President/Prof.</td>\n",
       "      <td>Assc. Provost/Assoc. VP C&amp;I</td>\n",
       "      <td>Faculty Admin 10, 11, 12 mo</td>\n",
       "    </tr>\n",
       "    <tr>\n",
       "      <th>1</th>\n",
       "      <td>Rogers</td>\n",
       "      <td>Hudson</td>\n",
       "      <td>$134316.57</td>\n",
       "      <td>08/07/1997</td>\n",
       "      <td>Academic Affairs Administration</td>\n",
       "      <td>Assoc. Vice President/Prof.</td>\n",
       "      <td>Associate VP &amp; Professor</td>\n",
       "      <td>Faculty Admin 10, 11, 12 mo</td>\n",
       "    </tr>\n",
       "    <tr>\n",
       "      <th>2</th>\n",
       "      <td>Hart</td>\n",
       "      <td>Erika</td>\n",
       "      <td>$26650.11</td>\n",
       "      <td>08/03/2001</td>\n",
       "      <td>Academic Affairs Administration</td>\n",
       "      <td>Program Asst</td>\n",
       "      <td>Program Assistant</td>\n",
       "      <td>Support Personnel NonExempt PT</td>\n",
       "    </tr>\n",
       "    <tr>\n",
       "      <th>3</th>\n",
       "      <td>Deschene</td>\n",
       "      <td>Catherine</td>\n",
       "      <td>$63960.27</td>\n",
       "      <td>01/05/2004</td>\n",
       "      <td>Academic Affairs Administration</td>\n",
       "      <td>Executive Asst</td>\n",
       "      <td>Exec Asst to Provost &amp; VPAA</td>\n",
       "      <td>Administrative/Professional</td>\n",
       "    </tr>\n",
       "    <tr>\n",
       "      <th>4</th>\n",
       "      <td>Baker</td>\n",
       "      <td>Jennifer</td>\n",
       "      <td>$90000.00</td>\n",
       "      <td>05/26/2009</td>\n",
       "      <td>Academic Affairs Administration</td>\n",
       "      <td>Dir, Academic Support Services</td>\n",
       "      <td>Dir., Budgets &amp; Management Svs</td>\n",
       "      <td>Administrative/Professional</td>\n",
       "    </tr>\n",
       "  </tbody>\n",
       "</table>\n",
       "</div>"
      ],
      "text/plain": [
       "      Last Name First Name Annual Salary FGCU Hire Date  \\\n",
       "0  Gray-Vickrey   Margaret    $127972.27     07/01/1996   \n",
       "1        Rogers     Hudson    $134316.57     08/07/1997   \n",
       "2          Hart      Erika     $26650.11     08/03/2001   \n",
       "3      Deschene  Catherine     $63960.27     01/05/2004   \n",
       "4         Baker   Jennifer     $90000.00     05/26/2009   \n",
       "\n",
       "                      College/Dept                     Class Title  \\\n",
       "0  Academic Affairs Administration     Assoc. Vice President/Prof.   \n",
       "1  Academic Affairs Administration     Assoc. Vice President/Prof.   \n",
       "2  Academic Affairs Administration                    Program Asst   \n",
       "3  Academic Affairs Administration                  Executive Asst   \n",
       "4  Academic Affairs Administration  Dir, Academic Support Services   \n",
       "\n",
       "                    Working Title                  Employee Class  \n",
       "0     Assc. Provost/Assoc. VP C&I     Faculty Admin 10, 11, 12 mo  \n",
       "1        Associate VP & Professor     Faculty Admin 10, 11, 12 mo  \n",
       "2               Program Assistant  Support Personnel NonExempt PT  \n",
       "3     Exec Asst to Provost & VPAA     Administrative/Professional  \n",
       "4  Dir., Budgets & Management Svs     Administrative/Professional  "
      ]
     },
     "execution_count": 18,
     "metadata": {},
     "output_type": "execute_result"
    }
   ],
   "source": [
    "import pandas as pd\n",
    "df = pd.read_csv('./FGCU_salary_dataset.csv')\n",
    "df_m = df\n",
    "d = df_m['Annual Salary'].apply(lambda x: x.lstrip('$'))\n",
    "d = d.astype('float64')\n",
    "df.head()"
   ]
  },
  {
   "cell_type": "code",
   "execution_count": 32,
   "metadata": {
    "collapsed": false
   },
   "outputs": [
    {
     "data": {
      "image/png": "[encoded data removed]",
      "text/plain": [
       "<matplotlib.figure.Figure at 0x106d8f5f8>"
      ]
     },
     "metadata": {},
     "output_type": "display_data"
    }
   ],
   "source": [
    "%matplotlib inline\n",
    "import numpy as np\n",
    "import matplotlib.pyplot as plt\n",
    "with plt.style.context('fivethirtyeight'):\n",
    "    plt.hist(d.values, bins=50, alpha=0.4)\n",
    "    plt.axvline(np.mean(d.values), ymin=0.0, ymax=600, linewidth=2, color='k', label='mean')\n",
    "    plt.axvline(x=np.median(d.values), ymin=0.0, ymax=600, linewidth=2, color='b', linestyle='--', label='median')\n",
    "    plt.legend(loc='upper right')\n",
    "    plt.ylabel('Number of Employees')\n",
    "    plt.xlabel('Annual Salary')\n",
    "    plt.show()"
   ]
  },
  {
   "cell_type": "code",
   "execution_count": 34,
   "metadata": {
    "collapsed": false
   },
   "outputs": [],
   "source": [
    "data = np.random.normal(loc=0.0, scale=1.0, size=10000)"
   ]
  },
  {
   "cell_type": "code",
   "execution_count": 38,
   "metadata": {
    "collapsed": false
   },
   "outputs": [
    {
     "data": {
      "image/png": "[encoded data removed]",
      "text/plain": [
       "<matplotlib.figure.Figure at 0x105f8df98>"
      ]
     },
     "metadata": {},
     "output_type": "display_data"
    }
   ],
   "source": [
    "with plt.style.context('fivethirtyeight'):\n",
    "    plt.hist(data, bins=50, alpha=0.4)\n",
    "    plt.axvline(np.mean(data), ymin=0.0, ymax=600, linewidth=2, color='k', label='mean')\n",
    "    plt.axvline(x=np.median(data), ymin=0.0, ymax=600, linewidth=2, color='b', linestyle='--', label='median')\n",
    "    plt.legend(loc='upper right')\n",
    "    plt.ylabel('Count')\n",
    "    plt.xlabel('x')\n",
    "    plt.show()"
   ]
  },
  {
   "cell_type": "code",
   "execution_count": 39,
   "metadata": {
    "collapsed": false
   },
   "outputs": [
    {
     "data": {
      "text/plain": [
       "0.0033737113299363549"
      ]
     },
     "execution_count": 39,
     "metadata": {},
     "output_type": "execute_result"
    }
   ],
   "source": [
    "np.mean(data)"
   ]
  },
  {
   "cell_type": "code",
   "execution_count": 40,
   "metadata": {
    "collapsed": false
   },
   "outputs": [
    {
     "data": {
      "text/plain": [
       "0.016896725981360865"
      ]
     },
     "execution_count": 40,
     "metadata": {},
     "output_type": "execute_result"
    }
   ],
   "source": [
    "np.median(data)"
   ]
  },
  {
   "cell_type": "code",
   "execution_count": null,
   "metadata": {
    "collapsed": true
   },
   "outputs": [],
   "source": []
  }
 ],
 "metadata": {
  "kernelspec": {
   "display_name": "Python 3",
   "language": "python",
   "name": "python3"
  },
  "language_info": {
   "codemirror_mode": {
    "name": "ipython",
    "version": 3
   },
   "file_extension": ".py",
   "mimetype": "text/x-python",
   "name": "python",
   "nbconvert_exporter": "python",
   "pygments_lexer": "ipython3",
   "version": "3.5.0"
  }
 },
 "nbformat": 4,
 "nbformat_minor": 0
}
